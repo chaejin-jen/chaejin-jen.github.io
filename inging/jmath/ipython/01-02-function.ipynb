{
 "cells": [
  {
   "cell_type": "markdown",
   "metadata": {
    "slideshow": {
     "slide_type": "slide"
    }
   },
   "source": [
    "# Class 01 : 함수\n"
   ]
  },
  {
   "cell_type": "code",
   "execution_count": 1,
   "metadata": {
    "slideshow": {
     "slide_type": "skip"
    }
   },
   "outputs": [],
   "source": [
    "import numpy as np\n",
    "import matplotlib.pyplot as plt\n",
    "import matplotlib as mpl\n",
    "import sympy as sp\n",
    "\n",
    "style_name = 'bmh' #bmh\n",
    "mpl.style.use(style_name)\n",
    "np.set_printoptions(precision=4, linewidth =150)\n",
    "\n",
    "style = plt.style.library[style_name]\n",
    "style_colors = [ c['color'] for c in style['axes.prop_cycle'] ]\n"
   ]
  },
  {
   "cell_type": "markdown",
   "metadata": {
    "slideshow": {
     "slide_type": "slide"
    }
   },
   "source": [
    "## 함수"
   ]
  },
  {
   "cell_type": "markdown",
   "metadata": {},
   "source": [
    "### 수 체계\n",
    "\n",
    "#### 자연수 $\\mathbb{N}$\n",
    "\n",
    "- 사물을 셀 때나 순서를 매길 때 사용하는 수 1, 2, 3, …\n",
    "\n",
    "#### 정수 $\\mathbb{Z}$\n",
    "- 자연수에 0과 음수를 더한 것으로 …, −2, −1, 0, 1, 2, … 같은 수\n",
    "\n",
    "#### 유리수 $\\mathbb{Q}$\n",
    "- 분자, 분모로 정수를 갖는 분수로 나타낼 수 있는 수\n",
    "- Rational number: 이치에 맞는 수?\n",
    "\n",
    "#### 무리수 $\\mathbb{I}$ \n",
    "- Irrational number : 이치에 맞지 않는 수?\n",
    "- ratio: 비율\n",
    "- ir- 접두어로 반대의 의미 -> 비율이 없는 수 또는 비율로 나타낼 수 없는 수\n",
    "- 𝑒: 2.718…, 𝜋: 3.14…\n",
    "\n",
    "#### 실수 $\\mathbb{R}$\n",
    "- 유리수 + 무리수 \n"
   ]
  },
  {
   "cell_type": "markdown",
   "metadata": {
    "slideshow": {
     "slide_type": "subslide"
    }
   },
   "source": [
    "### Quantities(measurement tools)<sup>[scavec]</sup>\n",
    "\n",
    "#### 스칼라 \n",
    "\n",
    "- 어원 : 라틴어 scalar :저울 , 영어 scale/skeil/ : ~을 자로 재다, 라\n",
    "\n",
    "- 잴수있는 양만으로 표현할 수 있는 물리량, 수학적으로는 숫자 하나\n",
    "\n",
    "- 예 : 온도, 속력\n",
    "\n",
    "#### 벡터\n",
    "\n",
    "- vehere : 라틴어 '운반하다', 어떤 물체를 얼마만큼 어디로 운반하다.<sup>[전파거북이:벡터]</sup>\n",
    "\n",
    "- 양과 방향으로 표현할 수 있는 물리량\n",
    "\n",
    "- 예 : 속도, 힘\n",
    "\n",
    "- 3차원 벡터의 예 : $\\mathbf{v} = (2, 3, 4)^{\\text{T}}$\n",
    "\n",
    "- 머신러닝에서는 n차원 벡터를 다룸\n",
    "    \n"
   ]
  },
  {
   "cell_type": "markdown",
   "metadata": {
    "slideshow": {
     "slide_type": "subslide"
    }
   },
   "source": [
    "### 함수의 정의\n",
    "\n",
    "- 첫 번째 집합의 임의의 한 원소를 두 번째 집합의 오직 한 원소에 대응시키는 대응 관계<sup>[wiki:함수]</sup>\n",
    "\n",
    "- 표기 1. $f : X \\to Y$, $X$:정의역<sup>domain</sup>, $Y$:공역<sup>codomain</sup>\n",
    "\n",
    "- 표기 2. $f(X) = Y$\n",
    "\n",
    "- 실수 집합 $\\mathbb{R}$로 쓸 때 $f:\\mathbb{R} \\to \\mathbb{R}$는 실수를 실수로 대응시키는 함수 예: $f:x \\to x^2$\n",
    "\n",
    "- $f:\\mathbb{R}^2 \\to \\mathbb{R}$, $f: (x_1, x_2) \\to x_1 + x_2$\n",
    "\n",
    "- 입력되는 변수 : 독립변수, 출력되는 변수 : 종속변수\n",
    "\n",
    "<img src=\"imgs/Function_machine2.svg.png\" width=\"300\">\n",
    "<h5 align=\"center\">https://en.wikipedia.org/wiki/Function_(mathematics)#/media/File:Function_machine2.svg</h5>"
   ]
  },
  {
   "cell_type": "markdown",
   "metadata": {
    "slideshow": {
     "slide_type": "subslide"
    }
   },
   "source": [
    "- 사랑의 작대기(?) 와 같은 성질\n",
    "\n",
    "<img src=\"imgs/functions.png\" width=\"900\"/>\n",
    "\n",
    "\n"
   ]
  },
  {
   "cell_type": "markdown",
   "metadata": {
    "slideshow": {
     "slide_type": "subslide"
    }
   },
   "source": [
    "### 함수의 그래프\n",
    "\n",
    "- 독립변수와 종속변수의 관계를 그림으로 표현\n",
    "\n",
    "- 프랑스의 수학자이자 철학자 데카르트가 그래프를 좌표평면에 그리는 방법을 고안\n",
    "\n",
    "<img src=\"imgs/Rene_Descartes.jpg\" width=\"200\"/>\n",
    "<h5 align=\"center\">데카르트RENÉ DESCARTES(1596~1650), Public Domain, https://en.wikisource.org</h5>"
   ]
  },
  {
   "cell_type": "code",
   "execution_count": null,
   "metadata": {
    "slideshow": {
     "slide_type": "fragment"
    }
   },
   "outputs": [],
   "source": [
    "fig, ax = plt.subplots()\n",
    "fig.set_size_inches((10,5))\n",
    "\n",
    "x = np.linspace(-5, 5, 100)\n",
    "y1 = x**2\n",
    "y2 = (x+1)**2\n",
    "y3 = (x-1)**2\n",
    "\n",
    "ax.spines['left'].set_position('zero')\n",
    "ax.spines['bottom'].set_position('zero')\n",
    "\n",
    "ax.plot(x, y1, label=r\"$x^2$\")\n",
    "ax.plot(x, y2, label=r\"$(x+1)^2$\")\n",
    "ax.plot(x, y3, label=r\"$(x-1)^2$\")\n",
    "\n",
    "ax.plot(3, 9, 'o', color=style_colors[0])\n",
    "ax.plot(2, 9, 'o', color=style_colors[1])\n",
    "ax.plot(4, 9, 'o', color=style_colors[2])\n",
    "\n",
    "ax.legend(loc=\"upper left\", fontsize=20)\n",
    "\n",
    "plt.show()"
   ]
  },
  {
   "cell_type": "markdown",
   "metadata": {
    "slideshow": {
     "slide_type": "fragment"
    }
   },
   "source": [
    "- 위 그래프는 $x$축에서 값을 하나 선택하고 그 값을 함수에 입력하면 입력한 $x$값이 제곱되어 출력됨\n",
    "\n",
    "- 이 출력값과 같은 $y$값에서 수평선과 입력의 수직선과 교차점을 찍어 그린것이다.\n",
    "\n",
    "- 파란점은 $y=x^2$인 관계에서 $y=9$와 같은 $x$가 이루는 위치에 찍힌 점\n",
    "\n",
    "- $y = (x+1)^2$인 관계에서  $y=9$와 같아지는 $x$는 3보다 작은 값 $\\to$ 그래프가 왼쪽으로 이동\n",
    "\n",
    "- $y = (x-1)^2$인 관계에서  $y=9$와 같아지는 $x$는 3보다 큰 값 $\\to$ 그래프가 오른쪽으로 이동\n",
    "\n"
   ]
  },
  {
   "cell_type": "markdown",
   "metadata": {},
   "source": [
    "### 2차 함수는 포물선?\n",
    "\n",
    "- 좌표축 2개인 2차원 평면에서는 포물선으로 보이지만 좌표축을 하나만 써서 나타낸다면?\n",
    "\n",
    "- 아래 그림처럼 색으로 표현할 수도 있지 않을까?"
   ]
  },
  {
   "cell_type": "code",
   "execution_count": null,
   "metadata": {},
   "outputs": [],
   "source": [
    "itv = 500\n",
    "Y = np.linspace(-5, 5, itv).reshape(1, itv)**2\n",
    "\n",
    "fig, ax = plt.subplots(1, 1)\n",
    "fig.set_size_inches((10,3))\n",
    "\n",
    "norm = mpl.colors.Normalize(vmin=np.min(Y)-15, vmax=np.max(Y)+15)\n",
    "c = ax.pcolor(Y, cmap=mpl.cm.gray, norm=norm)\n",
    "\n",
    "plt.setp(ax.get_yticklabels(), visible=False)\n",
    "ax.set_xticks(np.linspace(0, itv, 11), minor=False)\n",
    "ax.set_xticklabels(np.linspace(-5, 5, 11))\n",
    "plt.xlabel(r'$x$ ', fontsize=15)\n",
    "\n",
    "fig.colorbar(c, ax=ax)\n",
    "fig.tight_layout()\n",
    "\n",
    "plt.show()"
   ]
  },
  {
   "cell_type": "markdown",
   "metadata": {},
   "source": [
    "### 합의 기호 $\\sum$\n",
    "\n",
    "- 수열 : 정의역이 자연수 전체 집합 $\\mathbb{N}$이고 공역이 실수 전체 집합 $\\mathbb{R}$인 함수\n",
    "\n",
    "$$\n",
    "f: \\mathbb{N} \\to \\mathbb{R} \n",
    "$$\n",
    "\n",
    "- 수열 2, 4, 6, 8, ...는 $f(1) = 2$, $f(2) = 4$, $f(3) = 6$처럼 입력이 숫자의 위치 출력이 주어진 숫자인 함수로 생각할 수 있다. \n",
    "\n",
    "- 수열의 첫째항부터 제 $n$항까지의 합 $a_1 + a_2 + \\cdots + a_n$을 합의기호 $\\sum$를 사용하여 다음처럼 표시한다.\n",
    "\n",
    "$$\n",
    "\\sum_{k=1}^{n} a_k = a_1 + a_2 + a_3 + \\cdots + a_n\n",
    "$$\n",
    "\n",
    "- $\\sum$의 성질\n",
    "\n",
    "$$\n",
    "\\begin{aligned}\n",
    "&\\sum_{k=1}^n \\left(a_k + b_k \\right) = \\sum_{k=1}^n a_k + \\sum_{k=1}^n b_k \\\\\n",
    "&\\sum_{k=1}^n \\left(a_k - b_k \\right) = \\sum_{k=1}^n a_k - \\sum_{k=1}^n b_k \\\\\n",
    "&\\sum_{k=1}^n c a_k = c \\sum_{k=1}^n a_k \\\\\n",
    "&\\sum_{k=1}^n c = cn\n",
    "\\end{aligned}\n",
    "$$"
   ]
  },
  {
   "cell_type": "markdown",
   "metadata": {},
   "source": [
    "### 다항함수\n",
    "\n",
    "- 단항식<sup>monomial</sup> : 2, $x$, $x^2$, $x/3$등 상수 또는 변수의 항 하나로 이루어진 식\n",
    "\n",
    "\n",
    "- 다항식<sup>polynomial</sup> : 단항식 여러개의 더하기로 연결된 식\n",
    "    - $x^2 + 3x$\n",
    "    - 다항식의 차수는 가장 높은 차수\n",
    "    \n",
    "\n",
    "<img src=\"imgs/polynomial.png\" width=\"400\">\n",
    "    \n",
    "- 다항함수<sup>polynomial function</sup> : 다항식으로 구성된 함수\n",
    "    - $f(x) = x^2 + 2x + 3$"
   ]
  },
  {
   "cell_type": "markdown",
   "metadata": {},
   "source": [
    "#### 파이썬으로 그래프 그리기\n",
    "\n",
    "- matplotlib : Numpy 배열을 기반으로 만들어진 다중 플랫폼 데이터 시각화 라이브러리\n",
    "\n",
    "- 예제 레퍼런스 : 파이썬 데이터 사이언스 핸드북<sup>[jakevdp]</sup>\n",
    "\n",
    "- 기본 플로팅\n",
    "    - x, y 값을 가지고 2차원 평면에 플롯\n",
    "    - <span class=\"code-body\">plot(x, y, options...)</span> 형식"
   ]
  },
  {
   "cell_type": "code",
   "execution_count": 2,
   "metadata": {},
   "outputs": [
    {
     "name": "stdout",
     "output_type": "stream",
     "text": [
      "[ 0.      0.101   0.202   0.303   0.404   0.5051  0.6061  0.7071  0.8081  0.9091  1.0101  1.1111  1.2121  1.3131  1.4141  1.5152  1.6162  1.7172\n",
      "  1.8182  1.9192  2.0202  2.1212  2.2222  2.3232  2.4242  2.5253  2.6263  2.7273  2.8283  2.9293  3.0303  3.1313  3.2323  3.3333  3.4343  3.5354\n",
      "  3.6364  3.7374  3.8384  3.9394  4.0404  4.1414  4.2424  4.3434  4.4444  4.5455  4.6465  4.7475  4.8485  4.9495  5.0505  5.1515  5.2525  5.3535\n",
      "  5.4545  5.5556  5.6566  5.7576  5.8586  5.9596  6.0606  6.1616  6.2626  6.3636  6.4646  6.5657  6.6667  6.7677  6.8687  6.9697  7.0707  7.1717\n",
      "  7.2727  7.3737  7.4747  7.5758  7.6768  7.7778  7.8788  7.9798  8.0808  8.1818  8.2828  8.3838  8.4848  8.5859  8.6869  8.7879  8.8889  8.9899\n",
      "  9.0909  9.1919  9.2929  9.3939  9.4949  9.596   9.697   9.798   9.899  10.    ]\n"
     ]
    }
   ],
   "source": [
    "x = np.linspace(0,10,100)\n",
    "print(x)"
   ]
  },
  {
   "cell_type": "code",
   "execution_count": 6,
   "metadata": {},
   "outputs": [
    {
     "data": {
      "image/png": "[encoded data removed]",
      "text/plain": [
       "<Figure size 720x504 with 1 Axes>"
      ]
     },
     "metadata": {
      "needs_background": "light"
     },
     "output_type": "display_data"
    }
   ],
   "source": [
    "import numpy\n",
    "import matplotlib.pyplot as plt\n",
    "\n",
    "fig = plt.figure(figsize=(10,7))\n",
    "ax = fig.add_subplot(1, 1, 1)\n",
    "\n",
    "ax.xaxis.set_tick_params(labelsize=20)\n",
    "ax.yaxis.set_tick_params(labelsize=18)\n",
    "ax.set_xlabel('$x$', fontsize=25)\n",
    "ax.set_ylabel('$y$', fontsize=25)\n",
    "\n",
    "x = np.linspace(-3, 2, 10)\n",
    "y = 2*x+4\n",
    "ax.plot(x, y, 'k')\n",
    "\n",
    "plt.show()"
   ]
  },
  {
   "cell_type": "code",
   "execution_count": null,
   "metadata": {},
   "outputs": [],
   "source": [
    "print(x)\n",
    "print(y)"
   ]
  },
  {
   "cell_type": "code",
   "execution_count": null,
   "metadata": {},
   "outputs": [],
   "source": [
    "# 아무 다항식이나 하나 정의를 해서 그림을 그려보세요.\n",
    "\n",
    "\n",
    "plt.show()"
   ]
  },
  {
   "cell_type": "markdown",
   "metadata": {},
   "source": [
    "#### 제곱근\n",
    "\n",
    "- 어떤 수의 제곱근<sup>square root</sup>은 제곱하여 그 수가 되는 수\n",
    "\n",
    "- 9의 제곱근은 3과 -3이 있다.\n",
    "\n",
    "- 제곱근 9는 $\\sqrt{9}$로 쓰고 이는 양의 제곱근을 나타내어 3과 같다.\n",
    "\n",
    "- $\\sqrt{2}$같은 경우 제곱하여 2가 되는 수인데 우리가 보통 사용하는 정수, 분수, 소수등으로 나타낼 수 없으므로 그냥 $\\sqrt{2}$상태 그대로 쓰게 되며 이는 어디까지나 숫자이다.\n",
    "\n",
    "- 따라서 $\\sqrt{2}+\\sqrt{2}$같은 경우 $\\sqrt{2}$가 두개 있다는 의미로 $2\\sqrt{2}$로 정리할 수 있으며 더이상 간단히 하기는 힘들다.\n",
    "\n",
    "- 제곱근에 대한 연산 $x>0$, $y > 0$ 일때 \n",
    "\n",
    "$$\n",
    "\\begin{aligned}\n",
    "& \\sqrt{x} \\cdot \\sqrt{y} = \\sqrt{xy} \\\\[10pt]\n",
    "& \\frac{\\sqrt{x}}{\\sqrt{y}} = \\sqrt{\\frac{x}{y}} \\\\[10pt]\n",
    "& \\sqrt{x} + \\sqrt{x} = 2\\sqrt{x} \\\\[10pt]\n",
    "& a \\sqrt{x} \\cdot b \\sqrt{y} = ab \\sqrt{xy}\n",
    "\\end{aligned}\n",
    "$$\n",
    "\n",
    "- 추가로 다음 두 식의 차이에 주의하자.\n",
    "\n",
    "$$\n",
    "\\begin{aligned}\n",
    "& \\left(\\sqrt{x}\\right)^2 = x \\\\[10pt] \n",
    "& \\sqrt{x^2} = \\lvert x \\rvert \\\\[10pt]\n",
    "\\end{aligned}\n",
    "$$"
   ]
  },
  {
   "cell_type": "markdown",
   "metadata": {},
   "source": [
    "#### 거듭제곱근\n",
    "\n",
    "- 제곱근과 마찬가지로 어떤 수의 $n$거듭제곱근은 $n$번 거듭제곱하여 그수가 되는 수\n",
    "\n",
    "- 다시말해 $x^n = a$를 만족시키는 $x$를 $a$의 $n$제곱근이라 한다.\n",
    "\n",
    "- $n$번 거듭제곱하여 양수 $a$가 되는 실수를 $\\sqrt[n]{a}$로 적는다.\n",
    "\n",
    "- 이때 $n$이 찍수인 경우는 $\\pm \\sqrt[n]{a}$로 실수인 거듭제곱근이 2개($a>0$인 경우), $n$이 홀수인 경우 $\\sqrt[n]{a}$로 실수인 거듭제곱근이 1개 존재한다.\n",
    "\n",
    "- 앞서 살펴본 $a$의 제곱근의 경우 일반적으로 이야기하면 2제곱근이 되고 2번 거듭제곱하여 $a$가 되는 수이므로 $\\sqrt[2]{a}$로 적여야 되나 보통 제곱근의 경우는 2를 생략하고 $\\sqrt{a}$로 적는다.\n",
    "\n",
    "- 거듭제곱근의 성질  $x>0$,$y>0$이고 $m$, $n$이 양의 정수 일때\n",
    "\n",
    "$$\n",
    "\\begin{aligned}\n",
    "& 1) \\,\\, \\sqrt[n]{x} \\sqrt[n]{y} = \\sqrt[n]{xy} \\\\[10pt] \n",
    "& 2) \\,\\, \\frac{\\sqrt[n]{x}}{\\sqrt[n]{y}} = \\sqrt[n]{\\frac{x}{y}} \\\\[10pt]\n",
    "& 3) \\,\\, \\left(\\sqrt[n]{x}\\right)^m =  \\sqrt[n]{x^m} \\\\[10pt]\n",
    "& 4) \\,\\, \\sqrt[m]{\\sqrt[n]{x}} = \\sqrt[mn]{x}\n",
    "\\end{aligned}\n",
    "$$\n"
   ]
  },
  {
   "cell_type": "markdown",
   "metadata": {},
   "source": [
    "- 1) $\\sqrt[n]{x} \\sqrt[n]{y} = \\sqrt[n]{xy}$\n",
    "    - $\\left(\\sqrt[n]{x}\\sqrt[n]{y}\\right)^n =\\left(\\sqrt[n]{x}\\right)^n \\left(\\sqrt[n]{y}\\right)^n =  xy$. \n",
    "    - 이 때 $\\sqrt[n]{x}>0$, $\\sqrt[n]{y}>0$이므로 두개가 곱해진 $\\sqrt[n]{x}\\sqrt[n]{y}$도 0보다 크다. \n",
    "    - 즉, 양수인 $\\sqrt[n]{x}\\sqrt[n]{y}$를 $n$ 거듭제곱해서 $xy$가 되었으므로 $\\sqrt[n]{x}\\sqrt[n]{y}$는 $xy$의 양의 $n$제곱근, $\\sqrt[n]{xy}$이다. \n",
    "    - 2)도 같은 방법으로 보일 수 있다."
   ]
  },
  {
   "cell_type": "markdown",
   "metadata": {},
   "source": [
    "- 3) $\\left(\\sqrt[n]{x}\\right)^m =  \\sqrt[n]{x^m}$\n",
    "    - $\\left( \\left(\\sqrt[n]{x}\\right)^m  \\right)^n  = \\left( \\left(\\sqrt[n]{x}\\right)^n  \\right)^m = x^m$. \n",
    "    - 이 때 $\\sqrt[n]{x}>0$이고 $\\left(\\sqrt[n]{x}\\right)^m>0$이다. \n",
    "    - 즉 양수인 $\\left(\\sqrt[n]{x}\\right)^m$를 $n$ 거듭제곱하여 $x^m$이 되었으므로 $\\left(\\sqrt[n]{x}\\right)^m$은 $x^m$의 양의 $n$거듭제곱근, $\\sqrt[n]{x^m}$이다."
   ]
  },
  {
   "cell_type": "markdown",
   "metadata": {},
   "source": [
    "- 4) $\\sqrt[m]{\\sqrt[n]{x}} = \\sqrt[mn]{x}$\n",
    "    - $\\left(\\sqrt[m]{\\sqrt[n]{x}}\\right)^m = \\sqrt[n]{x}$이고 이를 다시 한번 $n$거듭제곱하면 $\\left( \\sqrt[n]{x} \\right)^n = x$. \n",
    "    - 따라서 $\\left[\\left(\\sqrt[m]{\\sqrt[n]{x}}\\right)^m\\right]^n = \\left[\\sqrt[m]{\\sqrt[n]{x}}\\right]^{mn} = x$. \n",
    "    - 이때 $\\sqrt[m]{\\sqrt[n]{x}}>0$이고, 양수인 $\\sqrt[m]{\\sqrt[n]{x}}$을 $mn$ 거듭제곱하여 $x$가 되었으므로 $\\sqrt[m]{\\sqrt[n]{x}}$은 $x$의 양의 $mn$거듭제곱근, $\\sqrt[mn]{x}$이다."
   ]
  },
  {
   "cell_type": "markdown",
   "metadata": {},
   "source": [
    "- 거듭제곱근 구하기\n",
    "$$\n",
    "\\sqrt[4]{3} \\cdot \\sqrt[4]{27} = \\sqrt[4]{3} \\cdot \\sqrt[4]{3^3} =  \\sqrt[4]{3^4}= 3\n",
    "$$\n",
    "    - sympy 모듈 사용해서 다음처럼 임의의 숫자 $x$의 $n$제곱근을 구할 수 있다. \n",
    "    - `root(x, n)`\n",
    "    "
   ]
  },
  {
   "cell_type": "code",
   "execution_count": null,
   "metadata": {},
   "outputs": [],
   "source": [
    "sp.root(3,4)*sp.root(27,4)"
   ]
  },
  {
   "cell_type": "markdown",
   "metadata": {
    "slideshow": {
     "slide_type": "subslide"
    }
   },
   "source": [
    "### 지수 함수\n",
    "\n",
    "- 로그함수와 함께 머신러닝에 자주 등장하는 대표적인 일변수-실함수\n",
    "\n",
    "- 지수함수\n",
    "$$ y = a^x \\qquad a>0, a \\ne 1$$\n",
    "\n",
    "- 그래프는 $a$에 따라 달라짐\n",
    "\n",
    "- $a>1$: 양의 방향으로 증가, $0<a<1$: 양의 방향으로 감소\n",
    "\n",
    "- 아래 그래프는 실수 전체 $x$에 대해서 대응하는 $y$가 있는 것처럼 보이는데\n",
    "\n",
    "- 그렇다면 $2^{0.3}$따위는 어떻게 정의되는 것일까?\n"
   ]
  },
  {
   "cell_type": "code",
   "execution_count": null,
   "metadata": {
    "slideshow": {
     "slide_type": "fragment"
    }
   },
   "outputs": [],
   "source": [
    "fig, ax = plt.subplots()\n",
    "fig.set_size_inches((10,5))\n",
    "\n",
    "ax.spines['left'].set_position('zero')\n",
    "ax.spines['bottom'].set_position('zero')\n",
    "\n",
    "x = np.linspace(-2, 2, 100)\n",
    "A = [2, 3, 1/2, 1/3]\n",
    "\n",
    "for a in A :\n",
    "    ax.plot(x, a**x, lw=3, label=r'${:.1f}^x$'.format(a)) \n",
    "   \n",
    "plt.legend(fontsize=20);\n",
    "plt.show()"
   ]
  },
  {
   "cell_type": "markdown",
   "metadata": {
    "slideshow": {
     "slide_type": "subslide"
    }
   },
   "source": [
    "#### 몇가지 지수법칙\n",
    "$$\n",
    "\\begin{aligned}\n",
    "& a^m a^n = a^{m+n} \\\\[10pt]\n",
    "& a^m \\div a^n = a^{m-n}\\\\[10pt]\n",
    "& \\left(a^m\\right)^n = a^{mn} \\\\[10pt]\n",
    "& \\left(ab\\right)^m = a^{m}b^{m} \\\\[10pt]\n",
    "& a^0 = 1  \\qquad \\because \\frac{a^m}{a^{m}} = a^{m-m} = a^0 = 1 \\\\[10pt] \n",
    "& a^{-m}=\\frac{1}{a^m} \\qquad \\because a^m a^{-m} = a^{m+(-m)} = a^0 = 1 \\\\[10pt]\n",
    "& a^{\\frac{m}{n}} = \\sqrt[n]{a^m} \\qquad (a > 0)\n",
    "\\end{aligned}\n",
    "$$"
   ]
  },
  {
   "cell_type": "markdown",
   "metadata": {},
   "source": [
    "- 마지막 식은 다음처럼 보일 수 있다. \n",
    "\n",
    "- $\\left( a^{\\frac{m}{n}} \\right)^{n} =  a^{\\frac{m}{n}n} =  a^m$. $a^{\\frac{m}{n}}$를 $n$ 거듭제곱했더니 $a^m$이 되었으므로 $a^{\\frac{m}{n}}$은 $a^m$의 $n$제곱근이다. "
   ]
  },
  {
   "cell_type": "markdown",
   "metadata": {
    "slideshow": {
     "slide_type": "subslide"
    }
   },
   "source": [
    "#### 자연상수, 무리수 $e$\n",
    "\n",
    "- 아코프 베르누이에 의해 다음식이 수렴함이 발견 \n",
    "\n",
    "- 고트프리트 빌헬름 라이프니츠에의해 상수 $b$로 처음 사용\n",
    "\n",
    "- 레온하르트 오일러에 의해 $e$로 처음 표기\n",
    "\n",
    "$$\n",
    "\\lim_{x \\to 0} \\left(1+x\\right)^{\\frac{1}{x}} = e = 2.718...\n",
    "$$\n",
    "\n",
    "$$\n",
    "\\lim_{x \\to \\infty} \\left(1+\\frac{1}{x}\\right)^{x} = e = 2.718...\n",
    "$$\n",
    "\n",
    "- $e$의 지수함수 표기\n",
    "    - 지수 표현이 너무 복잡하고 길어지면 쓰기 불편하니까 $\\exp()$ 형태로 많이 적음\n",
    "\n",
    "$$\n",
    "f(x) = e^x = \\exp(x)\n",
    "$$"
   ]
  },
  {
   "cell_type": "code",
   "execution_count": null,
   "metadata": {
    "slideshow": {
     "slide_type": "fragment"
    }
   },
   "outputs": [],
   "source": [
    "plt.figure(figsize=(15,6))\n",
    "\n",
    "x = np.linspace(0.001, 100, 3000)\n",
    "\n",
    "e1 = (1+x)**(1/x)\n",
    "e2 = (1+(1/x))**x\n",
    "\n",
    "plt.plot(x, np.ones(x.shape)*np.e, '--', label=\"e\", lw=3)\n",
    "plt.plot(x, e1, label=r\"$(1+x)^{\\frac{1}{x}}$\", lw=3)\n",
    "plt.plot(x, e2, label=r\"$(1+\\frac{1}{x})^x$\", lw=3)\n",
    "plt.legend(fontsize=20)\n",
    "\n",
    "plt.show()"
   ]
  },
  {
   "cell_type": "markdown",
   "metadata": {},
   "source": [
    "### 역함수\n",
    "\n",
    "- $f : X \\to Y$ 일 때 $g: Y \\to X$인 함수가 있어서 $f(x)=y$일 때 $g(y)=x$를 만족하는 함수\n",
    "\n",
    "- $f$의 역함수가 존재할 필요충분조건 : $f$가 일대일 대응함수\n",
    "\n",
    "- 표기법 : $f^{-1} : Y \\to X, x = f^{-1}(y)$\n",
    "\n",
    "- 함수와 그의 역함수의 그래프는 $y = x$에 대칭 : 지수함수와 로그함수 그래프로 확인\n",
    "\n",
    "<img src=\"imgs/inv_functions.png\"/>\n",
    "\n",
    "- 역함수의 간단한 예: 섭씨 화씨 온도변환\n",
    "\n",
    "- 화씨 F를 섭씨 C로 변환\n",
    "\n",
    "$$\n",
    "C = \\frac{5}{9}(F-32)\n",
    "$$\n",
    "\n",
    "- 섭씨 C를 화씨 F로 변환\n",
    "\n",
    "$$\n",
    "F= \\frac{9}{5}C+32\n",
    "$$"
   ]
  },
  {
   "cell_type": "markdown",
   "metadata": {
    "slideshow": {
     "slide_type": "subslide"
    }
   },
   "source": [
    "### 로그 함수\n",
    "\n",
    "- 로그 정의\n",
    "\n",
    "$$\n",
    "\\log_{a} x = c\n",
    "$$\n",
    "\n",
    "- 로그는 숫자, 위 식에서 $a$를 $x$로 만들기 위해 $a$의 어깨위에 거듭 제곱 되어야 하는 숫자가 로그 \n",
    "\n",
    "$$ a^c = x$$\n",
    "\n",
    "- 따라서 정의대로 써보면 \n",
    "\n",
    "$$\n",
    "a^{\\log_a x} = x\n",
    "$$\n",
    "\n",
    "- $x$를 바꿔가면서 함수처럼 생각해볼 수 있다.\n",
    "\n",
    "- 자연로그 : 특히 $a$가 $e$인 경우 $\\log_{e}$를 $\\ln$으로 표시\n",
    "\n",
    "- 식을 보면 로그의 출력이 지수식의 입력으로 들어가고 지수식의 출력이 로그의 입력으로 $\\implies$ 역함수 관계\n"
   ]
  },
  {
   "cell_type": "code",
   "execution_count": null,
   "metadata": {
    "slideshow": {
     "slide_type": "fragment"
    }
   },
   "outputs": [],
   "source": [
    "x = np.linspace(-2, 2, 100)\n",
    "x2 = np.linspace(0.01, 2, 100)\n",
    "\n",
    "A = [10, np.e]\n",
    "\n",
    "fig, ax = plt.subplots()\n",
    "fig.set_size_inches((8,8))\n",
    "\n",
    "ax.spines['left'].set_position('zero')\n",
    "ax.spines['bottom'].set_position('zero')\n",
    "\n",
    "for i, a in enumerate(A) :\n",
    "    plt.plot(x, a**x, '--', lw=3, label='${:.1f}^x$'.format(a), color=style_colors[i]) \n",
    "\n",
    "ax.plot(x2, np.log10(x2), lw=3, label='$log_{10}(x)$')\n",
    "ax.plot(x2, np.log(x2), lw=3, label='$log_e(x)$')\n",
    "ax.plot(x, x, '--', color='k')\n",
    "\n",
    "ax.legend(fontsize=20)\n",
    "ax.axis('equal')\n",
    "\n",
    "ax.axis('square')\n",
    "plt.xlim(-2, 2)\n",
    "plt.ylim(-2, 2)\n",
    "\n",
    "plt.show()"
   ]
  },
  {
   "cell_type": "markdown",
   "metadata": {
    "slideshow": {
     "slide_type": "subslide"
    }
   },
   "source": [
    "#### 로그의 성질(참고)\n",
    "\n",
    "- $ \\log_a 1 = 0, \\log_a a = 1$, $a^{\\log_{a} 1} = 1$, $a^{\\log_{a} a} = a$\n",
    "\n",
    "- $ \\log_a M N = \\log_a M + \\log_a N$\n",
    "    - $\\log_a M N$은 $a$를 $MN$으로 만들기 위해 어깨위에 올라가는 수 이므로 정의대로 쓰고, $M$과 $N$도 역시 같은 정의를 적용해서 쓰면\n",
    "\n",
    "$$\n",
    "\\begin{aligned}\n",
    "& a^{\\color{RoyalBlue}{\\log_{a} MN}} = MN \\\\[5pt]\n",
    "& a^{\\log_{a} M } = M , \\quad a^{\\log_{a} N} = N \\\\[5pt]\n",
    "& a^{\\log_{a} M } \\cdot a^{\\log_{a} N } = MN  \\\\[5pt]\n",
    "& a^{\\color{RoyalBlue}{\\log_{a} M + \\log_{a} N}} = MN\n",
    "\\end{aligned}\n",
    "$$\n",
    "\n",
    "\n",
    "- $ \\log_a M^k = k \\log_a M$\n",
    "    - 위에서 보인 첫번째 성질에서 $N$을 $M$으로 두면 바로 보일 수 있다.\n",
    "\n",
    "\n",
    "- $ \\log_a \\frac{M}{N} = \\log_a M - \\log_a N$\n",
    "    - $\\log_a \\frac{M}{N}$은 $a$를 $\\frac{M}{N}$으로 만들기 위해 어깨위에 올라가는 수 이므로 정의대로 쓰고, $M$과 $N$도 역시 같은 정의를 적용해서 쓰면\n",
    "\n",
    "$$\n",
    "\\begin{aligned}\n",
    "& a^{\\color{RoyalBlue}{\\log_{a} \\frac{M}{N}}} = \\frac{M}{N} \\\\[5pt]\n",
    "& a^{\\log_{a} M } = M , \\quad a^{\\log_{a} N} = N \\\\[5pt]\n",
    "& \\frac{a^{\\log_{a} M }}{a^{\\log_{a} N }} = \\frac{M}{N}  \\\\[5pt]\n",
    "& a^{\\color{RoyalBlue}{\\log_{a} M - \\log_{a} N}} = \\frac{M}{N}\n",
    "\\end{aligned}\n",
    "$$\n",
    "\n",
    "\n",
    "\n",
    "- $\\log_a b = \\dfrac{\\log_c b}{\\log_c a}$\n",
    "    - 로그의 정의의 대로 써주면 \n",
    "\n",
    "$$\n",
    "\\begin{aligned}\n",
    "& a^{\\log_a b} =  b \\\\[5pt]\n",
    "& \\log_c \\left( a^{\\log_a b} \\right) = \\log_c b \\\\[5pt]\n",
    "& (\\log_a b)\\log_c a = \\log_c b \\quad \\because \\log_a M^k = k \\log_a M \\\\[5pt]\n",
    "& \\log_a b = \\frac{\\log_c b}{\\log_c a} \\quad \\because \\log_c a \\ne 0\n",
    "\\end{aligned}\n",
    "$$\n",
    "\n",
    "- 어떤 함수에 로그를 취해도 함수의 극점의 위치를 변화시키지 않는다.\n",
    "\n",
    "<img src=\"imgs/log-extrema.gif\"/>\n"
   ]
  },
  {
   "cell_type": "markdown",
   "metadata": {
    "slideshow": {
     "slide_type": "subslide"
    }
   },
   "source": [
    "### 함수의 합성\n",
    "\n",
    "- 함수 $f:X \\to Y$의 공역과 함수 $g : Y \\to Z$의 정의역이 같다고 할 때 $g \\circ f:X \\to Z$를 두 함수 $f$와 $g$의 합성이라고 한다.\n",
    "\n",
    "- 또는 다음처럼 표기하기도 함 $g(f(X))$\n",
    "\n",
    "- 쉽게 $f$의 출력이 $g$의 입력으로 들어감\n",
    "\n",
    "- $ f : x \\to 2x$, $g : x \\to x^2 +1 $ 일때 \n",
    "\n",
    "$$ \n",
    "g \\circ f = g(f(x)) = (2x)^2 + 1 = 4 x^2 + 1\n",
    "$$\n",
    "\n"
   ]
  },
  {
   "cell_type": "code",
   "execution_count": null,
   "metadata": {
    "slideshow": {
     "slide_type": "fragment"
    }
   },
   "outputs": [],
   "source": [
    "x = np.linspace(-5, 5, 100)\n",
    "\n",
    "f = lambda x : 2*x\n",
    "g = lambda x : x**2 + 1\n",
    "gf = lambda x : (f(x))**2 + 1\n",
    "\n",
    "fig = plt.figure()\n",
    "fig.set_size_inches((14,5))\n",
    "\n",
    "ax1 = fig.add_subplot(1, 3, 1)\n",
    "ax2 = fig.add_subplot(1, 3, 2)\n",
    "ax3 = fig.add_subplot(1, 3, 3)\n",
    "\n",
    "ax1.plot(x, f(x))\n",
    "ax1.set_title('$f(x)=2x$')\n",
    "ax1.axvline(zorder=-1, lw=4, color=style_colors[1])\n",
    "ax1.axhline(zorder=-1, lw=4, color=style_colors[3])\n",
    "\n",
    "ax2.plot(f(x), g(f(x)))\n",
    "ax2.set_title('$g(x)=x^2 + 1$')\n",
    "ax2.axvline(zorder=-1, lw=4, color=style_colors[2])\n",
    "ax2.axhline(zorder=-1, lw=4, color=style_colors[1])\n",
    "\n",
    "ax3.plot( x, g(f(x)) )\n",
    "ax3.set_title('$g \\circ f(x)=4x^2 + 1$')\n",
    "ax3.axvline(zorder=-1, lw=4, color=style_colors[2])\n",
    "ax3.axhline(zorder=-1, lw=4, color=style_colors[3])\n",
    "\n",
    "x0 = 2\n",
    "ax1.plot((x0, x0), (0, f(x0)), '--', color=style_colors[1])\n",
    "ax1.plot((x0, 0), (f(x0), f(x0)), '--', color=style_colors[1])\n",
    "ax1.plot(x0, f(x0), 'o')\n",
    "ax1.text(0, f(x0)+0.4, \"{}\".format(f(x0)), fontsize=15)\n",
    "\n",
    "ax2.plot((f(x0), f(x0)), (0, g(f(x0))), '--', color=style_colors[1])\n",
    "ax2.plot((f(x0), 0), (g(f(x0)), g(f(x0))), '--', color=style_colors[1])\n",
    "ax2.plot(f(x0), g(f(x0)), 'o')\n",
    "ax2.text(0, g(f(x0))+0.4, \"{}\".format(g(f(x0))), fontsize=15)\n",
    "\n",
    "ax3.plot((x0, x0), (0, gf(x0)), '--', color=style_colors[1])\n",
    "ax3.plot((x0, 0), (gf(x0), gf(x0)), '--', color=style_colors[1])\n",
    "ax3.plot(x0, gf(x0), 'o')\n",
    "ax3.text(0, gf(x0)+0.4, \"{}\".format(gf(x0)), fontsize=15)\n",
    "\n",
    "plt.show()"
   ]
  },
  {
   "cell_type": "markdown",
   "metadata": {},
   "source": [
    "- js/chain.html 파일을 크롬으로 로딩하여 함수의 합성을 인터렉티브하게 확인 가능"
   ]
  },
  {
   "cell_type": "markdown",
   "metadata": {},
   "source": [
    "#### 인공신경망<sup>artificial neural networks</sup>은 합성함수\n",
    "\n",
    "- 딥러닝이란 머신러닝 분야 중 인공신경망을 깊게 쌓아 올려 만든 모델을 학습시키는 기법에 대한 연구를 말한다. \n",
    "\n",
    "- 인공신경망의 간단한 형태는 다음 그림과 같다.\n",
    "\n",
    "<img src=\"imgs/ann.png\" width=\"500\"/>\n",
    "\n",
    "- 형태가 가지는 의미에 대해 알아보자.\n",
    "\n",
    "- 위 그림에서 동그란 노드는 어떤 값을 나타내고 노드와 노드를 연결하는 엣지는 연산을 나타낸다. \n",
    "\n",
    "- 그림을 보면 $x_1$, $x_2$, $x_3$이 $y_1$과 모두 엣지로 연결 되어있음을 알 수 있다. \n",
    "\n",
    "- 물론 $y_2$, ..., $y_4$도 모두 $x_1$, $x_2$, $x_3$과 각각 다른 엣지로 연결되어 있다. \n",
    "\n",
    "- 연결된 엣지에 어떤 숫자를 부여하고 왼쪽에서 입력되는 노드의 값과 엣지의 값을 곱하여 이를 모두 더하여 오른쪽 노드로 입력되는 식으로 연산이 수행된다. \n",
    "\n",
    "- 즉  $x_1$, $x_2$, $x_3$와 $y_1$사이의 함수관계는 다음과 같다.\n",
    "\n",
    "$$\n",
    "f(x_1, x_2, x_3) = w_{11} x_1 + w_{12} x_2 + w_{13} x_3 = y_1\n",
    "$$\n",
    "\n",
    "- 여기서 $w$는 각 엣지에 부여된 값으로 $w_{\\text{out node index},\\text{in node index}}$로 표기되었다. \n",
    "\n",
    "- 위 함수는 $x_1$, $x_2$, $x_3$를 입력받아서 $\\mathbf{y}$의 첫번째 요소 $y_1$을 만드는 함수가 된다. \n",
    "\n",
    "- 결국 파란색 입력 $\\mathbf{x}$를 입력받아서 빨간색 출력 $\\mathbf{y}$를 만들어 내는 다변수-벡터함수라는 것을 알 수 있다. \n",
    "\n",
    "- 같은 방식으로 $\\mathbf{y}$와 $\\mathbf{z}$의 관계는 $f_2 : \\mathbb{R}^4 \\to \\mathbb{R}^2$이 되고, $\\mathbf{z}$와 $C$의 관계는 $f_3 : \\mathbb{R}^2 \\to \\mathbb{R}$가 된다. \n",
    "\n",
    "- 그리고 이 합성함수의 전체적인 관계는 $f : \\mathbb{R}^3 \\to \\mathbb{R}$이 되는 것이다."
   ]
  },
  {
   "cell_type": "markdown",
   "metadata": {
    "slideshow": {
     "slide_type": "subslide"
    }
   },
   "source": [
    "### 역함수\n",
    "\n",
    "- $f : X \\to Y$ 일 때 $g: Y \\to X$인 함수가 있어서 $f(x)=y$일 때 $g(y)=x$를 만족하는 함수\n",
    "\n",
    "- $f$의 역함수가 존재할 필요충분조건 : $f$가 일대일 대응함수\n",
    "\n",
    "\n",
    "<img src=\"imgs/inv_functions.png\" width=\"900\"/>\n",
    "\n",
    "\n",
    "- 표기법 : $f^{-1} : Y \\to X, x = f^{-1}(y)$\n",
    "\n",
    "- 함수와 그의 역함수의 그래프는 $y = x$에 대칭 : 차후 지수함수와 로그함수 그래프로 확인\n",
    "\n"
   ]
  },
  {
   "cell_type": "markdown",
   "metadata": {
    "slideshow": {
     "slide_type": "slide"
    }
   },
   "source": [
    "\n",
    "### 함수의 종류<sup>[곽도영 et. al.]</sup>\n",
    "\n",
    "- 일반적으로 함수의 종류라하면 다항함수, 분수함수, 지수함수, 로그함수, 삼각함수 등을 가리키지만 수업에서는 함수의 입력과 출력의 형태에 따른 분류를 이야기함.\n",
    "\n",
    "\n",
    "- 앞서 소개한 스칼라, 벡터가 입력과 출력으로 나타남에 따라 함수의 형태가 어떻게 변하는지 중심으로 리뷰\n",
    "    - #### 일변수-실함수univariable scalar function\n",
    "    - #### 다변수-실함수multivariable scalar function\n",
    "    - #### 일변수-벡터함수univariable vector function\n",
    "    - #### 다변수-벡터함수multivariable vector function\n",
    "\n",
    "<img src=\"imgs/func_kind.png\" width=\"900\"/>\n"
   ]
  },
  {
   "cell_type": "markdown",
   "metadata": {
    "slideshow": {
     "slide_type": "subslide"
    }
   },
   "source": [
    "## 일변수-실함수univariable scalar function\n",
    "\n",
    "- $y = f(x) \\qquad f:\\mathbb{R} \\to \\mathbb{R}$\n",
    "\n",
    "- 중고등학교 과정에서 배운 **다항함수**, 분수함수, **지수함수**, **로그함수**, 삼각함수\n",
    "\n",
    "- 위 함수들이 입력 1개, 출력 1개를 가지면 일변수 실함수가 되고 입력 2개이상을 가진다면 다변수 실함수가 되는 식\n",
    "\n",
    "- 수업에서는 지수, 로그 함수에 대해서 일변수만 가진다고 가정하고 설명\n",
    "\n",
    "- $f(x) = x^2$\n",
    "\n"
   ]
  },
  {
   "cell_type": "markdown",
   "metadata": {},
   "source": [
    "#### 로지스틱 함수Logistic function\n",
    "\n",
    "- 신경망에서 뉴런의 활성을 결정하는 활성함수로 사용\n",
    "\n",
    "$$\n",
    "\\sigma(z)= \\frac{1}{1+ \\exp(-z)}\n",
    "$$\n",
    "\n"
   ]
  },
  {
   "cell_type": "code",
   "execution_count": null,
   "metadata": {},
   "outputs": [],
   "source": [
    "logistic = lambda z : 1/ (1+np.exp(-z))\n",
    "\n",
    "z = np.linspace(-6, 6, 100)\n",
    "\n",
    "fig, ax = plt.subplots()\n",
    "fig.set_size_inches((10,5))\n",
    "ax.spines['left'].set_position('zero')\n",
    "ax.spines['bottom'].set_position('zero')\n",
    "\n",
    "ax.set_xlabel('z', fontsize=20)\n",
    "ax.set_ylabel('$\\sigma(z)$', fontsize=20)\n",
    "ax.set_title('Logistic function', fontsize=20)\n",
    "plt.plot(z, logistic(z))\n",
    "plt.show()"
   ]
  },
  {
   "cell_type": "markdown",
   "metadata": {},
   "source": [
    "##### 로지스틱 함수의 활용\n",
    "- 0, 1, 2, 3, 4, 5, 6, 7, 8, 9를 구별하는 분류기를 만든다고 하자.\n",
    "\n",
    "- 이미지를 입력으로 받고 입력에 대해 적당한 연산을 해서 실수값 $z$를 출력하는 함수를 10개 준비한다. $f_i(\\text{image})$\n",
    "\n",
    "- 예를 들어 3이 입력되면 $f_3(\\text{image})$ 함수가 큰 $z$값을 출력하고 나머지 함수들은 작은 $z$값을 출력하게 만들었다고 가정하자.\n",
    "\n",
    "- 이제 함수 $f_i(\\text{image})$의 출력 $z$를 로지스틱함수로 입력시킨다. \n",
    "\n",
    "- 그러면 함성함수 $\\sigma(f_i(\\text{image}))$가 만들어진다.\n",
    "\n",
    "- 이 합성함수는 해당 숫자가 들어오면 0~1사이의 값을 출력하게 된다.\n",
    "\n",
    "- 아래 그림은 3이 입력되었을 때 $f_3(\\text{image})$이 0에 가까운 값을 출력하므로 좋지 않은 경우\n",
    "    \n",
    "    \n",
    "<img src=\"imgs/logistic_bad.png\"/>\n",
    "   \n",
    "   \n",
    "- 다음은 잘된 경우\n",
    "    - 적당한 조작으로 다음처럼 합성함수를 조작할 수 있다면 3이라는 숫자를 잘 구별할 수 있게 된다.\n",
    "    - $f_3(\\text{image})$은 1에 가까운 값을 출력하고 나머지 함수들은 $f_3(\\text{image})$에 비해 상대적으로 작은 값을 출력하고 있다. \n",
    "    \n",
    "<img src=\"imgs/logistic_good.png\"/>\n",
    "\n"
   ]
  },
  {
   "cell_type": "markdown",
   "metadata": {},
   "source": [
    "### 머신러닝에서 지수와 로그함수의 활용\n",
    "\n",
    "- 머신러닝 0, 1 분류 문제에 있어서 분류가 잘되었는지 잘못되었는지 평가하는 함수로 사용\n",
    "\n",
    "- 이미지를 숫자 $n$개가 모인 데이터로 바꾸는 함수 $\\mathbf{x} = g(\\text{image})$가 있어서 입력된 이미지를 $n$차원 벡터 $\\mathbf{x}$로 바꿀 수 있다 하자.\n",
    "\n",
    "- 바뀐 이미지에 대한 벡터 $\\mathbf{x}$를 다시 다른 함수 $z:\\mathbb{R}^n \\to \\mathbb{R}$ (다음 절에서 배울 다변수 실함수)에 입력하여 결과로 0과 1사이의 $z$값을 얻는다 하자.\n",
    "\n",
    "- 이제 개 이미지는 1, 고양이 이미지는 0이라고 라벨을 붙이고 이를 합성함수 $z \\circ g(image)$에 입력하고 결과값 $z$를 얻었다고 했을 때 \n",
    "\n",
    "- 이 결과가 얼마나 잘된 결과인지 어떻게 알아 볼 수 있을까?\n",
    "\n",
    "<img src=\"imgs/log-cost.png\" width=\"800\">\n",
    "\n",
    "- 위 그림에서 계산된 $z \\circ g(image)$의 함수값을 0과 1 사이로 만들기 위해서 다음처럼 지수함수를 이용할 수 있다.\n",
    "\n",
    "$$\n",
    "\\sigma(z) = \\frac{1}{1+ \\color{RoyalBlue}{e^{-z}}}\n",
    "$$\n",
    "\n",
    "\n",
    "- 위 그림과 같은 상황에서 결과가 0.8이 나왔다면 $-\\log(0.8)$은 0에 가까운 값이 된다.\n",
    "\n",
    "- 따라서 $-\\log(\\sigma(z(g(\\text{image}))))$의 값이 0에 가까울 수록 우리가 가진 합성함수는 개를 잘 분류하는 것이라 판단할 수 있다."
   ]
  },
  {
   "cell_type": "markdown",
   "metadata": {
    "slideshow": {
     "slide_type": "slide"
    }
   },
   "source": [
    "## 참고문헌\n",
    "\n",
    "1. [scavec] Scalars and Vectors, http://www.physicsclassroom.com/class/1DKin/Lesson-1/Scalars-and-Vectors\n",
    "\n",
    "2. [전파거북이:벡터] 좌표계 기반 벡터(vector), https://ghebook.blogspot.kr/2010/07/vector.html\n",
    "\n",
    "3. [wiki:함수] https://ko.wikipedia.org/wiki/함수\n",
    "\n",
    "4. [곽도영 et. al.] 벡터 미적분학, 곽도영,서동엽,임진환,진교택, 경문사\n",
    "\n",
    "\n",
    "\n",
    "\n",
    "\n"
   ]
  },
  {
   "cell_type": "code",
   "execution_count": null,
   "metadata": {},
   "outputs": [],
   "source": [
    "from IPython.core.display import HTML\n",
    "\n",
    "def _set_css_style(css_file_path):\n",
    "   \"\"\"\n",
    "   Read the custom CSS file and load it into Jupyter.\n",
    "   Pass the file path to the CSS file.\n",
    "   \"\"\"\n",
    "   styles = open(css_file_path, \"r\").read()\n",
    "   s = '<style>%s</style>' % styles     \n",
    "   return HTML(s)\n",
    "\n",
    "_set_css_style(\"../style.css\")"
   ]
  },
  {
   "cell_type": "code",
   "execution_count": null,
   "metadata": {},
   "outputs": [],
   "source": []
  }
 ],
 "metadata": {
  "celltoolbar": "Slideshow",
  "kernelspec": {
   "display_name": "Python 3",
   "language": "python",
   "name": "python3"
  },
  "language_info": {
   "codemirror_mode": {
    "name": "ipython",
    "version": 3
   },
   "file_extension": ".py",
   "mimetype": "text/x-python",
   "name": "python",
   "nbconvert_exporter": "python",
   "pygments_lexer": "ipython3",
   "version": "3.8.5"
  },
  "livereveal": {
   "scroll": true,
   "start_slideshow_at": "selected"
  }
 },
 "nbformat": 4,
 "nbformat_minor": 4
}
