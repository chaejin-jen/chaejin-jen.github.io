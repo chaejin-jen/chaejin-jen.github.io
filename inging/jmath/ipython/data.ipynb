{
 "cells": [
  {
   "cell_type": "code",
   "execution_count": null,
   "metadata": {},
   "outputs": [],
   "source": [
    "######################################################\n",
    "# 회귀에 사용할 데이터를 준비\n",
    "# 학습데이터와 테스트 데이트를 모두 준비\n",
    "######################################################\n",
    "\n",
    "\n",
    "# 시드를 심어 항상 같은 결과가 나오게 한다.\n",
    "np.random.seed(2)\n",
    "\n",
    "# x범위는 0~1까지\n",
    "x = np.linspace(0, 1, 100)\n",
    "# 데이터가 생성되는 기준이 되는 함수\n",
    "t = np.sin(2*np.pi*x)\n",
    "\n",
    "N = 10\n",
    "x_train = np.linspace(0, 1, N)\n",
    "t_train = np.sin(2*np.pi*x_train) + (np.random.randn(N)/5)\n",
    "print(\"x_train:{}\".format(x_train.shape))\n",
    "print(\"t_train:{}\".format(t_train.shape))\n",
    "\n",
    "N_test = 100\n",
    "x_test = np.linspace(0, 1, N_test)\n",
    "t_test = np.sin(2*np.pi*x_test) + (np.random.randn(N_test)/5)\n",
    "\n",
    "plt.figure(figsize=(10,6))\n",
    "plt.plot(x, t, '--', lw=3, alpha=0.5, label=\"Truth\")\n",
    "plt.plot(x_train, t_train, 'o', alpha=0.8, label=\"train data\")\n",
    "plt.plot(x_test, t_test, 'o', alpha=0.8, label=\"test data\")\n",
    "plt.title(\"Train data and test data for linear regression\")\n",
    "plt.legend(fontsize=15)\n",
    "plt.show()"
   ]
  },
  {
   "cell_type": "code",
   "execution_count": null,
   "metadata": {},
   "outputs": [],
   "source": []
  }
 ],
 "metadata": {
  "kernelspec": {
   "display_name": "Python 3",
   "language": "python",
   "name": "python3"
  },
  "language_info": {
   "codemirror_mode": {
    "name": "ipython",
    "version": 3
   },
   "file_extension": ".py",
   "mimetype": "text/x-python",
   "name": "python",
   "nbconvert_exporter": "python",
   "pygments_lexer": "ipython3",
   "version": "3.8.5"
  }
 },
 "nbformat": 4,
 "nbformat_minor": 4
}
