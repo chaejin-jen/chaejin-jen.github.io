{
 "cells": [
  {
   "cell_type": "code",
   "execution_count": 1,
   "metadata": {
    "slideshow": {
     "slide_type": "skip"
    }
   },
   "outputs": [],
   "source": [
    "import numpy as np\n",
    "import matplotlib.pyplot as plt\n",
    "import matplotlib as mpl\n",
    "\n",
    "style_name = 'bmh' #bmh\n",
    "mpl.style.use(style_name)\n",
    "np.set_printoptions(precision=4, linewidth =150)\n",
    "\n",
    "style = plt.style.library[style_name]\n",
    "style_colors = [ c['color'] for c in style['axes.prop_cycle'] ]"
   ]
  },
  {
   "cell_type": "markdown",
   "metadata": {},
   "source": [
    "# Class 03-2 넘파이numpy<sup>[quick numpy]</sup> \n",
    "\n",
    ">Numpy is the core library for scientific computing in Python. It provides a high-performance multidimensional array object, and tools for working with these arrays. If you are already familiar with MATLAB, you might find this tutorial useful to get started with Numpy. - [cs231n]\n",
    "\n",
    "## ndarray\n",
    "\n",
    "- numpy에서 제공하는 메인 객체인 배열\n",
    "\n",
    "-  다차원 배열<sup>multidimensional array</sup>로써 1차원 배열(벡터), 2차원 배열(행렬), 3차원 배열(큐브), 4차원 배열(큐브가 여러개 모인것) 등등 계속 차원을 늘릴수 있음\n",
    "\n",
    "\n",
    "- 속성\n",
    "    - <span class=\"code-body\">ndarray.ndim</span>  : 배열 축<sup>axis</sup>의 개수\n",
    "    - <span class=\"code-body\">ndarray.shape</span> : 배열의 각 축방향 차원\n",
    "    - <span class=\"code-body\">ndarray.dtype</span> : 배열 요소들의 자료형\n",
    "    "
   ]
  },
  {
   "cell_type": "markdown",
   "metadata": {},
   "source": [
    "### 생성\n",
    "- 생성은 행우선 방식으로 [ ]로 적어주면 됨\n",
    "\n",
    "$$\n",
    "\\mathbf{A} = \\begin{bmatrix} 1 & 2 \\\\ 3 & 4 \\end{bmatrix}\n",
    "$$\n",
    "\n",
    "```python\n",
    "import numpy as np\n",
    "\n",
    "# 값을 지정하여 생성\n",
    "A = np.array([[1,2],[3,4]])\n",
    "\n",
    "# 모든 요소가 0인 어레이\n",
    "B = np.zeros(3,3)\n",
    "\n",
    "# 모든 요소가 1인 어레이\n",
    "C = np.ones(2,3)\n",
    "\n",
    "# 대각 요소만 1인 어레이\n",
    "D = np.eye(2)\n",
    "\n",
    "# 랜덤으로 생성\n",
    "E = np.random.rand(10)\n",
    "F = np.random.rand(25).reshape(5,-1)\n",
    "G = np.random.randint(1, 11, 9).reshape(3,3)\n",
    "```"
   ]
  },
  {
   "cell_type": "code",
   "execution_count": 2,
   "metadata": {},
   "outputs": [],
   "source": [
    "L=[[1,2],[3,4]]"
   ]
  },
  {
   "cell_type": "code",
   "execution_count": 3,
   "metadata": {},
   "outputs": [
    {
     "data": {
      "text/plain": [
       "[[1, 2], [3, 4], [1, 2], [3, 4]]"
      ]
     },
     "execution_count": 3,
     "metadata": {},
     "output_type": "execute_result"
    }
   ],
   "source": [
    "L+L"
   ]
  },
  {
   "cell_type": "code",
   "execution_count": null,
   "metadata": {},
   "outputs": [],
   "source": [
    "# 값을 지정하여 생성\n",
    "A = np.array([[1,2],[3,4]])\n",
    "\n",
    "# 모든 요소가 0인 어레이\n",
    "B = np.zeros((3,3))\n",
    "\n",
    "# 모든 요소가 1인 어레이\n",
    "C = np.ones((2,3))\n",
    "\n",
    "# 대각 요소만 1인 어레이\n",
    "D = np.eye(2)\n",
    "\n",
    "# 랜덤으로 생성\n",
    "E = np.random.rand(10)\n",
    "F = np.random.rand(25).reshape(5,-1)\n",
    "G = np.random.randint(1, 11, 9).reshape(3,3)\n",
    "\n",
    "print(A)\n",
    "print(A.shape)\n",
    "print(\"\\n\")\n",
    "print(A.dtype)\n",
    "print(B)\n",
    "print(C)\n",
    "print(D)\n",
    "print(E)\n",
    "print(F)\n",
    "print(G)"
   ]
  },
  {
   "cell_type": "markdown",
   "metadata": {},
   "source": [
    "### axis\n",
    "\n",
    "- 배열의 요소가 늘어선 방향"
   ]
  },
  {
   "cell_type": "markdown",
   "metadata": {},
   "source": [
    "- 축 1개"
   ]
  },
  {
   "cell_type": "code",
   "execution_count": null,
   "metadata": {},
   "outputs": [],
   "source": [
    "a = np.array([1,2,3,4])\n",
    "print(a.shape)\n",
    "print(a)\n",
    "print(a.reshape(-1,1))\n",
    "print(a.reshape(1,-1))"
   ]
  },
  {
   "cell_type": "markdown",
   "metadata": {},
   "source": [
    "- 축 2개"
   ]
  },
  {
   "cell_type": "code",
   "execution_count": null,
   "metadata": {},
   "outputs": [],
   "source": [
    "a = np.array([[1,2,3,4], [5,6,7,8]])\n",
    "print(a.shape)\n",
    "a"
   ]
  },
  {
   "cell_type": "markdown",
   "metadata": {},
   "source": [
    "- 축 3개"
   ]
  },
  {
   "cell_type": "code",
   "execution_count": null,
   "metadata": {},
   "outputs": [],
   "source": [
    "a = np.array([[[1,2,3,4], [5,6,7,8]],[[1,2,3,4], [5,6,7,8]]])\n",
    "print(a.shape)\n",
    "print(a)"
   ]
  },
  {
   "cell_type": "code",
   "execution_count": null,
   "metadata": {},
   "outputs": [],
   "source": [
    "a = np.random.rand(32).reshape(2,2,2,4)\n",
    "a"
   ]
  },
  {
   "cell_type": "markdown",
   "metadata": {},
   "source": [
    "- 축에 번호를 붙여서 관리하는데 0부터 번호가 증가, 새롭게 생긴 axis가 0번\n",
    "\n",
    "<img src=\"imgs/linalg08.png\" width=\"800\"/>\n",
    "\n",
    "- newaxis\n",
    "\n",
    "```python\n",
    "A = np.arange(10)\n",
    "print(\"A, {}\".format(A.shape))\n",
    "print(A)\n",
    "print('\\n')\n",
    "\n",
    "print(\"A[np.newaxis, :], {}\".format(A[np.newaxis, :].shape))\n",
    "print(A[np.newaxis, :])\n",
    "print('\\n')\n",
    "\n",
    "print(\"A[ :, np.newaxis], {}\".format(A[ :, np.newaxis].shape))\n",
    "print(A[ :, np.newaxis])\n",
    "```"
   ]
  },
  {
   "cell_type": "code",
   "execution_count": null,
   "metadata": {},
   "outputs": [],
   "source": [
    "A = np.arange(10)\n",
    "print(\"A, {}\".format(A.shape))\n",
    "print(A)\n",
    "print('\\n')\n",
    "\n",
    "print(\"A[np.newaxis, :], {}\".format(A[np.newaxis, :].shape))\n",
    "print(A[np.newaxis, :])\n",
    "print('\\n')\n",
    "\n",
    "print(\"A[ :, np.newaxis], {}\".format(A[ :, np.newaxis].shape))\n",
    "print(A[ :, np.newaxis])"
   ]
  },
  {
   "cell_type": "markdown",
   "metadata": {},
   "source": [
    "### 벡터로써의 ndarray\n",
    "\n",
    "- 1차원 <span class=\"code-body\">ndarray</span>는 축이 1개 즉, \n",
    "\n",
    "```python\n",
    "a = np.array([1,2,3,4])\n",
    "```\n",
    "\n",
    "의 <span class=\"code-body\">shape</span>는 <span class=\"code-body\">(4,)</span>, **<span class=\"code-body\">(1,4)</span>가 아님을 주의**\n",
    "\n",
    "- 열벡터로 만들고 싶으면\n",
    "\n",
    "```python\n",
    "a.reshape(-1,1) #index에 -1을 지정하면 남은 요소를 자동으로 배열\n",
    "```\n",
    "\n",
    "- 행이나 열 하나를 가지는 행렬과 동일"
   ]
  },
  {
   "cell_type": "code",
   "execution_count": null,
   "metadata": {},
   "outputs": [],
   "source": [
    "a = np.array([1,2,3,4])\n",
    "print(a.shape)\n",
    "print(a)\n",
    "\n",
    "a = a.reshape(-1,1)\n",
    "print(a.shape)\n",
    "print(a)"
   ]
  },
  {
   "cell_type": "markdown",
   "metadata": {},
   "source": [
    "### ndarray의 연산\n",
    "\n",
    "#### 어레이의 합, 차, 곱, 나누기\n",
    "\n",
    "- 기본 +, -, *, /  연산자를 그냥 쓰면 되고 요소별로 연산됨\n"
   ]
  },
  {
   "cell_type": "code",
   "execution_count": null,
   "metadata": {},
   "outputs": [],
   "source": [
    "A = np.array([[1,3,4], [5,3,4], [4,5,2]])\n",
    "B = np.array([[5,7,3], [2,1,1], [5,6,3]])\n",
    "\n",
    "print(\"A\")\n",
    "print(A)\n",
    "print('\\n')\n",
    "\n",
    "print(\"B\")\n",
    "print(B)\n",
    "print('\\n')\n",
    "\n",
    "print(\"A+B\")\n",
    "print(A+B)\n",
    "print('\\n')\n",
    "\n",
    "print(\"A-B\")\n",
    "print(A-B)"
   ]
  },
  {
   "cell_type": "markdown",
   "metadata": {},
   "source": [
    "#### 어레이의 상수배와 곱, 나누기"
   ]
  },
  {
   "cell_type": "code",
   "execution_count": null,
   "metadata": {},
   "outputs": [],
   "source": [
    "print(\"3A\")\n",
    "print(3*A)\n",
    "print(\"\\n\")\n",
    "\n",
    "print(\"A*3\")\n",
    "print(A*3)\n",
    "print(\"\\n\")\n",
    "\n",
    "print(\"A*B\")\n",
    "print(A*B)\n",
    "print(\"\\n\")\n",
    "\n",
    "print(\"A/B\")\n",
    "print(A/B)"
   ]
  },
  {
   "cell_type": "markdown",
   "metadata": {},
   "source": [
    "### ndarray 인덱싱\n",
    "\n",
    "#### 축하나에 대한 인덱싱\n",
    "\n",
    "- 배열의 요소에 접근하기 위해서는 인덱스를 사용\n",
    "\n",
    "- 인덱스는 0부터 시작\n",
    "\n",
    "```python\n",
    "A = np.array([1,2,3,4,5,6,7,8,9,10]) \n",
    "A[0:3] #A[시작인덱스:끝인덱스]->[1,2,3]\n",
    "```\n",
    "\n",
    "- 끝 인덱스는 포함되지 않음을 주의\n",
    "\n",
    "- 다음과 같은 수학적 연속구간을 구현하기 위함\n",
    "\n",
    "$$\n",
    "[a, b), [b, c), [c, d)\n",
    "$$\n",
    "\n",
    "- 스탭 : <span class=\"code-body\">A[start:stop:step]</span>\n",
    "    - start(포함)에서 stop(미포함)까지 step씩 건너 뛰면서"
   ]
  },
  {
   "cell_type": "code",
   "execution_count": null,
   "metadata": {},
   "outputs": [],
   "source": [
    "A = np.array([1,2,3,4,5,6,7,8,9,10]) \n",
    "\n",
    "print(\"A[0:3] : {}\".format(A[0:3]))\n",
    "print(\"\\n\")\n",
    "\n",
    "print(\"A[0::2] : {}\".format(A[0::3]))\n",
    "print(\"\\n\")\n",
    "\n",
    "print(\"A[::-1] : {}\".format(A[::-1]))"
   ]
  },
  {
   "cell_type": "markdown",
   "metadata": {},
   "source": [
    "#### 2축 이상에 대한 인덱싱\n",
    "\n",
    "$$\n",
    "\\mathbf{C} = \\begin{bmatrix}\n",
    "0 & 1 & 2 & \\color{OrangeRed}{3 }& \\color{OrangeRed}{4} \\\\\n",
    "5 & 6 & 7 & \\color{OrangeRed}{8} & \\color{OrangeRed}{9} \\\\\n",
    "10 & 11 & \\color{RoyalBlue}{12} & \\color{OrangeRed}{13} & \\color{OrangeRed}{14} \\\\\n",
    "\\vdots & \\vdots & \\vdots & \\vdots & \\vdots \\\\\n",
    "\\color{Green}{45} & 46 & \\color{Green}{47} & 48  & \\color{Green}{49}\n",
    "\\end{bmatrix}\n",
    "$$\n",
    "\n",
    "- 3행 3열 요소\n",
    "```python\n",
    "C[2,2] # 12\n",
    "```\n",
    "\n",
    "- 1행에서 3행까지~4열에서 5열까지 : 각 인덱스 자리에서 \"시작인덱스:끝인덱스\" 문법 적용\n",
    " ```python\n",
    "C[0:3, 3:5]\n",
    " ```\n"
   ]
  },
  {
   "cell_type": "code",
   "execution_count": null,
   "metadata": {},
   "outputs": [],
   "source": [
    "C = np.arange(50).reshape(10,5)\n",
    "print(\"C\")\n",
    "print(C)\n",
    "print(\"\\n\")\n",
    "\n",
    "print(\"C[2,2]\")\n",
    "print(C[2,2])\n",
    "print(\"\\n\")\n",
    "\n",
    "print(\"C[0:3, 3:5]\")\n",
    "print(C[0:3, 3:5])\n",
    "print(\"\\n\")\n",
    "\n",
    "\n",
    "print(\"C의 모든행에 대해서 1열을 추출\")\n",
    "print(\"C[:,0].reshape(-1,1)\")\n",
    "print(C[:,0].reshape(-1,1))\n",
    "print(\"\\n\")\n",
    "\n",
    "print(\"C의 마지막 행에서 홀수 열만 추출\")\n",
    "print(\"print(C[-1,:][0::2])\")\n",
    "print(C[-1,:][0::2])\n",
    "print(\"\\n\")\n",
    "\n",
    "print(\"C의 짝수만 뽑아서 4x6행렬로 만들기\")\n",
    "print(\"C.reshape(1,-1)[0][2:50:2].reshape(4,-1)\")\n",
    "print(C.reshape(1,-1)[0][2:50:2].reshape(4,-1))"
   ]
  },
  {
   "cell_type": "markdown",
   "metadata": {},
   "source": [
    "#### 어레이 인덱싱<sup>[cs231n]</sup>\n",
    "\n",
    "- 인덱싱할 숫자를 임의의 어레이로 전달하는 방법\n",
    "\n",
    "- 숫자를 지정할 자리에 숫자 대신 숫자 여러개를 포함한 어레이를 전달하면 해당되는 요소 여러개가 한번에 추출됨"
   ]
  },
  {
   "cell_type": "code",
   "execution_count": null,
   "metadata": {},
   "outputs": [],
   "source": [
    "A = np.array([[1,2,3],[4,5,6]])\n",
    "print(A)\n",
    "\n",
    "# 보통은 뽑고 싶은 요소를 하나하나 지정하고 이를 다시 어레이로 묶어주는 방법\n",
    "# 가장 기본적인 접근\n",
    "print(np.array([A[1,2], A[0,1]]))\n",
    "\n",
    "# 행은 1행, 0행을 지정하고 그에 대해 열은 2열, 1열을 지정\n",
    "print(A[[1,0],[2,1]])"
   ]
  },
  {
   "cell_type": "markdown",
   "metadata": {},
   "source": [
    "- 임의의 요소에만 값을 더할 수도 있다."
   ]
  },
  {
   "cell_type": "code",
   "execution_count": null,
   "metadata": {},
   "outputs": [],
   "source": [
    "A = np.array([[1,2,3], [4,5,6], [7,8,9]])\n",
    "idx = np.array([0, 1, 2])\n",
    "print(A)\n",
    "\n",
    "A[np.arange(3), idx] += 10\n",
    "print(A)"
   ]
  },
  {
   "cell_type": "markdown",
   "metadata": {},
   "source": [
    "- Boolean 형을 포함한 어레이를 인덱스로 쓸 수 있다."
   ]
  },
  {
   "cell_type": "code",
   "execution_count": null,
   "metadata": {},
   "outputs": [],
   "source": [
    "A > 2"
   ]
  },
  {
   "cell_type": "code",
   "execution_count": null,
   "metadata": {},
   "outputs": [],
   "source": [
    "A[A>2]"
   ]
  },
  {
   "cell_type": "markdown",
   "metadata": {},
   "source": [
    "### ndarray 모양 바꾸기, 전치\n",
    "\n",
    "- <span class=\"code-body\">reshape(a)</span> : 어레이의 모양을 <span class=\"code-body\">a</span>에 지정된 모양으로 바꿈\n",
    "\n",
    "- <span class=\"code-body\">transpose(axis)</span> : 행렬의 전치와 같은 역할, 3개축 이상에서도 같은 논리로 동작\n",
    "\n",
    "<img src=\"imgs/3D-array.png\" width=\"350\">"
   ]
  },
  {
   "cell_type": "markdown",
   "metadata": {},
   "source": [
    "- 위 그림과 겉은 3차원 어레이를 만든다."
   ]
  },
  {
   "cell_type": "code",
   "execution_count": null,
   "metadata": {},
   "outputs": [],
   "source": [
    "A = np.arange(1, 19)\n",
    "print(\"A\")\n",
    "print(A)\n",
    "print(\"\\n\")\n",
    "\n",
    "A = A.reshape(2, 3, 3)\n",
    "print(\"A\")\n",
    "print(A)\n",
    "print(\"\\n\")"
   ]
  },
  {
   "cell_type": "markdown",
   "metadata": {},
   "source": [
    "- 그림에서 보이는 화면에 가까운 3x3행렬은 `A[0,:]`이고 이 행렬을 전치시켜 본다."
   ]
  },
  {
   "cell_type": "code",
   "execution_count": null,
   "metadata": {},
   "outputs": [],
   "source": [
    "B = A[0,:]\n",
    "print(\"B=A[0,:]\")\n",
    "print(B)\n",
    "print(\"B.T\")\n",
    "print(B.T)\n",
    "print(\"\\n\")"
   ]
  },
  {
   "cell_type": "markdown",
   "metadata": {},
   "source": [
    "- 이미지를 보고 (0,1,2) $\\to$ (2,0,1)을 수행해본다.\n",
    "\n",
    "- 종이에 결과를 적어보고 아래 코드의 실행결과와 일치하는지 확인해보자.\n",
    "\n",
    "<img src=\"imgs/3D-array.png\" width=\"350\">"
   ]
  },
  {
   "cell_type": "code",
   "execution_count": null,
   "metadata": {},
   "outputs": [],
   "source": [
    "print(\"A.transpose(2, 0, 1)\")\n",
    "print(A.transpose(2, 0, 1))\n",
    "print(\"\\n\")"
   ]
  },
  {
   "cell_type": "markdown",
   "metadata": {},
   "source": [
    "- 이미지를 보고 (0,1,2) $\\to$ (1,2,0)을 수행해본다.\n",
    "\n",
    "- 종이에 결과를 적어보고 아래 코드의 실행결과와 일치하는지 확인해보자.\n",
    "\n",
    "<img src=\"imgs/3D-array.png\" width=\"350\">"
   ]
  },
  {
   "cell_type": "code",
   "execution_count": null,
   "metadata": {},
   "outputs": [],
   "source": [
    "print(\"A.transpose(1, 2, 0)\")\n",
    "print(A.transpose(1, 2, 0))\n",
    "print(\"\\n\")"
   ]
  },
  {
   "cell_type": "markdown",
   "metadata": {},
   "source": [
    "- 이미지를 보고 (0,1,2) $\\to$ (2,1,0)을 수행해본다.\n",
    "\n",
    "- 종이에 결과를 적어보고 아래 코드의 실행결과와 일치하는지 확인해보자.\n",
    "\n",
    "<img src=\"imgs/3D-array.png\" width=\"350\">"
   ]
  },
  {
   "cell_type": "code",
   "execution_count": null,
   "metadata": {},
   "outputs": [],
   "source": [
    "print(\"A.transpose(2, 1, 0)\")\n",
    "print(A.transpose(2, 1, 0))\n",
    "print(\"\\n\")"
   ]
  },
  {
   "cell_type": "markdown",
   "metadata": {},
   "source": [
    "- 위 (0,1,2) $\\to$ (2,1,0) 결과에서 2번축 방향을 역방향으로 만들어 보자.\n",
    "\n",
    "\n",
    "<img src=\"imgs/3D-array.png\" width=\"350\">"
   ]
  },
  {
   "cell_type": "code",
   "execution_count": null,
   "metadata": {},
   "outputs": [],
   "source": [
    "print(\"A.transpose(2, 1, 0)[::-1]\")\n",
    "print(A.transpose(2, 1, 0)[::-1])\n",
    "print(\"\\n\")"
   ]
  },
  {
   "cell_type": "markdown",
   "metadata": {},
   "source": [
    "### ndarray 분해, 결합\n",
    "\n",
    "$$\n",
    "\\mathbf{A} = \\begin{bmatrix} \\color{RoyalBlue}{1}&\\color{RoyalBlue}{3}&\\color{RoyalBlue}{4} \\\\ \n",
    "\\color{RoyalBlue}{5}&\\color{RoyalBlue}{3}&\\color{RoyalBlue}{4} \\\\ \\color{RoyalBlue}{4}&\\color{RoyalBlue}{5}&\\color{RoyalBlue}{2} \\end{bmatrix}, \\qquad\n",
    "\\mathbf{B} = \\begin{bmatrix} \\color{OrangeRed}{5}&\\color{OrangeRed}{7}&\\color{OrangeRed}{3} \\\\ \n",
    "\\color{OrangeRed}{2}&\\color{OrangeRed}{1}&\\color{OrangeRed}{0} \\\\ \n",
    "\\color{OrangeRed}{5}&\\color{OrangeRed}{6}&\\color{OrangeRed}{3} \\end{bmatrix}\n",
    "$$\n",
    "\n",
    "$$\n",
    "\\text{hstack}(\\mathbf{AB}) = \\begin{bmatrix} \\color{RoyalBlue}{1}&\\color{RoyalBlue}{3}&\\color{RoyalBlue}{4}&\\color{OrangeRed}{5}&\\color{OrangeRed}{7}&\\color{OrangeRed}{3} \\\\ \\color{RoyalBlue}{5}&\\color{RoyalBlue}{3}&\\color{RoyalBlue}{4}&\\color{OrangeRed}{2}&\\color{OrangeRed}{1}&\\color{OrangeRed}{0} \\\\ \\color{RoyalBlue}{4}&\\color{RoyalBlue}{5}&\\color{RoyalBlue}{2}&\\color{OrangeRed}{5}&\\color{OrangeRed}{6}&\\color{OrangeRed}{3} \\end{bmatrix}\n",
    "$$\n",
    "\n",
    "$$\n",
    "\\text{vstack}(\\mathbf{AB}) = \\begin{bmatrix}\n",
    "\\color{RoyalBlue}{1}&\\color{RoyalBlue}{3}&\\color{RoyalBlue}{4} \\\\ \n",
    "\\color{RoyalBlue}{5}&\\color{RoyalBlue}{3}&\\color{RoyalBlue}{4} \\\\ \\color{RoyalBlue}{4}&\\color{RoyalBlue}{5}&\\color{RoyalBlue}{2} \\\\\n",
    "\\color{OrangeRed}{5}&\\color{OrangeRed}{7}&\\color{OrangeRed}{3} \\\\ \n",
    "\\color{OrangeRed}{2}&\\color{OrangeRed}{1}&\\color{OrangeRed}{0} \\\\ \n",
    "\\color{OrangeRed}{5}&\\color{OrangeRed}{6}&\\color{OrangeRed}{3}\n",
    "\\end{bmatrix}\n",
    "$$"
   ]
  },
  {
   "cell_type": "code",
   "execution_count": null,
   "metadata": {},
   "outputs": [],
   "source": [
    "A = np.array([1,3,4,5,3,4,4,5,2]).reshape(3,3)\n",
    "B = np.array([5,6,3,2,1,0,5,6,3]).reshape(3,3) \n",
    "\n",
    "D = np.hstack((A,B))\n",
    "E = np.vstack((A,B))\n",
    "\n",
    "print(\"hstack((A,B))\")\n",
    "print(D)\n",
    "print(\"\\n\")\n",
    "\n",
    "print(\"vstack((A,B))\")\n",
    "print(E)"
   ]
  },
  {
   "cell_type": "markdown",
   "metadata": {},
   "source": [
    "### 브로드캐스팅\n",
    "\n",
    "- 브로트캐스팅은 Numpy에서 shape가 다른 배열 간에도 산술 연산이 가능하게 하는 메커니즘<sup>[aikorea numpy]</sup>\n",
    "\n"
   ]
  },
  {
   "cell_type": "code",
   "execution_count": null,
   "metadata": {},
   "outputs": [],
   "source": [
    "A = np.array([1,2,3])\n",
    "A * 2"
   ]
  },
  {
   "cell_type": "markdown",
   "metadata": {},
   "source": [
    "<img src=\"imgs/b-cast1.png\" width=\"550\">"
   ]
  },
  {
   "cell_type": "code",
   "execution_count": null,
   "metadata": {},
   "outputs": [],
   "source": [
    "np.random.seed(2)\n",
    "m, n = 4, 3\n",
    "A = np.random.randint(0, 10, m*n).reshape(m,n)\n",
    "b = np.random.randint(0, 10, n)\n",
    "A*b"
   ]
  },
  {
   "cell_type": "markdown",
   "metadata": {},
   "source": [
    "<img src=\"imgs/b-cast2.png\" width=\"550\">"
   ]
  },
  {
   "cell_type": "code",
   "execution_count": null,
   "metadata": {},
   "outputs": [],
   "source": [
    "np.random.seed(11)\n",
    "m, n = 4, 3\n",
    "a = np.random.randint(0, 10, m).reshape(-1,1)\n",
    "b = np.random.randint(0, 10, n)\n",
    "a*b"
   ]
  },
  {
   "cell_type": "markdown",
   "metadata": {},
   "source": [
    "<img src=\"imgs/b-cast3.png\" width=\"550\">"
   ]
  },
  {
   "cell_type": "markdown",
   "metadata": {
    "slideshow": {
     "slide_type": "slide"
    }
   },
   "source": [
    "## 참고문헌\n",
    "\n",
    "1. [quick numpy] Numpy Quickstart tutorial, https://docs.scipy.org/doc/numpy-1.13.0/user/quickstart.html\n",
    "\n",
    "1. [cs231n] http://cs231n.github.io/python-numpy-tutorial/"
   ]
  },
  {
   "cell_type": "code",
   "execution_count": null,
   "metadata": {},
   "outputs": [],
   "source": [
    "from IPython.core.display import HTML\n",
    "\n",
    "def _set_css_style(css_file_path):\n",
    "   \"\"\"\n",
    "   Read the custom CSS file and load it into Jupyter.\n",
    "   Pass the file path to the CSS file.\n",
    "   \"\"\"\n",
    "   styles = open(css_file_path, \"r\").read()\n",
    "   s = '<style>%s</style>' % styles     \n",
    "   return HTML(s)\n",
    "\n",
    "_set_css_style(\"../../style.css\")"
   ]
  },
  {
   "cell_type": "code",
   "execution_count": null,
   "metadata": {},
   "outputs": [],
   "source": []
  }
 ],
 "metadata": {
  "celltoolbar": "Slideshow",
  "kernelspec": {
   "display_name": "Python 3",
   "language": "python",
   "name": "python3"
  },
  "language_info": {
   "codemirror_mode": {
    "name": "ipython",
    "version": 3
   },
   "file_extension": ".py",
   "mimetype": "text/x-python",
   "name": "python",
   "nbconvert_exporter": "python",
   "pygments_lexer": "ipython3",
   "version": "3.8.5"
  },
  "livereveal": {
   "scroll": true,
   "start_slideshow_at": "selected"
  }
 },
 "nbformat": 4,
 "nbformat_minor": 4
}
