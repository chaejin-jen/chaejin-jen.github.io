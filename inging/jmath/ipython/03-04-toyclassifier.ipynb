{
 "cells": [
  {
   "cell_type": "code",
   "execution_count": 1,
   "metadata": {},
   "outputs": [],
   "source": [
    "import numpy as np\n",
    "import matplotlib.pyplot as plt\n",
    "import matplotlib as mpl\n",
    "\n",
    "style_name = 'bmh' #bmh\n",
    "mpl.style.use(style_name)\n",
    "np.set_printoptions(precision=4, linewidth =150)\n",
    "\n",
    "style = plt.style.library[style_name]\n",
    "style_colors = [ c['color'] for c in style['axes.prop_cycle'] ]\n",
    "\n",
    "# Some more magic so that the notebook will reload external python modules;\n",
    "# see http://stackoverflow.com/questions/1907993/autoreload-of-modules-in-ipython\n",
    "%load_ext autoreload\n",
    "%autoreload 2"
   ]
  },
  {
   "cell_type": "markdown",
   "metadata": {},
   "source": [
    "# Class 03-4 toyclassifier\n",
    "- 아래처럼 미리 만들어 놓은 미분 게이트를 임포트 한다.\n",
    "\n",
    "- 주의 : 수업 중 실습으로 `Multiply` 게이트 만들기를 완성해야지 에러없이 실행됨."
   ]
  },
  {
   "cell_type": "code",
   "execution_count": 2,
   "metadata": {},
   "outputs": [],
   "source": [
    "from diff_gate_ans import Multiply, Add, Dot, Exp, Inverse, Ln, Logistic, Addn"
   ]
  },
  {
   "cell_type": "markdown",
   "metadata": {},
   "source": [
    "### 강아지, 고양이 분류기\n",
    "\n",
    "- 2주차에 예로 들었던 강아지, 고양이 이미지가 10차원 벡터로 변환되었다고 가정했을 때 개, 고양이를 분류하는 문제를 실제로 해결해보자.\n",
    "\n",
    "\n",
    "- 전형적인 분류 문제로 수업의 범위를 벗어나지만 두가지 관점에서 문제를 바라 보기로 하자.\n",
    "    - 합성함수를 미분하여 문제를 해결할 수 있다.\n",
    "    - 합성함수의 미분 과정은 합성에 참여하는 단위 함수만 미분하는 것으로 해결할 수 있다.\n",
    "\n",
    "\n",
    "- 기호\n",
    "    - $\\mathbf{x}_i$ : $i$번째 데이터로  $D$ 차원 벡터\n",
    "    - $y_i$ : $i$번째 데이터에 대한 정답레이블\n",
    "    - $\\sigma(z(\\mathbf{x}_i; \\mathbf{w}))$ : $i$번째 데이터에 대한 분류기의 출력\n",
    "    - $\\mathbf{w}$ : 분류기를 조정하는 조정 파라미터\n",
    "\n",
    "\n",
    "- 코스트함수<sup>cost function</sup> 또는 손실함수<sup>loss function</sup>\n",
    "    - 아래 손실함수는 입력 데이터 $i$개의 손실 또는 비용으로 설정한 값을 모두 더한 것으로 0이 가장 이상적인 상태\n",
    "    - 이 특정 $\\mathbf{w}$에서 손실함수의 값을 순전파로 구하고, 역전파로 미분계수를 구한다. \n",
    "$$\n",
    "C(\\mathbf{w}) = - \\sum_{i=1}^{N} y_i \\log[\\sigma(z(\\mathbf{x}_i; \\mathbf{w}))] + (1-y_i)\\log[1-\\sigma(z(\\mathbf{x}_i; \\mathbf{w}))]\n",
    "$$\n",
    "\n",
    "     \n",
    "- 위 손실함수의 시그마 기호 안쪽 부분은 아래처럼 네트워크로 모델링 할 수 있다.\n",
    "\n",
    "- 여기서 $z(\\mathbf{x}_i; \\mathbf{w})$부분은 $\\mathbf{x}_i \\cdot \\mathbf{w} = \\sum_{j=1}^{D} x_{ij}w_{j}$\n",
    "\n",
    "\n",
    "![](img/clf-network.png)\n",
    "<!-- <img src=\"imgs/clf-network.png\" width=\"750\"/> -->\n"
   ]
  },
  {
   "cell_type": "code",
   "execution_count": 3,
   "metadata": {},
   "outputs": [],
   "source": [
    "def logistic(x):\n",
    "    return 1.0 / (1 + np.exp(-x))\n",
    "\n",
    "class Classifier :\n",
    "    def __init__(self, X, y):\n",
    "        self.X = X # ( 데이터 개수 N, 데이터 차원 D )\n",
    "        self.N = X.shape[0]\n",
    "        self.y = y # ( 데이터 개수 N, )\n",
    "        \n",
    "        # 우리가 구해야 하는 파라미터 w, 최초는 무작위로 설정\n",
    "        self.w = np.random.randn(X.shape[1])\n",
    "        \n",
    "        # 코스트c 초기화\n",
    "        self.cost = 0.0\n",
    "        \n",
    "        # 코스트 함수를 네트워크로 구성해서 이 리스트에 저장\n",
    "        self.network = []\n",
    "        \n",
    "        \n",
    "    def make_network(self):\n",
    "        \"\"\"\n",
    "        데이터 개수 N개 만큼 단위 네트워크를 만들어 \n",
    "        self.network에 추가하여 전체 네트워크를 구성\n",
    "        \"\"\"\n",
    "        for i in range(self.N) :\n",
    "            # graph for one data\n",
    "            self.network.append([Dot(), Logistic(), Ln(), Multiply(), \n",
    "                                 Dot(), Logistic(), Multiply(), Add(), Ln(), Multiply(), \n",
    "                                 Add()])\n",
    "        \n",
    "        self.cost0 = Addn()\n",
    "        self.cost1 = Multiply()\n",
    "    \n",
    "    \n",
    "    def forward(self, w) :\n",
    "        \"\"\"\n",
    "        위 네트워크 그림처럼 \n",
    "        미리 약속된 순서대로 순전파 시킨다.\n",
    "        \"\"\"\n",
    "        data_fwd = []\n",
    "        for i in range(self.N) :\n",
    "            dot01_fwd   = self.network[i][0].forward(self.X[i], w)\n",
    "            sigma01_fwd = self.network[i][1].forward(dot01_fwd)\n",
    "            c00_fwd     = self.network[i][2].forward(sigma01_fwd)\n",
    "            c01_fwd     = self.network[i][3].forward(self.y[i], c00_fwd)\n",
    "\n",
    "            dot02_fwd   = self.network[i][4].forward(self.X[i], w)\n",
    "            sigma02_fwd = self.network[i][5].forward(dot02_fwd)\n",
    "            mul01_fwd   = self.network[i][6].forward(sigma02_fwd, -1)\n",
    "            add01_fwd   = self.network[i][7].forward(mul01_fwd, 1)\n",
    "            c02_fwd     = self.network[i][8].forward(add01_fwd)\n",
    "            c03_fwd     = self.network[i][9].forward((1-self.y[i]), c02_fwd)\n",
    "\n",
    "            c04_fwd     = self.network[i][10].forward(c01_fwd, c03_fwd)\n",
    "            \n",
    "            data_fwd.append(c04_fwd)\n",
    "            ######################################################\n",
    "        \n",
    "        # 각 데이터의 결과를 모두 더하고 \n",
    "        cost0_fwd   = self.cost0.forward(data_fwd)\n",
    "        # - 곱해준다.\n",
    "        cost1_fwd   = self.cost1.forward(cost0_fwd, -1)\n",
    "        \n",
    "        self.cost   = cost1_fwd\n",
    "        \n",
    "        \n",
    "    def backward(self) :\n",
    "        \"\"\"\n",
    "        순전파의 역순으로 역전파 시킨다.\n",
    "        \"\"\"\n",
    "        # backward\n",
    "        cost1_bak = self.cost1.backward(1)\n",
    "        cost0_bak = self.cost0.backward(cost1_bak[0])\n",
    "        dw = np.zeros(X.shape[1])\n",
    "        \n",
    "        for i in range(self.N) :\n",
    "            c04_bak     = self.network[i][10].backward(cost0_bak[i]);  \n",
    "            c03_bak     = self.network[i][9].backward(c04_bak[1]);        \n",
    "            c02_bak     = self.network[i][8].backward(c03_bak[1]);       \n",
    "            add01_bak   = self.network[i][7].backward(c02_bak);         \n",
    "            mul01_bak   = self.network[i][6].backward(add01_bak[0]);    \n",
    "            sigma02_bak = self.network[i][5].backward(mul01_bak[0]); \n",
    "            dot02_bak   = self.network[i][4].backward(sigma02_bak);   \n",
    "            c01_bak     = self.network[i][3].backward(c04_bak[0]);       \n",
    "            c00_bak     = self.network[i][2].backward(c01_bak[1]);      \n",
    "            sigma01_bak = self.network[i][1].backward(c00_bak);    \n",
    "            dot01_bak   = self.network[i][0].backward(sigma01_bak);   \n",
    "            \n",
    "            dw += dot01_bak[1]+dot02_bak[1]\n",
    "        \n",
    "        return dw\n",
    "    \n",
    "    \n",
    "    def train(self, lr=0.01, epoch=1500, verbose=False, verbose_step=100) :\n",
    "        costs = []\n",
    "        for i in range(epoch):\n",
    "            # 함수값 계산\n",
    "            self.forward(self.w)\n",
    "            costs.append(self.cost)\n",
    "            \n",
    "            if verbose :\n",
    "                if i % verbose_step == 0 : \n",
    "                    print(\"{}th cost:{:f}\".format(i, self.cost))\n",
    "            \n",
    "            # 미분계수 계산\n",
    "            dw = self.backward()\n",
    "            \n",
    "            # 스탭 이동\n",
    "            self.w = self.w - lr * dw\n",
    "        \n",
    "        if verbose :\n",
    "            print(\"{}th cost:{:f}\".format(i+1, self.cost))\n",
    "        \n",
    "        return costs\n",
    "    \n",
    "    def gradient_bp(self, w) :\n",
    "        self.forward(w)\n",
    "        dw = self.backward()\n",
    "        \n",
    "        return dw\n",
    "    \n",
    "    def gradient_anal(self, w):\n",
    "        \"\"\"\n",
    "        역전파 자동미분을 검증하기 위해 코스트함수를 손으로 미분한 코드\n",
    "        \n",
    "        w      : (Dx1), 미분해야하는 포인트\n",
    "        X      : (NxD), D:데이터의 차원, N:데이터의 개수\n",
    "        y      : (Nx1)\n",
    "\n",
    "        return : (Dx1), 그래디언트 벡터\n",
    "        \"\"\"\n",
    "        return np.dot( self.X.T, -self.y + logistic(np.dot(X, w)) )\n",
    "###############################################################################    "
   ]
  },
  {
   "cell_type": "code",
   "execution_count": 4,
   "metadata": {},
   "outputs": [
    {
     "name": "stdout",
     "output_type": "stream",
     "text": [
      "Analytic   grad. : [ 0.9453 -0.0235  0.      0.9453  0.9218  0.9218  0.9218  0.      0.9453  0.    ]\n",
      "Back-prob. grad. : [ 0.9453 -0.0235  0.      0.9453  0.9218  0.9218  0.9218  0.      0.9453  0.    ]\n",
      "Analytic   grad. : [ 0.2888 -0.1802  0.      0.2888  0.1086  0.1086  0.1086  0.      0.2888  0.    ]\n",
      "Back-prob. grad. : [ 0.2888 -0.1802  0.      0.2888  0.1086  0.1086  0.1086  0.      0.2888  0.    ]\n",
      "Analytic   grad. : [ 0.2361 -0.1951  0.      0.2361  0.0409  0.0409  0.0409  0.      0.2361  0.    ]\n",
      "Back-prob. grad. : [ 0.2361 -0.1951  0.      0.2361  0.0409  0.0409  0.0409  0.      0.2361  0.    ]\n",
      "Analytic   grad. : [ 0.0516 -0.9739  0.      0.0516 -0.9224 -0.9224 -0.9224  0.      0.0516  0.    ]\n",
      "Back-prob. grad. : [ 0.0516 -0.9739  0.      0.0516 -0.9224 -0.9224 -0.9224  0.      0.0516  0.    ]\n",
      "Analytic   grad. : [ 0.0959 -0.2987  0.      0.0959 -0.2028 -0.2028 -0.2028  0.      0.0959  0.    ]\n",
      "Back-prob. grad. : [ 0.0959 -0.2987  0.      0.0959 -0.2028 -0.2028 -0.2028  0.      0.0959  0.    ]\n",
      "Analytic   grad. : [ 0.0057 -0.9015  0.      0.0057 -0.8958 -0.8958 -0.8958  0.      0.0057  0.    ]\n",
      "Back-prob. grad. : [ 0.0057 -0.9015  0.      0.0057 -0.8958 -0.8958 -0.8958  0.      0.0057  0.    ]\n",
      "Analytic   grad. : [ 0.1223 -0.7358  0.      0.1223 -0.6135 -0.6135 -0.6135  0.      0.1223  0.    ]\n",
      "Back-prob. grad. : [ 0.1223 -0.7358  0.      0.1223 -0.6135 -0.6135 -0.6135  0.      0.1223  0.    ]\n",
      "Analytic   grad. : [ 0.688  -0.0042  0.      0.688   0.6838  0.6838  0.6838  0.      0.688   0.    ]\n",
      "Back-prob. grad. : [ 0.688  -0.0042  0.      0.688   0.6838  0.6838  0.6838  0.      0.688   0.    ]\n",
      "Analytic   grad. : [ 0.8549 -0.0915  0.      0.8549  0.7635  0.7635  0.7635  0.      0.8549  0.    ]\n",
      "Back-prob. grad. : [ 0.8549 -0.0915  0.      0.8549  0.7635  0.7635  0.7635  0.      0.8549  0.    ]\n",
      "Analytic   grad. : [ 0.9941 -0.7293  0.      0.9941  0.2649  0.2649  0.2649  0.      0.9941  0.    ]\n",
      "Back-prob. grad. : [ 0.9941 -0.7293  0.      0.9941  0.2649  0.2649  0.2649  0.      0.9941  0.    ]\n"
     ]
    }
   ],
   "source": [
    "np.random.seed(0)\n",
    "\n",
    "# 데이터 X와 정답 레이블 y를 정의\n",
    "X = np.array([[0,1,0,0,1,1,1,0,0,0],   # 개     1\n",
    "              [1,0,0,1,1,1,1,0,1,0]])  # 고양이 0\n",
    "y = np.array([1, 0])\n",
    "\n",
    "# 분류기를 만들고\n",
    "clf = Classifier(X,y)\n",
    "clf.make_network()\n",
    "\n",
    "#####################################################################\n",
    "# 미분 계수 확인\n",
    "# 임의의 w에 대해서 미분 계수를 역전파로 구해서 확인해본다.\n",
    "# gradient_anal 함수값과 동일해야 제대로 계산된 것이다.\n",
    "for i in range(10):\n",
    "    w_ = np.random.randn(X.shape[1])\n",
    "    print(\"Analytic   grad. : {}\".format(clf.gradient_anal(w_)))\n",
    "    #clf.forward(w_)\n",
    "    print(\"Back-prob. grad. : {}\".format(clf.gradient_bp(w_)))"
   ]
  },
  {
   "cell_type": "code",
   "execution_count": 5,
   "metadata": {},
   "outputs": [
    {
     "name": "stdout",
     "output_type": "stream",
     "text": [
      "0th cost:5.846412\n",
      "100th cost:0.128426\n",
      "200th cost:0.059528\n",
      "300th cost:0.038505\n",
      "400th cost:0.028406\n",
      "500th cost:0.022487\n",
      "600th cost:0.018602\n",
      "700th cost:0.015858\n",
      "800th cost:0.013818\n",
      "900th cost:0.012242\n",
      "1000th cost:0.010987\n",
      "1100th cost:0.009966\n",
      "1200th cost:0.009118\n",
      "1300th cost:0.008402\n",
      "1400th cost:0.007791\n",
      "1500th cost:0.007267\n"
     ]
    },
    {
     "data": {
      "image/png": "[encoded data removed]",
      "text/plain": [
       "<Figure size 432x288 with 1 Axes>"
      ]
     },
     "metadata": {
      "needs_background": "light"
     },
     "output_type": "display_data"
    },
    {
     "name": "stdout",
     "output_type": "stream",
     "text": [
      "[-1.9522  4.0017  0.9787 -1.4753  1.7529 -1.0919  0.8354 -0.1514 -3.8194  0.4106]\n"
     ]
    }
   ],
   "source": [
    "# 학습시킨다.\n",
    "costs = clf.train(lr=0.1, verbose=True)\n",
    "\n",
    "plt.plot(costs)\n",
    "plt.show()\n",
    "\n",
    "# 학습된 결과\n",
    "print(clf.w)"
   ]
  },
  {
   "cell_type": "code",
   "execution_count": 6,
   "metadata": {},
   "outputs": [
    {
     "data": {
      "text/html": [
       "<style>h1 { font-family: 'Noto Sans KR' !important; color:#348ABD !important;   }\n",
       "h2 { font-family: 'Noto Sans KR' !important; color:#467821 !important;   }\n",
       "h3 { font-family: 'Noto Sans KR' !important; color:#A60628 !important;   }\n",
       "h4 { font-family: 'Noto Sans KR' !important; color:#7A68A6 !important;   }        \n",
       "\n",
       "</style>"
      ],
      "text/plain": [
       "<IPython.core.display.HTML object>"
      ]
     },
     "execution_count": 6,
     "metadata": {},
     "output_type": "execute_result"
    }
   ],
   "source": [
    "from IPython.core.display import HTML\n",
    "\n",
    "def _set_css_style(css_file_path):\n",
    "   \"\"\"\n",
    "   Read the custom CSS file and load it into Jupyter.\n",
    "   Pass the file path to the CSS file.\n",
    "   \"\"\"\n",
    "   styles = open(css_file_path, \"r\").read()\n",
    "   s = '<style>%s</style>' % styles     \n",
    "   return HTML(s)\n",
    "\n",
    "_set_css_style(\"../../style.css\")"
   ]
  },
  {
   "cell_type": "code",
   "execution_count": null,
   "metadata": {},
   "outputs": [],
   "source": []
  }
 ],
 "metadata": {
  "kernelspec": {
   "display_name": "Python 3",
   "language": "python",
   "name": "python3"
  },
  "language_info": {
   "codemirror_mode": {
    "name": "ipython",
    "version": 3
   },
   "file_extension": ".py",
   "mimetype": "text/x-python",
   "name": "python",
   "nbconvert_exporter": "python",
   "pygments_lexer": "ipython3",
   "version": "3.8.5"
  }
 },
 "nbformat": 4,
 "nbformat_minor": 4
}