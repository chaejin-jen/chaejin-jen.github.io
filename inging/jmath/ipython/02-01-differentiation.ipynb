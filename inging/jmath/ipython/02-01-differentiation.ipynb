{
 "cells": [
  {
   "cell_type": "markdown",
   "metadata": {
    "slideshow": {
     "slide_type": "slide"
    }
   },
   "source": [
    "# Class 02 : 미분의 개념"
   ]
  },
  {
   "cell_type": "code",
   "execution_count": 1,
   "metadata": {
    "slideshow": {
     "slide_type": "skip"
    }
   },
   "outputs": [],
   "source": [
    "import numpy as np\n",
    "import matplotlib.pyplot as plt\n",
    "import matplotlib as mpl\n",
    "import sympy as sp\n",
    "\n",
    "sp.init_printing()\n",
    "\n",
    "style_name = 'bmh' #bmh\n",
    "mpl.style.use(style_name)\n",
    "np.set_printoptions(precision=4, linewidth =150)\n",
    "\n",
    "style = plt.style.library[style_name]\n",
    "style_colors = [ c['color'] for c in style['axes.prop_cycle'] ]\n",
    "\n",
    "# Some more magic so that the notebook will reload external python modules;\n",
    "# see http://stackoverflow.com/questions/1907993/autoreload-of-modules-in-ipython\n",
    "%load_ext autoreload\n",
    "%autoreload 2"
   ]
  },
  {
   "cell_type": "code",
   "execution_count": 2,
   "metadata": {},
   "outputs": [],
   "source": [
    "from diff import compare_1over100_with_exact, est_limit, make_df"
   ]
  },
  {
   "cell_type": "markdown",
   "metadata": {
    "slideshow": {
     "slide_type": "slide"
    }
   },
   "source": [
    "## 미분 기초 :  실생활과 밀접한 미분\n",
    "\n",
    "- 본 수업에서 최종적으로 살펴볼 선형 회귀는 결국 우리의 가설과 데이터 간의 에러를 줄이는 것이 목적인데 그 과정에서 가장 중요한 개념이 미분\n",
    "\n",
    "- 선형 회귀 뿐만 아니라 모든 머신러닝은 최적화 과정이라 할 수 있는데 미분의 개념은 최적화의 많은 알고리즘에 중요한 위치를 차지\n",
    "\n",
    "\n",
    "- 본 수업의 미분 파트에서는 다음과 같은 것들을 알아보기로 한다.\n",
    "    - 극한의 개념 \n",
    "    - 미분의 개념\n",
    "    - 컴퓨터로 미분하는 방법\n",
    "    \n",
    "    \n",
    "\n",
    "- 본격적으로 미분을 알아보기 앞서 학습에 도움이되는 툴인 `sympy`를 소개"
   ]
  },
  {
   "cell_type": "markdown",
   "metadata": {},
   "source": [
    "### Sympy<sup>[sympy]</sup>\n",
    "\n",
    "> SymPy is a Python library for symbolic mathematics. It aims to become a full-featured computer algebra system (CAS) while keeping the code as simple as possible in order to be comprehensible and easily extensible. SymPy is written entirely in Python. <br/> - http://www.sympy.org\n",
    "\n",
    "<img src=\"imgs/sympy.png\"/>\n",
    "\n",
    "- 위 설명처럼 `Sympy` 를 사용하면 계산에서 기호를 다룰 수 있는데 우리 수업에서는 극한과 미분 예제의 확인을 위해 사용\n",
    "\n",
    "- 극한과 미분의 복잡한 실제 계산 보다는 정확한 개념과 파이썬 코드 구현을 중심으로 리뷰하고 계산은 `Sympy`에게 맡김 \n",
    "\n",
    "- 다음은 간단한 사용법으로 기호 `x`를 정의하고 기호를 다루는 예를 보여주고 있다.\n",
    "\n",
    "```python\n",
    "import sympy as sp\n",
    "\n",
    "x = sympy.Symbol('x')\n",
    "sympy.limit((x**2-1)/(x-1), x, 1) # 극한값을 구한다.\n",
    "sympy.diff(sympy.E**(2*x), x)     # 도함수를 구한다.\n",
    "```\n",
    "\n",
    "\n",
    "- 아래 셀을 실행해서 결과를 확인"
   ]
  },
  {
   "cell_type": "code",
   "execution_count": 3,
   "metadata": {},
   "outputs": [
    {
     "data": {
      "image/png": "[encoded data removed]",
      "text/latex": [
       "$\\displaystyle 2$"
      ],
      "text/plain": [
       "2"
      ]
     },
     "execution_count": 3,
     "metadata": {},
     "output_type": "execute_result"
    }
   ],
   "source": [
    "x = sp.Symbol('x')\n",
    "sp.limit((x**2-1)/(x-1), x, 1)"
   ]
  },
  {
   "cell_type": "code",
   "execution_count": 4,
   "metadata": {},
   "outputs": [
    {
     "data": {
      "image/png": "[encoded data removed]",
      "text/latex": [
       "$\\displaystyle 2 e^{2 x}$"
      ],
      "text/plain": [
       "   2⋅x\n",
       "2⋅ℯ   "
      ]
     },
     "execution_count": 4,
     "metadata": {},
     "output_type": "execute_result"
    }
   ],
   "source": [
    "sp.diff(sp.E**(2*x), x)"
   ]
  },
  {
   "cell_type": "code",
   "execution_count": 5,
   "metadata": {},
   "outputs": [
    {
     "data": {
      "image/png": "[encoded data removed]",
      "text/latex": [
       "$\\displaystyle x^{2} + 2 x + 1$"
      ],
      "text/plain": [
       " 2          \n",
       "x  + 2⋅x + 1"
      ]
     },
     "execution_count": 5,
     "metadata": {},
     "output_type": "execute_result"
    }
   ],
   "source": [
    "sp.expand((x+1)**2)"
   ]
  },
  {
   "cell_type": "markdown",
   "metadata": {
    "slideshow": {
     "slide_type": "slide"
    }
   },
   "source": [
    "### 미분<sup>differentiation</sup>"
   ]
  },
  {
   "cell_type": "markdown",
   "metadata": {},
   "source": [
    "#### 함수의 변화\n",
    "\n",
    "- 함수 단원에서 함수를 입력과 출력으로 생각했었는데 그렇다면 입력이 변할때 출력이 얼만큼 변하는지 생각해볼 수 있다. \n",
    "\n",
    "- 입력의 변화를 $\\Delta \\text{input}$, 출력의 변화를 $\\Delta \\text{output}$라 하자. \n",
    "\n",
    "- 그러면 다음처럼 입력의 단위 변화당 출력이 얼마나 민감하게 변하는지 나타낼 수 있다.\n",
    "\n",
    "$$\n",
    "\\text{sensitivity} = \\frac{\\Delta \\text{output}}{\\Delta \\text{input}}\n",
    "$$\n",
    "\n",
    "- 이런 입력의 단위 변화당 출력의 민감도가 어떤 정보를 줄 수 있을까? \n",
    "\n",
    "- 생활의 많은 순간 우리는 함수의 민감도를 고려해서 의사 결정을 하고 있다. 다음 두 경우가 함수 관계를 만족시킨다는 가정을 두고 생각해보자.\n",
    "\n",
    "\n",
    "\n",
    "\n",
    "- 주식투자를 한다면\n",
    "    - 입력 : 투자 이후 시간\n",
    "    - 출력 : 이익금\n",
    "    - 단위시간당 이익이 얼마나 늘어나는가?\n",
    "    - $f: t \\to \\$ $\n",
    "\n",
    "\n",
    "- 목욕을 한다면\n",
    "    - 입력 : 수전의 회전각도\n",
    "    - 출력 : 수도꼭지에서 나오는 물의 온도\n",
    "    - 수도꼭지를 얼마나 돌려야 물이 적당한 온도가 되는가?\n",
    "    - $f:\\text{angle} \\to \\text{temp.}$\n",
    "\n",
    "\n",
    "- 이처럼 많은 경우 입력에 대한 출력의 변화 정도를 알려주는 정보가 중요하게 사용\n"
   ]
  },
  {
   "cell_type": "markdown",
   "metadata": {},
   "source": [
    "#### 함수의 평균적 변화 - 구간 속도위반 단속\n",
    "\n",
    "- 이제 입력에 대한 출력의 변화 정도를 좀 더 잘 이용하고 있는 예를 들어보자. \n",
    "\n",
    "- 고속도로에서 구간 속도위반 단속이란 구간이 시작될때 차량을 촬영하고 구간이 끝날 때 동일 차량을 촬영해서 동일 차량이 그 구간을 제한속도로 통화하는데 걸리는 시간보다 빨리 통과하면 속도위반으로 단속하는 방식이다.\n",
    "\n",
    "- 아래는 입력이 특정 시간이고 출력이 그 시간까지 이동한 거리인 함수를 그리는 python코드와 그래프이다.\n",
    "\n",
    "- 예를 들어 대구 수성IC-동서울TG 간 275km를 210분동안 운행했을때 시간에 따른 운행 위치를 나타낸다고 하면 다음과 같은 그래프가 그려질 것이다."
   ]
  },
  {
   "cell_type": "code",
   "execution_count": 6,
   "metadata": {},
   "outputs": [
    {
     "data": {
      "image/png": "[encoded data removed]",
      "text/plain": [
       "<Figure size 504x504 with 1 Axes>"
      ]
     },
     "metadata": {
      "needs_background": "light"
     },
     "output_type": "display_data"
    },
    {
     "name": "stdout",
     "output_type": "stream",
     "text": [
      "90분에서 100분 사이의 평균속도 : 203.67km/h\n"
     ]
    }
   ],
   "source": [
    "fig, ax = plt.subplots()\n",
    "fig.set_size_inches((7,7))\n",
    "\n",
    "ax.spines['left'].set_position('zero')\n",
    "ax.spines['bottom'].set_position('zero')\n",
    "\n",
    "a = 20\n",
    "b = 100\n",
    "c = 1.32\n",
    "Km = 275\n",
    "T = 210\n",
    "\n",
    "def D(t):\n",
    "    \"\"\"\n",
    "    0분에서 t분까지 이동거리를 구해주는 함수\n",
    "    \"\"\"\n",
    "    def f(x):\n",
    "        return 1 / (1+np.exp( -(1/a)*(x-b) )) * T * c\n",
    "\n",
    "    return f(t)-f(0)\n",
    "\n",
    "def avg_kmh(T):\n",
    "    return ( D(T[1]) - D(T[0]) ) / (T[1]-T[0]) * 60.0\n",
    "    \n",
    "\n",
    "t = np.linspace(0, T, 200)\n",
    "d = D(t)\n",
    "\n",
    "ax.plot(t, np.ones(t.shape)*Km, '--', color=style_colors[6])\n",
    "ax.plot(np.ones(t.shape)*T, d, '--', color=style_colors[6])\n",
    "ax.plot(t, d)\n",
    "ax.set_xlabel('Time(min.)')\n",
    "ax.set_ylabel('Displacement (km)')\n",
    "plt.show()\n",
    "\n",
    "# 시간의 구간을 지정하고 구간의 평균속도를 확인해보자.\n",
    "# 전구간 : [0, T]\n",
    "# 과속   : \n",
    "ts = [90, 100]\n",
    "print(\"{}분에서 {}분 사이의 평균속도 : {:.2f}km/h\".format(ts[0], ts[1], avg_kmh(ts)))"
   ]
  },
  {
   "cell_type": "markdown",
   "metadata": {},
   "source": [
    "- 구간 속도위반 단속카메라가 시작점인 대구 수성IC에 있고 끝점인 동서울TG에 있다면 위처럼 운행한 차량은 100km/h 제한 고속도로에서 속도위반에 걸리지 않는다. \n",
    "\n",
    "-  `0분에서 210분 사이의 평균속도 : 78.35km/h`\n",
    "    \n",
    "    \n",
    "- 하지만 정말 속도 위반을 하지 않았을까? 단속 시작 카메라를 운행을 시작한지 90분쯤 되는 위치로 옮기고 단속 종료 카메라를 110분쯤 되는 위치로 옮겨보면 무려 200km/h로 달린것을 알 수 있다. \n",
    "\n",
    "- ####  위 코드에서 `ts = [90, 100]`를 `ts = [90,T]`로 수정하고 실행해보면 결과는 다음과 같다.\n",
    "\n",
    "- `90분에서 100분 사이의 평균속도 : 203.67km/h`\n",
    "    \n",
    "- 왜 이런 문제가 발생할까? \n",
    "\n",
    "- 이유는 당연히 단속 구간을 너무 길게 잡아서 그런것이다. 실제로 고속도로에서 구간은 너무 길지 않고 중간에 휴게소나 졸음쉼터가 있으면 안된다!\n",
    "\n",
    ">또 평균속도를 계산하기 때문에, 중간에 휴식하다가 과속하는 것은 막을 수 없다. 구간 내에 쉴 수 있는 곳, 특히 휴게소가 있으면 더한데, 예를들어 서해대교를 지나는 차가 행담도 휴게소를 들러 잠시 쉰다면 아무리 구간 내에서 과속을 해도 단속에 걸리지 않는 것이다. 서해대교라고 항상 강풍이 부는 건 아니기 때문에 이런 얌체가 종종 보이기도 한다.<br/>- 나무위키\n",
    "\n",
    "- 속도는 시간-위치 함수의 변화율이고 우리는 평균속도 즉, 평균변화율을 구했다. \n",
    "\n",
    "- 그런데 평균을 구하는 구간이 너무 길면 변화율이 아무 의미없어지는 것을 확인했다. \n",
    "\n",
    "- #### 함수의 평균변화율과 평균을 구할때 **구간을 어떻게 설정해야 의미있는 변화율**이 될까 하는 것이 중요한 문제가 된다."
   ]
  },
  {
   "cell_type": "markdown",
   "metadata": {
    "slideshow": {
     "slide_type": "slide"
    }
   },
   "source": [
    "#### 평균변화율 "
   ]
  },
  {
   "cell_type": "code",
   "execution_count": 7,
   "metadata": {
    "slideshow": {
     "slide_type": "fragment"
    }
   },
   "outputs": [
    {
     "data": {
      "image/png": "[encoded data removed]",
      "text/plain": [
       "<Figure size 504x504 with 1 Axes>"
      ]
     },
     "metadata": {
      "needs_background": "light"
     },
     "output_type": "display_data"
    }
   ],
   "source": [
    "plt.figure(figsize=(7,7))\n",
    "\n",
    "x = np.linspace(0,5)\n",
    "\n",
    "def f(x):\n",
    "    return 2*x**3 + 5*x**2\n",
    "\n",
    "a , b = 2,4 \n",
    "\n",
    "plt.plot(x, f(x), lw=3)\n",
    "plt.plot( (a,a), (0, f(a)), '--', lw=2 )\n",
    "plt.plot( (b,b), (0, f(b)), '--', lw=2 )\n",
    "plt.plot( (a,b), (f(a), f(b)), lw=2, color='k') #평균변화율\n",
    "plt.plot( (a,b), (f(a), f(a)), lw=2, color='k') #dx\n",
    "plt.plot( (b,b), (f(a), f(b)), lw=2, color='k') #dy\n",
    "\n",
    "plt.text(3, 40, r'$\\Delta x$', color='black', fontdict={ 'size': 35, })\n",
    "plt.text(4, 100, r'$\\Delta y$', color='black', fontdict={ 'size': 35, })\n",
    "plt.text(2.6, 150, r'$\\frac{\\Delta y}{\\Delta x}$', color='black', fontdict={ 'size': 35, })\n",
    "plt.xticks( [a, b], ['a', 'b'] );\n",
    "plt.xticks(fontsize=25)\n",
    "plt.yticks(fontsize=15)\n",
    "\n",
    "plt.show()"
   ]
  },
  {
   "cell_type": "markdown",
   "metadata": {
    "slideshow": {
     "slide_type": "slide"
    }
   },
   "source": [
    "- 평균변화율은 위 그래프가 직관적으로 보여주듯이 $x$의 증분 $\\Delta x$에 대한 $y$의 증분 $\\Delta y$의 비율로 나타낼 수 있다.\n",
    "\n",
    "\n",
    "$$\n",
    "\\frac{\\Delta y}{\\Delta x} = \\frac{f(b)-f(a)}{b-a} = \\frac{f(a+\\Delta x)-f(a)}{\\Delta x}\n",
    "$$\n",
    "\n",
    "\n",
    "- 여기서 두 점사이의 곡선의 형태는 평균변화율에 영향을 미치지 않는다. (즉, 중간에 과속이 가능하다!) \n",
    "\n",
    "- 이런 상황을 막기위해 좀 더 자세한 정보가 필요하고 결과적으로 두 점사이의 간격을 좁힐 필요가 있다. (단속 카메라의 위치를 더 가깝게!) \n",
    "\n",
    "- 실제 그림에서 언덕의 가파른 정도는 중간 지점 이후부터 평균 기울기보다 훨씬 가파르다. (과속 구간이 실제로 있다!) \n",
    "\n",
    "- 따라서 a-b의 간격을 충분히 가깝게 하면 더 자세한 정보를 얻을 수 있고 이를 통해 좀 더 정밀한 과속단속이 가능할 것이다. "
   ]
  },
  {
   "cell_type": "markdown",
   "metadata": {},
   "source": [
    "#### 가장 자세한 정보를 얻기 위해......\n",
    "\n",
    "<img src=\"imgs/curve-grad.png\"/>\n",
    "\n",
    "\n",
    "- 위 그림을 보면 언덕이 직선인 경우 어느 지점이나 경사가 똑같다. 구간을 좁힌 정보나 구간을 넓힌 평균 정보나 정보가 똑같다. \n",
    "\n",
    "- 반면 곡선인 경우는 모든 지점에서 경사의 가파른 정도가 다 다르다. 모든 지점에서 언덕의 가파른 정도를 알고 싶은 것이다. 앞서 a, b의 간격을 충분히 줄여 최대한 자세한 정보를 얻고 싶다고 했는데......\n",
    "\n",
    "- 우선 간격을 0.01정도로 정해보자. 0.01이면 충분히 작은 간격이어서 순간의 변화를 계산해줄만하다. \n",
    "\n",
    "- ####  따라서 우리는 다음처럼 순간의 변화율을 구하기로 마음 먹었다.\n",
    "\n",
    "<br/>\n",
    "\n",
    "***\n",
    "#### 우리 마음대로 정한 순간변화율 \n",
    "$$\n",
    "df(x) = \\frac{f(x+0.01)-f(x)}{0.01}\n",
    "$$\n",
    "***\n",
    "\n",
    "<br/>"
   ]
  },
  {
   "cell_type": "markdown",
   "metadata": {},
   "source": [
    "#### 실험 1\n",
    "\n",
    "- $y = x^2$에 대해 매우 짧은 순간의 변화율을 계산해 주는 함수가 $2x$라는 것은 알려져 있다고 하자.\n",
    "\n",
    "- 우리의 약속이 $y = x^2$에 대해 쓸만한지 알아보자.\n",
    "\n",
    "- `compare_1over100_with_exact()`함수는 정확한 순간변화율과 0.01을 분모로해서 계산한 변화율을 비교해주는 함수이다."
   ]
  },
  {
   "cell_type": "code",
   "execution_count": 8,
   "metadata": {},
   "outputs": [],
   "source": [
    "def compare_1over100_with_exact(x, f, df_analytic) :\n",
    "    \"\"\"\n",
    "    x  : 순간의 변화율을 알아볼 위치\n",
    "    f  : 순간의 변화율을 계산할 대상이 되는 함수\n",
    "    df : 미분법을 이용하여 정확히 정의된 도함수\n",
    "    \n",
    "    위 세 인자를 이용하여 변화 구간을 0.01로 설정하고 계산한 순간의 변화율과\n",
    "    정확히 계산한 순간의 변화율을 화면에 프린트 하세요.\n",
    "    \"\"\"\n",
    "    print(\"f(x0)={}, df(x0)={:.3f} at x0={}\".format(f(x),df_analytic(x), x))\n",
    "    print(\"f(x0)={}, df(x0)={:.3f} at x0={}\".format(f(x),(f(x+0.01)-f(x))/0.01, x))"
   ]
  },
  {
   "cell_type": "code",
   "execution_count": 9,
   "metadata": {},
   "outputs": [
    {
     "name": "stdout",
     "output_type": "stream",
     "text": [
      "f(x0)=9, df(x0)=6.000 at x0=3\n",
      "f(x0)=9, df(x0)=6.010 at x0=3\n"
     ]
    }
   ],
   "source": [
    "# 1. 아래 x0 위치에서 함수 x**2의 순간변화율을 2*x로 구한다. \n",
    "# 2. 우리가 가정한 방식대로 구간을 0.01로 해서 근사된 순간변화율을 구한다.\n",
    "# 3. 두 결과를 프린트하여 비교한다.\n",
    "\n",
    "x0 = 3\n",
    "\n",
    "# 함수와 순간의 변화율을 계산해주는 알려진 함수를 정의한다.\n",
    "f  = lambda x : x**2\n",
    "df = lambda x : 2*x\n",
    "\n",
    "compare_1over100_with_exact(x0, f, df)"
   ]
  },
  {
   "cell_type": "markdown",
   "metadata": {},
   "source": [
    "#### 실험 2\n",
    "\n",
    "- 이번에는 $\\dfrac{\\sin(x)}{e^x}$ 같은 함수에서는 어떤지 확인해보자.\n",
    "\n",
    "- 아직 순간변화율을 정확하게 계산하는 법은 모르지만 아래 코드에 주석처럼 `sympy`를 사용해서 정답을 안다고 가정한다."
   ]
  },
  {
   "cell_type": "code",
   "execution_count": 10,
   "metadata": {},
   "outputs": [
    {
     "data": {
      "image/png": "[encoded data removed]",
      "text/plain": [
       "<Figure size 432x288 with 1 Axes>"
      ]
     },
     "metadata": {
      "needs_background": "light"
     },
     "output_type": "display_data"
    },
    {
     "name": "stdout",
     "output_type": "stream",
     "text": [
      "f(x0)=158.69972519957136, df(x0)=115.678 at x0=-5.7588\n",
      "f(x0)=158.69972519957136, df(x0)=112.948 at x0=-5.7588\n"
     ]
    }
   ],
   "source": [
    "x0 = -5.7588\n",
    "\n",
    "# 함수와 순간의 변화율을 계산해주는 알려진 함수를 정의한다.\n",
    "f = lambda x : np.sin(x) / np.exp(x)\n",
    "\n",
    "# sympy로 순간변화율 함수를 구해서 그대로 코딩한다.\n",
    "# x = sympy.Symbol('x')\n",
    "# sympy.diff(sympy.sin(x)/sympy.E**x, x)\n",
    "df  = lambda x : np.exp(-x)*np.cos(x) - np.exp(-x)*np.sin(x)\n",
    "ndf = lambda x : (f(x+0.01)-f(x)) / 0.01\n",
    "\n",
    "x = np.linspace(-6, 0, 200)\n",
    "plt.plot(x, f(x), lw=2)\n",
    "plt.axvline(x0, color=style_colors[1], ls='--')\n",
    "plt.show()\n",
    "\n",
    "compare_1over100_with_exact(x0, f, df)\n"
   ]
  },
  {
   "cell_type": "markdown",
   "metadata": {},
   "source": [
    "\n",
    "\n",
    "- 결과는 다음과 같게 나온다.\n",
    "```python\n",
    "f(x0)=158.700, df(x0) =115.678 at x0=-5.7588\n",
    "f(x0)=158.700, ndf(x0)=112.948 at x0=-5.7588\n",
    "```\n",
    "\n",
    "\n",
    "- 실험 1에서는 그럭저럭 괜찮은 근사값이 나오지만 실험 2에서는 그렇지 못하다.\n",
    "\n",
    "- 실험 결과 \"오차가 문제에 따라 때로는 괜찮지만 때로는 문제가 될 수도 있겠다.\"는 결과를 내릴 수 있다."
   ]
  },
  {
   "cell_type": "markdown",
   "metadata": {},
   "source": [
    "### 극한<sup>limits</sup>\n",
    "\n"
   ]
  },
  {
   "cell_type": "markdown",
   "metadata": {
    "slideshow": {
     "slide_type": "slide"
    }
   },
   "source": [
    "#### 극한\n",
    "\n",
    "- 앞서 이야기한 순간의 변화율을 정의하기 위한 개념으로 극한을 알아보자. 극한이란 함수에서 정의할 수 있는 함수값과는 다른 또 다른 값이다. 정의는 다음과 같다.\n",
    "\n",
    "- 함수 $f(x)$에서 $x$의 값이 $a$와 다른 값을 가지면서 $a$에 가까이 갈 때 $f(x)$의 값이 일정한 값 $L$에 가까워지면 \n",
    "\n",
    "$$\n",
    "\\lim_{x \\to a} f(x) = L\n",
    "$$\n",
    "\n",
    "- 이때 $L$을 $x \\to a$일 때 함수 $f(x)$의 극한값 또는 극한이라 한다. \n",
    "\n",
    "- 정의만 보면 어떠 함수에 특정한 값 예를 들어 3을 대입하여 얻는 함수값이나 입력이 3으로 가까이 가면서 계속해서 얻게되는 함수의 값이나 별 다른것이 없다고 생각할 수 있다. \n",
    "\n",
    "- 하지만 이는 특수한 경우 다시말해 함수값과 극한값이 같은 경우로 이를 연속이라 한다. \n",
    "\n",
    "- 대부분 우리는 함수를 제일 먼저 연속인 경우를 통해 배우게 되므로 이런 경우를 일반적이라고 생각 하지만 일반적으로는 함수값과 극한값은 같이 않다. \n",
    "\n",
    "- 여기서 중요한 것은 $x$가 결코 $a$가 되지 않는다는 점, $x=a$가 되고 어떤 값이 정의된다면 그 값은 함수값이 되고, 극한값과 함수값은 같아진다.\n",
    "\n",
    "- 다음 예를 통해 극한값과 함수값이 다를 수 있는 경우에 대해서 구체적으로 알아보자.\n",
    "\n"
   ]
  },
  {
   "cell_type": "code",
   "execution_count": 11,
   "metadata": {
    "slideshow": {
     "slide_type": "fragment"
    }
   },
   "outputs": [
    {
     "data": {
      "image/png": "[encoded data removed]",
      "text/plain": [
       "<Figure size 720x360 with 1 Axes>"
      ]
     },
     "metadata": {
      "needs_background": "light"
     },
     "output_type": "display_data"
    }
   ],
   "source": [
    "import matplotlib.lines as mlines\n",
    "\n",
    "plt.figure(figsize=(10,5))\n",
    "\n",
    "x1 = np.linspace(-2, -1, 10)\n",
    "x2 = np.linspace(-1, 0, 10)\n",
    "x3 = np.linspace(0, 1, 10)\n",
    "x4 = np.linspace(1, 2, 10)\n",
    "\n",
    "plt.plot(x1, -(0.5*x1+1), x2, x2, x3, -x3, x4, (x4-1))\n",
    "\n",
    "plt.plot(-2, 0, 'o', color=style_colors[0], markersize=15,)\n",
    "plt.plot(-1, -0.5, 'o', color=style_colors[0], markersize=15, fillstyle='none')\n",
    "\n",
    "plt.plot(-1, -1, 'o', color=style_colors[1], markersize=15,)\n",
    "plt.plot(0, 0, 'o',   color=style_colors[2], markersize=15, fillstyle='none')\n",
    "plt.plot(1, -1, 'o',   color=style_colors[2], markersize=15, )\n",
    "\n",
    "plt.plot(1, 0, 'o',   color=style_colors[3], markersize=15, fillstyle='none')\n",
    "plt.plot(2, 1, 'o',   color=style_colors[3], markersize=15, )\n",
    "\n",
    "plt.plot(0, 0.5, 'o',   color=style_colors[4], markersize=15, )\n",
    "plt.xticks(fontsize=14)\n",
    "plt.yticks(fontsize=14)\n",
    "plt.axis('equal')\n",
    "\n",
    "plt.show()"
   ]
  },
  {
   "cell_type": "markdown",
   "metadata": {
    "slideshow": {
     "slide_type": "fragment"
    }
   },
   "source": [
    "- **경우 1** 위 함수에서 가로축 좌표 -2 오른쪽(양의 방향)에서 -2로 계속 다가가면 $\\lim_{x \\to -2+}$ 값은 0에 점점 수렴한다.\n",
    "\n",
    "$$\n",
    "\\lim_{x \\to -2+} f(x) = 0\n",
    "$$\n",
    "<br/><br/>\n",
    "\n",
    "- **경우 2** 위 함수에서 -1 왼쪽(음의 방향)에서 -1로 계속 다가가는 경우$\\lim_{x \\to -1-}$와 오른쪽(양의 방향)에서 -1로 계속 다가가는 경우 $\\lim_{x \\to -1+}$ 각각 다른 값으로 수렴하게 된다.\n",
    "\n",
    "$$\n",
    "\\lim_{x \\to -1-} f(x) = -0.5 \\quad \\ne \\quad \\lim_{x \\to -1+} f(x) = -1 \\quad=\\quad f(-1)=-1\n",
    "$$\n",
    "<br/><br/>\n",
    "\n",
    "- **경우 3** 위 함수에서 0 왼쪽(음의 방향)에서 0으로 계속 다가가는 경우$\\lim_{x \\to 0-}$와 오른쪽(양의 방향)에서 0으로 계속 다가가는 경우 $\\lim_{x \\to 0+}$ 같은 값으로 수렴하게 된다. 단, 그 값은 함수 값과는 다르다. \n",
    "\n",
    "$$\n",
    "\\lim_{x \\to 0-} f(x) = 0 \\quad = \\quad  \\lim_{x \\to 0+} f(x) = 0 \\quad\\ne\\quad f(0) = 0.5\n",
    "$$\n",
    "<br/><br/>\n",
    "\n",
    "- **경우 4**  위 함수에서 1 왼쪽(음의 방향)에서 1로 계속 다가가는 경우$\\lim_{x \\to 1-}$와 오른쪽(양의 방향)에서 1로 계속 다가가는 경우 $\\lim_{x \\to 1+}$ 각각 다른 값으로 수렴하게 된다.\n",
    "\n",
    "$$\n",
    "f(1)=-1 \\quad = \\quad \\lim_{x \\to 1-} f(x) = -1 \\quad \\ne \\quad \\lim_{x \\to 1+} f(x) = 0 \n",
    "$$\n",
    "<br/><br/>\n",
    "\n",
    "- **경우 5** 위 함수에서 2 왼쪽(음의 방향)에서 2로 계속 다가가면 $\\lim_{x \\to 2-}$ 값은 1에 수렴한다.\n",
    "\n",
    "$$\n",
    "\\lim_{x \\to 2-} f(x) = 1\n",
    "$$\n",
    "<br/><br/>\n",
    "\n",
    "- 이런 경험으로 부터 극한의 존재를 다음처럼 정의할 수 있다.\n",
    "\n",
    "#### 극한의 존재성 \n",
    "- $x \\to a$일때 함수 $f(x)$가 $L$로 수렴하면 $x \\to a+$ 일때 우극한과 $x \\to a-$일때 좌극한이 모두 존재하고 그 값이 $L$로 같다. 또한 그 역도 성립\n",
    "\n",
    "\n",
    "- 위 경우 $\\lim_{x \\to -1}f(x)$, $\\lim_{x \\to 1}f(x)$은 존재하지 않게 된다. 실험으로부터 함수값과 극한값은 명확히 다른 것임을 개념적으로나마 이해할 수 있다.\n"
   ]
  },
  {
   "cell_type": "markdown",
   "metadata": {
    "slideshow": {
     "slide_type": "subslide"
    }
   },
   "source": [
    "#### 분수함수에서의 극한 \n",
    "\n",
    "$$\n",
    "f(x) = \\frac{x^2 - 1}{x-1}\n",
    "$$\n",
    "\n",
    "위 함수에서 $x=1$근처에서 어떤일이 일어날까?\n",
    "\n",
    "$$\n",
    "\\lim_{x \\to 1} \\frac{x^2 - 1}{x-1} = 2 \\ne f(1)\n",
    "$$\n",
    "\n",
    "극한 값은 존재하지만 함수값 $f(1)$는 정의되지 않는다.\n",
    "\n"
   ]
  },
  {
   "cell_type": "code",
   "execution_count": 12,
   "metadata": {
    "slideshow": {
     "slide_type": "fragment"
    }
   },
   "outputs": [
    {
     "data": {
      "text/html": [
       "<div>\n",
       "<style scoped>\n",
       "    .dataframe tbody tr th:only-of-type {\n",
       "        vertical-align: middle;\n",
       "    }\n",
       "\n",
       "    .dataframe tbody tr th {\n",
       "        vertical-align: top;\n",
       "    }\n",
       "\n",
       "    .dataframe thead th {\n",
       "        text-align: right;\n",
       "    }\n",
       "</style>\n",
       "<table border=\"1\" class=\"dataframe\">\n",
       "  <thead>\n",
       "    <tr style=\"text-align: right;\">\n",
       "      <th></th>\n",
       "      <th>x</th>\n",
       "      <th>f(x)</th>\n",
       "    </tr>\n",
       "  </thead>\n",
       "  <tbody>\n",
       "    <tr>\n",
       "      <th>0</th>\n",
       "      <td>0.900000</td>\n",
       "      <td>1.900000</td>\n",
       "    </tr>\n",
       "    <tr>\n",
       "      <th>1</th>\n",
       "      <td>1.100000</td>\n",
       "      <td>2.100000</td>\n",
       "    </tr>\n",
       "    <tr>\n",
       "      <th>2</th>\n",
       "      <td>0.990000</td>\n",
       "      <td>1.990000</td>\n",
       "    </tr>\n",
       "    <tr>\n",
       "      <th>3</th>\n",
       "      <td>1.010000</td>\n",
       "      <td>2.010000</td>\n",
       "    </tr>\n",
       "    <tr>\n",
       "      <th>4</th>\n",
       "      <td>0.999000</td>\n",
       "      <td>1.999000</td>\n",
       "    </tr>\n",
       "    <tr>\n",
       "      <th>5</th>\n",
       "      <td>1.001000</td>\n",
       "      <td>2.001000</td>\n",
       "    </tr>\n",
       "    <tr>\n",
       "      <th>6</th>\n",
       "      <td>0.999999</td>\n",
       "      <td>1.999999</td>\n",
       "    </tr>\n",
       "    <tr>\n",
       "      <th>7</th>\n",
       "      <td>1.000001</td>\n",
       "      <td>2.000001</td>\n",
       "    </tr>\n",
       "  </tbody>\n",
       "</table>\n",
       "</div>"
      ],
      "text/plain": [
       "          x      f(x)\n",
       "0  0.900000  1.900000\n",
       "1  1.100000  2.100000\n",
       "2  0.990000  1.990000\n",
       "3  1.010000  2.010000\n",
       "4  0.999000  1.999000\n",
       "5  1.001000  2.001000\n",
       "6  0.999999  1.999999\n",
       "7  1.000001  2.000001"
      ]
     },
     "metadata": {},
     "output_type": "display_data"
    },
    {
     "data": {
      "image/png": "[encoded data removed]",
      "text/plain": [
       "<Figure size 360x720 with 2 Axes>"
      ]
     },
     "metadata": {
      "needs_background": "light"
     },
     "output_type": "display_data"
    }
   ],
   "source": [
    "import pandas as pd\n",
    "from IPython.display import display\n",
    "\n",
    "x_left  = np.linspace(-1.5, 0.999999, 100)\n",
    "x_right = np.linspace(1.000001, 3, 100)\n",
    "x       = np.linspace(-1.5, 3, 100)\n",
    "\n",
    "f_left  = (x_left[:-3]**2 - 1) / (x_left[:-3] -1)\n",
    "f_right = (x_right[4:]**2 - 1) / (x_right[4:] -1)\n",
    "\n",
    "f = x+1\n",
    "\n",
    "fig = plt.figure()\n",
    "fig.set_size_inches((5,10))\n",
    "\n",
    "ax1 = fig.add_subplot(211)\n",
    "ax1.plot(x, f, lw=3)\n",
    "ax1.text(1, 1, r\"$f(x) = x+1$\", fontsize=20)\n",
    "\n",
    "ax2 = fig.add_subplot(212)\n",
    "ax2.plot(x_left[:-3], f_left, x_right[4:], f_right, lw=3)\n",
    "ax2.plot(1,2, 'o', markersize=12, fillstyle='none')\n",
    "ax2.text(1, 1, r\"$f(x) = \\frac{x^2 - 1}{x-1}$\", fontsize=20)\n",
    "\n",
    "x_near = np.array([0.9, 1.1, 0.99, 1.01, 0.999, 1.001, 0.999999, 1.000001])\n",
    "f_near = (x_near**2 - 1) / (x_near -1)\n",
    "near = pd.DataFrame({'x':x_near, 'f(x)':f_near})\n",
    "display(near) \n",
    "\n",
    "plt.show()"
   ]
  },
  {
   "cell_type": "code",
   "execution_count": 13,
   "metadata": {
    "slideshow": {
     "slide_type": "fragment"
    }
   },
   "outputs": [
    {
     "data": {
      "image/png": "[encoded data removed]",
      "text/latex": [
       "$\\displaystyle 2$"
      ],
      "text/plain": [
       "2"
      ]
     },
     "execution_count": 13,
     "metadata": {},
     "output_type": "execute_result"
    }
   ],
   "source": [
    "x = sp.Symbol('x')\n",
    "\n",
    "sp.limit((x**2-1)/(x-1), x, 1)"
   ]
  },
  {
   "cell_type": "markdown",
   "metadata": {},
   "source": [
    "#### 실험 3 : 수치 방법으로 극한 평가<sup>estimation</sup>\n",
    "\n",
    "- 1 변수 함수의 경우 극한값을 조사하고 싶은 $x$ 근방의 함수값을 계산하는 것으로 극한 값을 평가할 수 있다.\n",
    "\n",
    "- `est_limit(function, x, n)`함수는 주어진 `x`값 주변의 구간을 계속 좁히면서 함수가 어느 값에 근접하는지 보여주는 함수이다.\n",
    "\n",
    "- 함수 인자 `n`은 구간을 좁히는 절차를 몇번 반복할지 나타낸다."
   ]
  },
  {
   "cell_type": "code",
   "execution_count": 14,
   "metadata": {},
   "outputs": [],
   "source": [
    "def est_limit(f, x, n=10) :\n",
    "    \"\"\"\n",
    "    https://math.stackexchange.com/questions/129467/numerical-computation-and-limits-of-a-function\n",
    "    f   : 극한값을 조사할 함수\n",
    "    x   : 극한값을 구하고 싶은 위치 즉, lim x->x\n",
    "    n   : x로 다가가면서 값을 계산해 볼 횟수\n",
    "    \"\"\"\n",
    "    for k in range(2,n) :\n",
    "        # 약간의 변화를 줄 delta를 정의한다.\n",
    "        delta = 2**(-k)\n",
    "        \n",
    "        ###########################################################################################\n",
    "        # WRITE YOUR CODE HERE\n",
    "        ###########################################################################################\n",
    "        # left 변수에 좌측 함수값, right 변수에 우측 함수값을 할당한다.\n",
    "        # 여기 left, right 를 초기화 하는 코드를 적어보세요.\n",
    "        left = f(x-delta)\n",
    "        right = f(x+delta)\n",
    "        \n",
    "        if left is not None and right is not None:\n",
    "            print(\"delta={:f} : ({:.8f},{:.8f})\".format(delta, left, right))\n",
    "\n",
    "    return (left, right)"
   ]
  },
  {
   "cell_type": "code",
   "execution_count": 15,
   "metadata": {},
   "outputs": [
    {
     "name": "stdout",
     "output_type": "stream",
     "text": [
      "Estimate limit of x^2 at x=3\n",
      "delta=0.250000 : (7.56250000,10.56250000)\n",
      "delta=0.125000 : (8.26562500,9.76562500)\n",
      "delta=0.062500 : (8.62890625,9.37890625)\n",
      "delta=0.031250 : (8.81347656,9.18847656)\n",
      "delta=0.015625 : (8.90649414,9.09399414)\n",
      "delta=0.007812 : (8.95318604,9.04693604)\n",
      "delta=0.003906 : (8.97657776,9.02345276)\n",
      "delta=0.001953 : (8.98828506,9.01172256)\n",
      "\n",
      "\n",
      "Estimate limit of (x^2-1)/(x-1) at x=1\n",
      "delta=0.250000 : (1.75000000,2.25000000)\n",
      "delta=0.125000 : (1.87500000,2.12500000)\n",
      "delta=0.062500 : (1.93750000,2.06250000)\n",
      "delta=0.031250 : (1.96875000,2.03125000)\n",
      "delta=0.015625 : (1.98437500,2.01562500)\n",
      "delta=0.007812 : (1.99218750,2.00781250)\n",
      "delta=0.003906 : (1.99609375,2.00390625)\n",
      "delta=0.001953 : (1.99804688,2.00195312)\n",
      "\n",
      "\n",
      "Estimate limit of sin(x)/x at x=0\n",
      "delta=0.250000 : (0.98961584,0.98961584)\n",
      "delta=0.125000 : (0.99739787,0.99739787)\n",
      "delta=0.062500 : (0.99934909,0.99934909)\n",
      "delta=0.031250 : (0.99983725,0.99983725)\n",
      "delta=0.015625 : (0.99995931,0.99995931)\n",
      "delta=0.007812 : (0.99998983,0.99998983)\n",
      "delta=0.003906 : (0.99999746,0.99999746)\n",
      "delta=0.001953 : (0.99999936,0.99999936)\n",
      "\n",
      "\n",
      "Estimate limit of (sqrt(x^2+100)-10)/x^2 at x=0\n",
      "delta=0.250000 : (0.04999219,0.04999219)\n",
      "delta=0.125000 : (0.04999805,0.04999805)\n",
      "delta=0.062500 : (0.04999951,0.04999951)\n",
      "delta=0.031250 : (0.04999988,0.04999988)\n",
      "delta=0.015625 : (0.04999997,0.04999997)\n",
      "delta=0.007812 : (0.04999999,0.04999999)\n",
      "delta=0.003906 : (0.05000000,0.05000000)\n",
      "delta=0.001953 : (0.05000000,0.05000000)\n"
     ]
    },
    {
     "data": {
      "image/png": "[encoded data removed]",
      "text/latex": [
       "$\\displaystyle \\left( 0.0499999993480742, \\  0.0499999993480742\\right)$"
      ],
      "text/plain": [
       "(0.0499999993480742, 0.0499999993480742)"
      ]
     },
     "execution_count": 15,
     "metadata": {},
     "output_type": "execute_result"
    }
   ],
   "source": [
    "# est_limit() 함수를 아래 함수에 대해 호출하여 결과를 검증해본다.\n",
    "f1 = lambda x : x**2\n",
    "f2 = lambda x : (x**2 - 1) / (x - 1)\n",
    "f3 = lambda x : np.sin(x) / x\n",
    "f4 = lambda x : (np.sqrt(x**2 + 100.) - 10.) / x**2\n",
    "\n",
    "\n",
    "print(\"Estimate limit of x^2 at x={}\".format(3))\n",
    "est_limit(f1, 3)\n",
    "print('\\n')\n",
    "\n",
    "print(\"Estimate limit of (x^2-1)/(x-1) at x={}\".format(1))\n",
    "est_limit(f2, 1)\n",
    "print('\\n')\n",
    "\n",
    "print(\"Estimate limit of sin(x)/x at x={}\".format(0))\n",
    "est_limit(f3, 0)\n",
    "print('\\n')\n",
    "\n",
    "print(\"Estimate limit of (sqrt(x^2+100)-10)/x^2 at x={}\".format(0))\n",
    "est_limit(f4, 0)"
   ]
  },
  {
   "cell_type": "markdown",
   "metadata": {},
   "source": [
    "- 위 코드는 극한의 정의에 입각해서 좌, 우측의 함수값을 계속 해당 지점으로 좁히면서 양측의 함수값이 어떤 값으로 수렴하는지를 보고 있다. \n",
    "\n",
    "- 극한의 정의를 그대로 따르고 있지만 수치적인 오차때문에 항상 정확하게 계산되는 것은 아니라는 점을 주의해야 한다. \n",
    "\n",
    "- 예를 들어 마지막 `f4`함수의 평가횟수를 `n=30`으로 하고 코드를 실행해보자.\n"
   ]
  },
  {
   "cell_type": "code",
   "execution_count": 16,
   "metadata": {},
   "outputs": [
    {
     "name": "stdout",
     "output_type": "stream",
     "text": [
      "Estimate limit of (sqrt(x^2+100)-10)/x^2 at x=0\n",
      "delta=0.250000 : (0.04999219,0.04999219)\n",
      "delta=0.125000 : (0.04999805,0.04999805)\n",
      "delta=0.062500 : (0.04999951,0.04999951)\n",
      "delta=0.031250 : (0.04999988,0.04999988)\n",
      "delta=0.015625 : (0.04999997,0.04999997)\n",
      "delta=0.007812 : (0.04999999,0.04999999)\n",
      "delta=0.003906 : (0.05000000,0.05000000)\n",
      "delta=0.001953 : (0.05000000,0.05000000)\n",
      "delta=0.000977 : (0.05000000,0.05000000)\n",
      "delta=0.000488 : (0.05000000,0.05000000)\n",
      "delta=0.000244 : (0.05000001,0.05000001)\n",
      "delta=0.000122 : (0.04999995,0.04999995)\n",
      "delta=0.000061 : (0.05000019,0.05000019)\n",
      "delta=0.000031 : (0.04999924,0.04999924)\n",
      "delta=0.000015 : (0.05000305,0.05000305)\n",
      "delta=0.000008 : (0.04998779,0.04998779)\n",
      "delta=0.000004 : (0.05004883,0.05004883)\n",
      "delta=0.000002 : (0.04980469,0.04980469)\n",
      "delta=0.000001 : (0.05078125,0.05078125)\n",
      "delta=0.000000 : (0.04687500,0.04687500)\n",
      "delta=0.000000 : (0.06250000,0.06250000)\n",
      "delta=0.000000 : (0.00000000,0.00000000)\n",
      "delta=0.000000 : (0.00000000,0.00000000)\n",
      "delta=0.000000 : (0.00000000,0.00000000)\n",
      "delta=0.000000 : (0.00000000,0.00000000)\n",
      "delta=0.000000 : (0.00000000,0.00000000)\n",
      "delta=0.000000 : (0.00000000,0.00000000)\n",
      "delta=0.000000 : (0.00000000,0.00000000)\n"
     ]
    },
    {
     "data": {
      "image/png": "[encoded data removed]",
      "text/latex": [
       "$\\displaystyle \\left( 0.0, \\  0.0\\right)$"
      ],
      "text/plain": [
       "(0.0, 0.0)"
      ]
     },
     "execution_count": 16,
     "metadata": {},
     "output_type": "execute_result"
    }
   ],
   "source": [
    "print(\"Estimate limit of (sqrt(x^2+100)-10)/x^2 at x={}\".format(0))\n",
    "est_limit(f4, 0, n=30)"
   ]
  },
  {
   "cell_type": "markdown",
   "metadata": {},
   "source": [
    "- 점점 구간을 좁해서 $x=0$근처의 값을 찍다보면 어느순간 0으로 수렴하는것 처럼 보이게 된다. \n",
    "\n",
    "- 실제로 극한값이 0이 아닌데 이는 수치계산의 오차때문에 생기는 현상이다. \n",
    "\n",
    "- 해석적으로 정확한 극한값을 구하는 것은 주어진 함수 형태에 따라 매우 다양한 접근법이 있다. \n",
    "\n",
    "- 우리는 극한의 정확한 의미를 이해하는 것이 목적이므로 이정도에서 순간변화율(미분계수) 이야기로 넘어가도록 하자."
   ]
  },
  {
   "cell_type": "markdown",
   "metadata": {
    "slideshow": {
     "slide_type": "slide"
    }
   },
   "source": [
    "#### 순간변화율(미분계수)The Derivative at a Point\n",
    "\n",
    "- 이제 순간변화율을 계산하기위해 설정했던 매우 작은 변화 구간 0.01을 극한의 개념으로 대체시킨다.\n",
    "\n",
    "$$\n",
    "\\frac{f( x + \\color{#A60628}{0.01} )-f(x)}{\\color{#A60628}{0.01}}, \\quad \\frac{f(x+\\color{#A60628}{0.001})-f(x)}{\\color{#A60628}{0.001}}, \\quad \\frac{f(x+\\color{#A60628}{0.0001})-f(x)}{\\color{#A60628}{0.0001}}, \\dots\n",
    "$$\n",
    "\n",
    "- 위처럼 작은 변량 0.01을 계속 줄여보자. 위 식에서 변화하고 있는 양은 0.01, 0.001, 0.001, ... 이다. \n",
    "\n",
    "- #### 이를 $h$라는 변수로 두자. 그러면 아래와 같은 새로운 함수 $df(\\color{#A60628}{h})$를 얻게 된다.\n",
    "\n",
    "$$\n",
    "df(\\color{#A60628}{h}) = \\frac{f(x+\\color{#A60628}{h})-f(x)}{\\color{#A60628}{h}} \\tag{*}\n",
    "$$"
   ]
  },
  {
   "cell_type": "code",
   "execution_count": 17,
   "metadata": {},
   "outputs": [
    {
     "data": {
      "image/png": "[encoded data removed]",
      "text/plain": [
       "<Figure size 1080x360 with 2 Axes>"
      ]
     },
     "metadata": {
      "needs_background": "light"
     },
     "output_type": "display_data"
    }
   ],
   "source": [
    "fig = plt.figure()\n",
    "fig.set_size_inches((15,5))\n",
    "\n",
    "h = np.logspace(0, 1, 20) - 1 + np.finfo(np.float32).eps\n",
    "x = np.linspace(-6, 0, 200)\n",
    "f = lambda x : np.sin(x) / np.exp(x)\n",
    "\n",
    "# sympy로 순간변화율 함수를 구해서 그대로 코딩한다.\n",
    "# x = sympy.Symbol('x')\n",
    "# sympy.diff(sympy.sin(x)/sympy.E**x, x)\n",
    "df  = lambda x : np.exp(-x)*np.cos(x) - np.exp(-x)*np.sin(x)\n",
    "def dfh(h, x):\n",
    "    return (f(x+h)-f(x)) / h\n",
    "\n",
    "x0 = -5.7588\n",
    "ax1 = fig.add_subplot(121)\n",
    "ax1.plot(x, f(x), lw=2)\n",
    "ax1.axvline(x0, color=style_colors[1], ls='--')\n",
    "ax1.set_xlabel('x', fontsize=15)\n",
    "ax1.set_ylabel('f(x)', fontsize=15)\n",
    "\n",
    "xlabels = ['%f' % h_ for h_ in h]\n",
    "dfhs = dfh(h, x0)\n",
    "ax2 = fig.add_subplot(122)\n",
    "ax2.plot(h, dfhs, 'o', color=style_colors[1],)\n",
    "ax2.plot(0, df(x0), 'o', lw=2, fillstyle='none', color=style_colors[3], markersize=15,)\n",
    "ax2.set_xlim(10, -1.0)\n",
    "ax2.set_xticks(h)\n",
    "ax2.set_xticklabels(xlabels, rotation=-40)\n",
    "ax2.set_xlabel('h', fontsize=15)\n",
    "ax2.set_ylabel('df(h)', fontsize=15)\n",
    "\n",
    "#plt.axis('equal')\n",
    "plt.show()\n"
   ]
  },
  {
   "cell_type": "markdown",
   "metadata": {
    "slideshow": {
     "slide_type": "slide"
    }
   },
   "source": [
    "- 위 함수에서 독립변수 $h$가 0일 때 극한값을 알 수 있다면 우리는 진정으로 '순간변화율'을 알 수 있게 된다!"
   ]
  },
  {
   "cell_type": "markdown",
   "metadata": {},
   "source": [
    "#### 실험 4\n",
    "\n",
    "- 순간변화율을 계산해보자.\n",
    "\n",
    "- 함수 $f(x)$를 넘겨받아 식(\\*)의 $df(h)$를 만들어내는 함수 `make_fh(f, x)`를 만든다.\n",
    "\n",
    "\n",
    "- 지금까지 만든 코드를 모아서 순간변화율을 구할 수 있게 된다.\n",
    "    - 임의의 함수 $f(x)$를 정의\n",
    "    - $f(x)$를 이용해서 $df(h)$를 만듬\n",
    "    - $df(h)$의 $h=0$에서의 극한값을 구함\n",
    "    \n",
    "    \n",
    "- 실험 2에서 0.01로 구간설정을 한 경우 정확하게 순간변화율을 구할 수 없었던 함수 $\\dfrac{\\sin(x)}{e^x}$에 대해 실험해본다."
   ]
  },
  {
   "cell_type": "code",
   "execution_count": 18,
   "metadata": {},
   "outputs": [],
   "source": [
    "def make_df(f, x) :\n",
    "    \"\"\"\n",
    "    f : 순간변화율을 구할 함수\n",
    "    x : 순간변화율을 구할 변수의 위치\n",
    "    \"\"\"\n",
    "    # df(h)라는 함수를 정의해서 그 함수를 리턴함\n",
    "    # df(h)는 위 식(*)를 사용해서 f(x)를 h의 함수로 바꾼 함수\n",
    "    def df(h) :\n",
    "        return (f(x+h) - f(x)) / h\n",
    "    \n",
    "    # 만들어진 df(h)를 리턴한다.\n",
    "    return df"
   ]
  },
  {
   "cell_type": "code",
   "execution_count": 19,
   "metadata": {},
   "outputs": [
    {
     "name": "stdout",
     "output_type": "stream",
     "text": [
      "delta=0.250000 : (193.68950521,55.68021770)\n",
      "delta=0.125000 : (152.28105679,83.58357855)\n",
      "delta=0.062500 : (133.39653603,99.08645471)\n",
      "delta=0.031250 : (124.39372384,107.24352358)\n",
      "delta=0.015625 : (120.00014286,111.42564803)\n",
      "delta=0.007812 : (117.83004860,113.54287686)\n",
      "delta=0.003906 : (116.75164272,114.60806631)\n",
      "delta=0.001953 : (116.21409597,115.14230894)\n",
      "delta=0.000977 : (115.94573612,115.40984276)\n",
      "delta=0.000488 : (115.81165952,115.54371286)\n",
      "delta=0.000244 : (115.74464704,115.61067371)\n",
      "delta=0.000122 : (115.71114725,115.64416059)\n",
      "delta=0.000061 : (115.69439897,115.66090564)\n",
      "delta=0.000031 : (115.68602524,115.66927857)\n",
      "delta=0.000015 : (115.68183847,115.67346514)\n",
      "delta=0.000008 : (115.67974512,115.67555844)\n",
      "delta=0.000004 : (115.67869845,115.67660511)\n",
      "delta=0.000002 : (115.67817511,115.67712842)\n"
     ]
    },
    {
     "data": {
      "image/png": "[encoded data removed]",
      "text/latex": [
       "$\\displaystyle \\left( 115.678175106645, \\  115.67712841928\\right)$"
      ],
      "text/plain": [
       "(115.67817510664463, 115.67712841928005)"
      ]
     },
     "execution_count": 19,
     "metadata": {},
     "output_type": "execute_result"
    }
   ],
   "source": [
    "#############################################################\n",
    "# 실험2와 동일한 조건\n",
    "x0 = -5.7588\n",
    "fx = lambda x : np.sin(x) / np.exp(x)\n",
    "\n",
    "# make_df가 fx를 fh로 만들어주고 우리는 fh의 0에서의 극한값을 구하면\n",
    "# 순간변화율(미분 계수)를 구할 수 있게 된다!\n",
    "dfh = make_df(fx, x0)\n",
    "est_limit(dfh, 0, 20)"
   ]
  },
  {
   "cell_type": "code",
   "execution_count": 20,
   "metadata": {},
   "outputs": [
    {
     "data": {
      "image/png": "[encoded data removed]",
      "text/latex": [
       "$\\displaystyle 15.81$"
      ],
      "text/plain": [
       "15.809999999999999"
      ]
     },
     "execution_count": 20,
     "metadata": {},
     "output_type": "execute_result"
    }
   ],
   "source": [
    "5.1*3.1"
   ]
  },
  {
   "cell_type": "markdown",
   "metadata": {
    "slideshow": {
     "slide_type": "slide"
    }
   },
   "source": [
    "- 위 실험 결과처럼 우리가 관심있는 순간이 $x=a$라면 다음과 같다.\n",
    "\n",
    "$$\n",
    "f'(a) = \\frac{d}{dx}f(a) = \\color{RoyalBlue}{\\lim_{h \\to 0} \\frac{f(a+h)-f(a)}{h}} = \\color{OrangeRed}{ \\lim_{x \\to a} \\frac{f(x)-f(a)}{x-a}}\n",
    "$$\n",
    "\n",
    "- 위 식의 극한이 존재하면 이 극한값을 $x=a$에서 순간변화율 또는 미분계수라 한다. \n",
    "\n",
    "- 아래 그림은 위처럼 정의된 순간변화율이 그 위치에서 언덕의 기울기 즉, 접선의 기울기임을 보여준다. \n",
    "\n",
    "- a와 b의 간격을 계속 좁히다보면 두 점을 이은 빨간색 직선이 a와 b가 만나는 점에서의 기울기가 되는 것을 알 수 있다. \n",
    "\n",
    "- 위 그림의 경우 입력이 증가할 때 출력도 증가하므로 양의 기울기를 가진다. \n",
    "\n",
    "- 실제 계산되는 미분계수도 양수이다. 반대의 경우는 음의 기울기를 가지고 미분계수도 음수가 될 것이다.\n",
    "\n",
    "<img src=\"imgs/diff-ani.gif\" width=380/>\n",
    "\n",
    "- 구간의 차이로 순간변화율을 계산하고 그 구간을 극한으로 좁힐 경우 순간변화율을 구할 위치에서 양쪽 방향 모두 미분계수가 같아야 한다. 아래 그림과 같다.\n",
    "\n",
    "<img src=\"imgs/diff-ani-psb.gif\" width=380/>\n",
    "\n",
    "- 그런데 어떤 함수의 좌우 극한 값이 다른 경우를 이미 확인한바 있다. 순간변화율은 극한값으로 정의되는데 그 순간 좌우 극한값이 다르다면 정의될 수 없고 이 경우 미분 불가능이라 한다. \n",
    "\n",
    "- 아래 그림은 함수 $2x^3 + 5x^2 +20|x-3|$의 그래프이고 $x=3$에서 미분 불가능함을 나타낸다.\n",
    "\n",
    "<img src=\"imgs/diff-ani-impsb.gif\" width=380/>\n",
    "\n",
    "- 실제 우리가 만든 코드를 사용하여 함수 $df(h)$의 좌우 극한값을 평가 해보면 다른것을 확인할 수 있다. "
   ]
  },
  {
   "cell_type": "markdown",
   "metadata": {},
   "source": [
    "#### 실험 5\n",
    "\n",
    "- 아래 함수에 대해서 `make_fh()`, `est_limit()`함수를 사용하여 $x=3$에서 순간변화율을 검증해보자"
   ]
  },
  {
   "cell_type": "code",
   "execution_count": 21,
   "metadata": {},
   "outputs": [
    {
     "data": {
      "image/png": "[encoded data removed]",
      "text/plain": [
       "<Figure size 360x360 with 1 Axes>"
      ]
     },
     "metadata": {
      "needs_background": "light"
     },
     "output_type": "display_data"
    },
    {
     "name": "stdout",
     "output_type": "stream",
     "text": [
      "delta=0.250000 : (58.37500000,109.87500000)\n",
      "delta=0.125000 : (61.15625000,106.90625000)\n",
      "delta=0.062500 : (62.57031250,105.44531250)\n",
      "delta=0.031250 : (63.28320312,104.72070312)\n",
      "delta=0.015625 : (63.64111328,104.35986328)\n",
      "delta=0.007812 : (63.82043457,104.17980957)\n",
      "delta=0.003906 : (63.91018677,104.08987427)\n",
      "delta=0.001953 : (63.95508575,104.04492950)\n",
      "delta=0.000977 : (63.97754097,104.02246284)\n",
      "delta=0.000488 : (63.98877001,104.01123095)\n",
      "delta=0.000244 : (63.99438488,104.00561535)\n",
      "delta=0.000122 : (63.99719241,104.00280765)\n",
      "delta=0.000061 : (63.99859620,104.00140382)\n",
      "delta=0.000031 : (63.99929810,104.00070191)\n",
      "delta=0.000015 : (63.99964905,104.00035095)\n",
      "delta=0.000008 : (63.99982452,104.00017548)\n",
      "delta=0.000004 : (63.99991226,104.00008774)\n",
      "delta=0.000002 : (63.99995613,104.00004387)\n"
     ]
    },
    {
     "data": {
      "image/png": "[encoded data removed]",
      "text/latex": [
       "$\\displaystyle \\left( 63.9999561309814, \\  104.000043869019\\right)$"
      ],
      "text/plain": [
       "(63.999956130981445, 104.00004386901855)"
      ]
     },
     "execution_count": 21,
     "metadata": {},
     "output_type": "execute_result"
    }
   ],
   "source": [
    "plt.figure(figsize=(5,5))\n",
    "\n",
    "fx = lambda x : (2*x**3 + 5*x**2) + 20*np.abs(x-3)\n",
    "\n",
    "x = np.linspace(2, 4, 100)\n",
    "plt.plot(x, fx(x))\n",
    "plt.show()\n",
    "\n",
    "dfh = make_df(fx, 3)\n",
    "est_limit(dfh, 0, 20)"
   ]
  },
  {
   "cell_type": "markdown",
   "metadata": {},
   "source": [
    "#### 선형근사와 함수값 추정<sup>[thomas]</sup>\n",
    "\n",
    "- 한 지점에서 순간변화율을 알면 그 지점 근처의 함수값을 쉽게 추정할 수 있다. \n",
    "\n",
    "- 이는 우리가 어떤 현상을 보고 지금까지 추세를 바탕으로 조금 후의 미래를 짐작하는 행위와 비슷하다 할 수 있다. 다음 그림을 보자.\n",
    "\n",
    "<img src=\"imgs/linearization.png\" width=\"700\"/>\n"
   ]
  },
  {
   "cell_type": "markdown",
   "metadata": {},
   "source": [
    "- $y=x^2$라는 함수가 주어졌을 때 어떤 지점 $x=a$에서 함수값과 순간변화율 $f'(a)$안다고 하자. $(a, f(a))$를 지나고 기울기가 $f'(a)$인 직선 $L(x)$는 다음처럼 쓸 수 있다.\n",
    "\n",
    "$$\n",
    "L(x) = f(a) + f'(a)(x-a)\n",
    "$$\n",
    "\n",
    "- 이제 $a$로 부터 $\\Delta x$만큼 떨어진 위치의 함수값을 알고 싶다면 $f(a+\\Delta x)$를 직접 계산해도 되지만 이것이 힘들 경우 ($\\sin(\\frac{\\pi}{6} + 0.01)$을 계산한다고 생각해보자!)\n",
    "\n",
    "- $L(x)$를 계산하여 대신할 수 있다. $\\Delta x$가 크지 않다면 $\\Delta y \\approx \\Delta L$이 되는 것이다.\n"
   ]
  },
  {
   "cell_type": "code",
   "execution_count": 22,
   "metadata": {},
   "outputs": [
    {
     "name": "stdout",
     "output_type": "stream",
     "text": [
      "0.5086351099093314\n",
      "0.5086602540378444\n"
     ]
    }
   ],
   "source": [
    "print(np.sin(np.pi/6 + 0.01))\n",
    "print((np.sqrt(3) + 100) / 200.0)\n"
   ]
  },
  {
   "cell_type": "markdown",
   "metadata": {
    "slideshow": {
     "slide_type": "slide"
    }
   },
   "source": [
    "## 참고문헌\n",
    "\n",
    "1. [sympy] Sympy, http://www.sympy.org/en/index.html\n",
    "\n",
    "1. [thomas] Thomas' Calculus, Giordano, Weir, Finney, Pearson\n"
   ]
  },
  {
   "cell_type": "code",
   "execution_count": 24,
   "metadata": {},
   "outputs": [
    {
     "data": {
      "text/html": [
       "<style>h1 { font-family: 'Noto Sans KR' !important; color:#348ABD !important;   }\n",
       "h2 { font-family: 'Noto Sans KR' !important; color:#467821 !important;   }\n",
       "h3 { font-family: 'Noto Sans KR' !important; color:#A60628 !important;   }\n",
       "h4 { font-family: 'Noto Sans KR' !important; color:#7A68A6 !important;   }        \n",
       "\n",
       "</style>"
      ],
      "text/plain": [
       "<IPython.core.display.HTML object>"
      ]
     },
     "execution_count": 24,
     "metadata": {},
     "output_type": "execute_result"
    }
   ],
   "source": [
    "from IPython.core.display import HTML\n",
    "\n",
    "def _set_css_style(css_file_path):\n",
    "   \"\"\"\n",
    "   Read the custom CSS file and load it into Jupyter.\n",
    "   Pass the file path to the CSS file.\n",
    "   \"\"\"\n",
    "   styles = open(css_file_path, \"r\").read()\n",
    "   s = '<style>%s</style>' % styles     \n",
    "   return HTML(s)\n",
    "\n",
    "_set_css_style(\"../../style.css\")"
   ]
  },
  {
   "cell_type": "code",
   "execution_count": null,
   "metadata": {},
   "outputs": [],
   "source": []
  }
 ],
 "metadata": {
  "celltoolbar": "Slideshow",
  "kernelspec": {
   "display_name": "Python 3",
   "language": "python",
   "name": "python3"
  },
  "language_info": {
   "codemirror_mode": {
    "name": "ipython",
    "version": 3
   },
   "file_extension": ".py",
   "mimetype": "text/x-python",
   "name": "python",
   "nbconvert_exporter": "python",
   "pygments_lexer": "ipython3",
   "version": "3.8.5"
  },
  "livereveal": {
   "scroll": true,
   "start_slideshow_at": "selected"
  }
 },
 "nbformat": 4,
 "nbformat_minor": 4
}
