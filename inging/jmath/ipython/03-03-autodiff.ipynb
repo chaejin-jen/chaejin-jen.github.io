{
 "cells": [
  {
   "cell_type": "markdown",
   "metadata": {
    "slideshow": {
     "slide_type": "slide"
    }
   },
   "source": [
    "# Class 03-3 미분의 구현"
   ]
  },
  {
   "cell_type": "code",
   "execution_count": 1,
   "metadata": {
    "slideshow": {
     "slide_type": "skip"
    }
   },
   "outputs": [],
   "source": [
    "import numpy as np\n",
    "import matplotlib.pyplot as plt\n",
    "import matplotlib as mpl\n",
    "import sympy\n",
    "\n",
    "sympy.init_printing()\n",
    "\n",
    "style_name = 'bmh' #bmh\n",
    "mpl.style.use(style_name)\n",
    "np.set_printoptions(precision=4, linewidth =150)\n",
    "\n",
    "style = plt.style.library[style_name]\n",
    "style_colors = [ c['color'] for c in style['axes.prop_cycle'] ]\n",
    "\n",
    "# Some more magic so that the notebook will reload external python modules;\n",
    "# see http://stackoverflow.com/questions/1907993/autoreload-of-modules-in-ipython\n",
    "%load_ext autoreload\n",
    "%autoreload 2"
   ]
  },
  {
   "cell_type": "markdown",
   "metadata": {},
   "source": [
    "## 미분 구현\n",
    "\n",
    "- 미분을 컴퓨터로 계산하기 위한 방법을 배운다.\n",
    "\n",
    "\n",
    "- 심볼릭 연산\n",
    "    - Sympy, Mathematica, Wolfram alpha 같은 소프트웨어로 손으로 계산한것처럼 도함수를 구할 수 있다.\n",
    "    \n",
    "    \n",
    "- 코드 구현 : 도함수를 심볼릭하게 구하는 것이 아니라 특정 점에서 미분계수를 구한다.\n",
    "    - 직접 미분\n",
    "    - 수치 미분\n",
    "    - 그래프 방식 미분"
   ]
  },
  {
   "cell_type": "markdown",
   "metadata": {},
   "source": [
    "### 직접 미분\n",
    "\n",
    "- 제목처럼 미분을 직접해서 코드로 적어 줌\n",
    "\n",
    "- 아래와 같은 함수의 경우 다음처럼 `python`으로 `f(x)`, `df(x)`를 직접 정의 해준다.\n",
    "\n",
    "$$\n",
    "f(x)=(x^2+2x) \\ln x\n",
    "$$\n",
    "\n",
    "```python\n",
    "f = lambda x : (x**2 + 2*x)*np.log(x)\n",
    "\n",
    "df = lambda x : 2*(x+1)*np.log(x) + (x+)\n",
    "```\n",
    "\n",
    "- 장점 : 정확한 결과, 빠른 속도\n",
    "\n",
    "- 단점 : 미분을 해야 한다!!!\n"
   ]
  },
  {
   "cell_type": "code",
   "execution_count": 2,
   "metadata": {},
   "outputs": [
    {
     "name": "stdout",
     "output_type": "stream",
     "text": [
      "0.0\n",
      "3.0\n"
     ]
    }
   ],
   "source": [
    "f = lambda x : (x**2 + 2*x)*np.log(x)\n",
    "df = lambda x : 2*(x+1)*np.log(x) + (x+2)\n",
    "\n",
    "print(f(1))\n",
    "print(df(1))"
   ]
  },
  {
   "cell_type": "code",
   "execution_count": 3,
   "metadata": {},
   "outputs": [
    {
     "data": {
      "image/png": "[encoded data removed]",
      "text/latex": [
       "$\\displaystyle x + 2 \\left(x + 1\\right) \\log{\\left(x \\right)} + 2$"
      ],
      "text/plain": [
       "x + 2⋅(x + 1)⋅log(x) + 2"
      ]
     },
     "execution_count": 3,
     "metadata": {},
     "output_type": "execute_result"
    }
   ],
   "source": [
    "x = sympy.Symbol('x')\n",
    "sympy.simplify(sympy.diff((x**2 + 2*x)*sympy.log(x), x))"
   ]
  },
  {
   "cell_type": "markdown",
   "metadata": {},
   "source": [
    "### 수치 미분<sup>[arora]</sup>\n",
    "\n",
    "- 미분의 정의를 수치적으로 구현\n",
    "\n",
    "- 아주 작은 독립변수의 변화 $\\Delta x$로 종속변수의 변화 $\\Delta y$를 실제로 계산\n",
    "\n",
    "- 이 둘을 나누어 특정점에서의 미분 계수를 근사\n",
    "\n",
    "- 장점 : 구현이 간단하다.\n",
    "\n",
    "- 단점 : 다변수 함수의 경우 모든 변수에 대해 같은 계산을 반복해야하므로 변수가 많으면 매우 느리다.\n",
    "\n",
    "- 활용 : 머신러닝에서는 주로 그래프 방식의 미분 계산이 정확한지 확인할 목적으로 사용함.\n",
    "\n",
    "#### 전방차분법\n",
    "$$\n",
    "\\frac{\\partial \\, f}{\\partial \\, x_i} \\approx \\frac{f(x_1, \\cdots, \\color{RoyalBlue}{x_i + \\Delta x_i} , \\cdots, x_n) - f(x_1, \\cdots, x_i, \\cdots, x_n)}{\\Delta x_i}\n",
    "$$\n",
    "\n",
    "#### 후방차분법\n",
    "$$\n",
    "\\frac{\\partial \\, f}{\\partial \\, x_i} \\approx \\frac{f(x_1, \\cdots, x_i, \\cdots, x_n)-f(x_1, \\cdots, \\color{RoyalBlue}{x_i - \\Delta x_i} , \\cdots, x_n) }{\\Delta x_i}\n",
    "$$\n",
    "\n",
    "#### 중앙차분법\n",
    "$$\n",
    "\\frac{\\partial \\, f}{\\partial \\, x_i} \\approx \\frac{f(x_1, \\cdots, \\color{RoyalBlue}{x_i+\\frac{1}{2}\\Delta x_i}, \\cdots, x_n)-f(x_1, \\cdots, \\color{RoyalBlue}{x_i - \\frac{1}{2} \\Delta x_i} , \\cdots, x_n) }{\\Delta x_i}\n",
    "$$\n",
    "\n",
    "- 아래 실험코드로 중앙차분법과 전방차분법의 오차 정도를 알아 볼 수 있다."
   ]
  },
  {
   "cell_type": "code",
   "execution_count": 4,
   "metadata": {},
   "outputs": [],
   "source": [
    "############################################################\n",
    "# x^4의 해석적 미분\n",
    "############################################################\n",
    "def f(x) :\n",
    "    \"\"\"\n",
    "    미분할 함수를 정의\n",
    "    \"\"\"\n",
    "    # return np.exp(np.sin(x))\n",
    "    return x**4\n",
    "\n",
    "def fdot(x):\n",
    "    \"\"\"\n",
    "    직접 구한 도함수를 정의, sympy등을 사용하여 구할 수 있음\n",
    "    \"\"\"\n",
    "    # return np.exp(np.sin(x))*np.cos(x)\n",
    "    return 4*x**3"
   ]
  },
  {
   "cell_type": "code",
   "execution_count": 5,
   "metadata": {},
   "outputs": [],
   "source": [
    "from matplotlib.patches import ConnectionPatch\n",
    "\n",
    "############################################################\n",
    "# 수치미분함수\n",
    "############################################################\n",
    "def numer_deriv(f, x, h=0.01, method='center', args=()) :\n",
    "    \"\"\"\n",
    "    f      : 미분할 함수, 주어진 위치에서 함수값 계산\n",
    "    x      : 미분계수를 구할 변수의 위치로 일변수인 경우 float, 다변수인 경우 (d,) 벡터\n",
    "    h      : finite difference\n",
    "    method : 중앙차분:center, 전방차분:forward\n",
    "    args   : 미분할 함수 f에서 추가적으로 받아들이는 인자들\n",
    "    \"\"\"\n",
    "    if type(x) in (float, int, np.float32, np.float64) :\n",
    "        grad = [0.0]\n",
    "        x_ = [x]\n",
    "        var_type = 'scalar'\n",
    "    else :\n",
    "        grad = np.zeros(x.shape)\n",
    "        x_ = x.copy().astype('float32')\n",
    "        var_type = 'vector'\n",
    "    \n",
    "    for i, xi in enumerate(x_) :\n",
    "        original_value = x_[i]\n",
    "        \n",
    "        if method=='forward' :\n",
    "            x_[i] = original_value + h\n",
    "        else :\n",
    "            x_[i] = original_value + (h/2)\n",
    "            \n",
    "        if var_type == 'scalar' :\n",
    "            gradplus = f(x_[i], *args)\n",
    "        else :\n",
    "            gradplus = f(x_, *args)\n",
    "        \n",
    "        if method=='forward' :\n",
    "            x_[i] = original_value\n",
    "        else:\n",
    "            x_[i] = original_value - (h/2)\n",
    "            \n",
    "        if var_type == 'scalar' :\n",
    "            gradminus = f(x_[i], *args)\n",
    "        else :\n",
    "            gradminus = f(x_, *args)\n",
    "        \n",
    "        grad[i] = (gradplus - gradminus) / h\n",
    "    \n",
    "    if var_type == 'scalar' :\n",
    "        return grad[0]\n",
    "    else :\n",
    "        return grad\n"
   ]
  },
  {
   "cell_type": "code",
   "execution_count": 6,
   "metadata": {},
   "outputs": [],
   "source": [
    "############################################################\n",
    "# 기울기를 그리는 보조 함수\n",
    "############################################################\n",
    "def draw_slope(pts, ax1, ax2, eps=1.0e-5, method='center', itv=0.45) :\n",
    "    \"\"\"\n",
    "    eps : 구간 크기\n",
    "    method : 'center', 'forward'\n",
    "    ivt : 기울기선 그림그리는 간격지정\n",
    "    \"\"\"\n",
    "    \n",
    "    for x in pts :\n",
    "        ax1.plot(x, f(x), 'o', markersize=10, color=style_colors[0], zorder=3)\n",
    "        ax2.plot(x, fdot(x), 'o', markersize=10, color=style_colors[1], zorder=3)\n",
    "        \n",
    "        con = ConnectionPatch(xyA=(x, fdot(x)), xyB=(x, f(x)), ls='--', coordsA=\"data\", coordsB=\"data\",\n",
    "                      axesA=ax2, axesB=ax1, color=style_colors[3], lw=2, alpha=0.6,\n",
    "                      arrowstyle=\"<|-\", mutation_scale=20, fc=\"w\", zorder=2)\n",
    "        ax2.add_artist(con)\n",
    "        \n",
    "        #numerical deriv.\n",
    "        diff = numer_deriv(f, x, eps, method)\n",
    "        \n",
    "        if method=='forward' :\n",
    "            # 전방차분으로 계산되는 기울기 직선을 그린다.\n",
    "            ax1.plot([x, x+eps], [f(x), f(x+eps)], lw=2, color=style_colors[4])\n",
    "            \n",
    "        else :\n",
    "            # 중앙차분으로 계산되는 기울기 직선을 그린다.\n",
    "            ax1.plot([x-eps/2, x+eps/2], [f(x-eps/2), f(x+eps/2)], lw=2, color=style_colors[4])\n",
    "        \n",
    "        # 미분하는 위치에서 기울기 직선을 그린다.\n",
    "        ax1.plot([x-itv, x+itv], [f(x)-fdot(x)*itv, f(x)+fdot(x)*itv], lw=2, color=style_colors[1])\n",
    "        \n",
    "        ax1.text(x + 0.1 ,f(x)+0.2, \"Slope {:.2f}\".format(diff), fontsize=13)\n",
    "        ax2.text(x + 0.1 ,fdot(x)+0.2, \"value {:.2f}\".format(fdot(x)), fontsize=13)"
   ]
  },
  {
   "cell_type": "code",
   "execution_count": 7,
   "metadata": {},
   "outputs": [
    {
     "data": {
      "image/png": "[encoded data removed]",
      "text/plain": [
       "<Figure size 432x864 with 2 Axes>"
      ]
     },
     "metadata": {
      "needs_background": "light"
     },
     "output_type": "display_data"
    }
   ],
   "source": [
    "fig = plt.figure()\n",
    "fig.set_size_inches((6,12))\n",
    "\n",
    "ax1 = fig.add_subplot(2, 1, 1)\n",
    "ax2 = fig.add_subplot(2, 1, 2)\n",
    "\n",
    "x = np.linspace(0.6, 2, 100)\n",
    "#x = np.linspace(0, 2, 200)\n",
    "slope_points = [1.25] \n",
    "\n",
    "ax1.plot(x, f(x), color=style_colors[0], lw=3)\n",
    "ax1.set_title(r\"$f(x)=x^4$\", fontsize=20)\n",
    "\n",
    "ax2.plot(x, fdot(x), color=style_colors[1], lw=3)\n",
    "ax2.set_title(r\"Derivative\")\n",
    "\n",
    "# foward, central 을 바꿔가면서 정확도를 확인해 볼 수 있다.\n",
    "draw_slope(slope_points, ax1, ax2, eps=0.01, method='center')\n",
    "\n",
    "plt.show()"
   ]
  },
  {
   "cell_type": "markdown",
   "metadata": {},
   "source": [
    "#### 다변수 함수에 대한 수치 미분 실험\n",
    "\n",
    "- 주어진 함수\n",
    "\n",
    "$$\n",
    "f(x,y) = (x^2 + 2x)\\ln(y)\n",
    "$$"
   ]
  },
  {
   "cell_type": "code",
   "execution_count": 8,
   "metadata": {},
   "outputs": [
    {
     "data": {
      "text/plain": [
       "array([2.7726, 1.49  ])"
      ]
     },
     "execution_count": 8,
     "metadata": {},
     "output_type": "execute_result"
    }
   ],
   "source": [
    "f_xy = lambda x: (x[0]**2 + 2*x[0])*np.log(x[1])\n",
    "numer_deriv(f_xy, np.array([1, 2]))"
   ]
  },
  {
   "cell_type": "markdown",
   "metadata": {},
   "source": [
    "### 자동미분Automatic Differentiation(그래프 방식)<sup>[nocedal, Géron]</sup>\n",
    "\n",
    "- 복잡한 함수를 작은 연산 단위로 분리하여 각각에 대해 미분계수를 곱하고 체인룰을 적용하여 모두 곱하는 방식\n",
    "\n",
    "- 종류 : 포워드 모드<sup>forward mode [nocedal, Géron]</sup>, 리버스 모드<sup>reverse mode</sup>\n",
    "\n",
    "- 포워드 모드는 방향미분<sup>directional derivative,[wiki:direc_deriv]</sup> 개념이 필요하므로 본 수업의 범위를 벗어나며 여기서는 리버스 모드만 다룸\n",
    "\n",
    "\n",
    "- 리버스 모드\n",
    "    - 순전파: 함수를 그래프 방식으로 나열한 후 순차적인 +, -, *, /를 적용하여 함수값을 계산\n",
    "    - 역전파 : 연쇄법칙을 사용하여 미분계수를 계산\n",
    "\n",
    "\n",
    "- 장점 : 복잡한 함수의 미분도 루틴의 반복으로 계산, 빠른 속도\n",
    "\n",
    "- 단점 : 무슨 소리하는지 잘 모를 수 있다?! 구현 어려움\n",
    "\n",
    "- 활용 : 신경망의 역전파 알고리즘"
   ]
  },
  {
   "cell_type": "code",
   "execution_count": 9,
   "metadata": {},
   "outputs": [],
   "source": [
    "import torch # 파이토치 불러오기"
   ]
  },
  {
   "cell_type": "code",
   "execution_count": 10,
   "metadata": {},
   "outputs": [
    {
     "data": {
      "text/plain": [
       "True"
      ]
     },
     "execution_count": 10,
     "metadata": {},
     "output_type": "execute_result"
    }
   ],
   "source": [
    "torch.cuda.is_available()"
   ]
  },
  {
   "cell_type": "markdown",
   "metadata": {},
   "source": [
    "#### 파이토치\n",
    "\n",
    "- PyTorch is a Python-based scientific computing package serving two broad purposes:\n",
    "    - A replacement for NumPy to use the power of GPUs and other accelerators.\n",
    "    - An automatic differentiation library that is useful to implement neural networks"
   ]
  },
  {
   "cell_type": "markdown",
   "metadata": {},
   "source": [
    "#### 파이토치 텐서\n",
    "\n",
    "- 물리학에서 물리량을 표현하기 위한 수학적 도구\n",
    "\n",
    "- 인공지능 분야에서는 다차원 배열\n",
    "\n",
    "- 넘파이 어레이와 파이토치 텐서는 상호 변환 가능\n"
   ]
  },
  {
   "cell_type": "code",
   "execution_count": 11,
   "metadata": {},
   "outputs": [
    {
     "name": "stdout",
     "output_type": "stream",
     "text": [
      "[[0.5488 0.7152 0.6028]\n",
      " [0.5449 0.4237 0.6459]] float64\n",
      "tensor([[0.5488, 0.7152, 0.6028],\n",
      "        [0.5449, 0.4237, 0.6459]], dtype=torch.float64) torch.float64 False\n",
      "tensor([[0.5488, 0.7152, 0.6028],\n",
      "        [0.5449, 0.4237, 0.6459]], dtype=torch.float64) torch.float64 False\n",
      "tensor([[0.5488, 0.7152, 0.6028],\n",
      "        [0.5449, 0.4237, 0.6459]]) torch.float32 False\n",
      "tensor([[0.5488, 0.7152, 0.6028],\n",
      "        [0.5449, 0.4237, 0.6459]], dtype=torch.float64) torch.float64 False\n"
     ]
    }
   ],
   "source": [
    "np.random.seed(0) # 랜덤 어레이 생성에서 늘 같은 결과가 나오게 하기 위해\n",
    "\n",
    "x = np.random.rand(6).reshape(2,3)\n",
    "\n",
    "x_tensor = torch.tensor(x)\n",
    "x_from_numpy = torch.from_numpy(x)\n",
    "x_Tensor = torch.Tensor(x)\n",
    "x_as_tensor = torch.as_tensor(x)\n",
    "\n",
    "print(x, x.dtype)\n",
    "print(x_tensor, x_tensor.dtype, x_tensor.requires_grad)\n",
    "print(x_from_numpy, x_from_numpy.dtype, x_from_numpy.requires_grad)\n",
    "print(x_Tensor, x_Tensor.dtype, x_Tensor.requires_grad)\n",
    "print(x_as_tensor, x_as_tensor.dtype, x_as_tensor.requires_grad)"
   ]
  },
  {
   "cell_type": "markdown",
   "metadata": {},
   "source": [
    "- 텐서가 만들어진 방법에 따라 데이터의 공유 상태를 확인해보자."
   ]
  },
  {
   "cell_type": "code",
   "execution_count": 12,
   "metadata": {},
   "outputs": [
    {
     "name": "stdout",
     "output_type": "stream",
     "text": [
      "[[100.       0.7152   0.6028]\n",
      " [  0.5449   0.4237   0.6459]] float64\n",
      "tensor([[0.5488, 0.7152, 0.6028],\n",
      "        [0.5449, 0.4237, 0.6459]], dtype=torch.float64) torch.float64 False\n",
      "tensor([[100.0000,   0.7152,   0.6028],\n",
      "        [  0.5449,   0.4237,   0.6459]], dtype=torch.float64) torch.float64 False\n",
      "tensor([[0.5488, 0.7152, 0.6028],\n",
      "        [0.5449, 0.4237, 0.6459]]) torch.float32 False\n",
      "tensor([[100.0000,   0.7152,   0.6028],\n",
      "        [  0.5449,   0.4237,   0.6459]], dtype=torch.float64) torch.float64 False\n"
     ]
    }
   ],
   "source": [
    "x[0,0] = 100\n",
    "\n",
    "print(x, x.dtype)\n",
    "print(x_tensor, x_tensor.dtype, x_tensor.requires_grad)\n",
    "print(x_from_numpy, x_from_numpy.dtype, x_from_numpy.requires_grad)\n",
    "print(x_Tensor, x_Tensor.dtype, x_Tensor.requires_grad)\n",
    "print(x_as_tensor, x_as_tensor.dtype, x_as_tensor.requires_grad)"
   ]
  },
  {
   "cell_type": "markdown",
   "metadata": {},
   "source": [
    "`torch.from_numpy()`와 `torch.as_tensor()`만 값이 바뀜"
   ]
  },
  {
   "cell_type": "code",
   "execution_count": 13,
   "metadata": {},
   "outputs": [
    {
     "name": "stdout",
     "output_type": "stream",
     "text": [
      "tensor([[100.0000,   0.7152,   0.6028],\n",
      "        [  0.5449,   0.4237,   0.6459]], dtype=torch.float64,\n",
      "       requires_grad=True) torch.float64 True\n"
     ]
    }
   ],
   "source": [
    "x_tensor_grad = torch.tensor(x, requires_grad=True)\n",
    "\n",
    "print(x_tensor_grad, x_tensor_grad.dtype, x_tensor_grad.requires_grad)"
   ]
  },
  {
   "cell_type": "code",
   "execution_count": 14,
   "metadata": {},
   "outputs": [
    {
     "name": "stdout",
     "output_type": "stream",
     "text": [
      "tensor([1.], requires_grad=True)\n",
      "tensor([0.], grad_fn=<MulBackward0>)\n",
      "None\n",
      "None\n",
      "<MulBackward0 object at 0x000001C9983505E0>\n"
     ]
    }
   ],
   "source": [
    "x = torch.tensor([1.0], requires_grad=True)\n",
    "f = (x**2 + 2*x) * torch.log(x)\n",
    "\n",
    "print(x)\n",
    "print(f)\n",
    "print(x.grad)\n",
    "\n",
    "print(x.grad_fn)\n",
    "print(f.grad_fn)"
   ]
  },
  {
   "cell_type": "code",
   "execution_count": 15,
   "metadata": {},
   "outputs": [
    {
     "name": "stdout",
     "output_type": "stream",
     "text": [
      "True\n"
     ]
    }
   ],
   "source": [
    "# x가 마지막 노드인가? \n",
    "# backward()함수는 마지막 노드까지 역전파하면서 미분계수를 구한다.\n",
    "print(x.is_leaf)"
   ]
  },
  {
   "cell_type": "markdown",
   "metadata": {},
   "source": [
    "#### torch.autograd.backward"
   ]
  },
  {
   "cell_type": "code",
   "execution_count": 16,
   "metadata": {},
   "outputs": [
    {
     "name": "stdout",
     "output_type": "stream",
     "text": [
      "tensor([6.])\n"
     ]
    }
   ],
   "source": [
    "torch.autograd.backward(f, grad_tensors=torch.tensor([2.]), retain_graph=True)\n",
    "print(x.grad)"
   ]
  },
  {
   "cell_type": "markdown",
   "metadata": {},
   "source": [
    "#### torch.autograd.grad"
   ]
  },
  {
   "cell_type": "code",
   "execution_count": 17,
   "metadata": {},
   "outputs": [
    {
     "name": "stdout",
     "output_type": "stream",
     "text": [
      "(tensor([3.]),)\n"
     ]
    }
   ],
   "source": [
    "df = torch.autograd.grad(f, x, retain_graph=True)\n",
    "print(df)"
   ]
  },
  {
   "cell_type": "code",
   "execution_count": 18,
   "metadata": {},
   "outputs": [
    {
     "name": "stdout",
     "output_type": "stream",
     "text": [
      "tensor([6.])\n"
     ]
    }
   ],
   "source": [
    "print(x.grad)"
   ]
  },
  {
   "cell_type": "markdown",
   "metadata": {},
   "source": [
    "- 다음 함수를 파이토치로 미분하기\n",
    "\n",
    "$$\n",
    "f(x,y) = (x^2 + 2x)\\ln(y)\n",
    "$$"
   ]
  },
  {
   "cell_type": "code",
   "execution_count": 19,
   "metadata": {},
   "outputs": [
    {
     "name": "stdout",
     "output_type": "stream",
     "text": [
      "tensor([2.7726])\n",
      "tensor([1.5000])\n",
      "(tensor([2.7726]), tensor([1.5000]))\n"
     ]
    }
   ],
   "source": [
    "x = torch.tensor([1.0], requires_grad=True)\n",
    "y = torch.tensor([2.0], requires_grad=True)\n",
    "f_xy = (x**2 + 2*x) * torch.log(y)\n",
    "\n",
    "torch.autograd.backward(f_xy, retain_graph=True)\n",
    "print(x.grad)\n",
    "print(y.grad)\n",
    "\n",
    "df = torch.autograd.grad(f_xy, (x,y), retain_graph=True)\n",
    "print(df)"
   ]
  },
  {
   "cell_type": "markdown",
   "metadata": {},
   "source": [
    "#### 수치 미분, 파이토치 자동미분 결과 비교"
   ]
  },
  {
   "cell_type": "code",
   "execution_count": 20,
   "metadata": {},
   "outputs": [
    {
     "name": "stdout",
     "output_type": "stream",
     "text": [
      "[2.7726 1.49  ]\n"
     ]
    }
   ],
   "source": [
    "f_xy = lambda x: (x[0]**2 + 2*x[0])*np.log(x[1])\n",
    "print(numer_deriv(f_xy, np.array([1, 2])))"
   ]
  },
  {
   "cell_type": "markdown",
   "metadata": {},
   "source": [
    "#### 자동 미분 초(超) 간단 예\n",
    "\n",
    "- 다음 함수에 있어서 자동 미분 방식으로 미분을 계산\n",
    "\n",
    "\n",
    "$$\n",
    "z(x,y) = xy\n",
    "$$\n",
    "\n",
    "- 각각을 그냥 손으로 미분하면 다음과 같음을 이미 알고 있다.\n",
    "\n",
    "$$\n",
    "\\frac{\\partial z}{\\partial x} = y \\quad \\frac{\\partial z}{\\partial y} = x\n",
    "$$\n",
    "\n",
    "- $x$로 미분하면 $y$가 되고, $y$로 미분하면 $x$가 되어 미분하는 변수의 반대로 결과가 나온다.\n",
    "\n",
    "- 위 함수를 아래처럼 동그라미 노드는 연산, 화살표는 숫자의 흐름을 의미하게 그래프로 그림.\n",
    "\n",
    "<img src=\"imgs/autodiff1.png\" width=\"550\">\n",
    "\n",
    "- 위 그래프 $x=3$, $y=2$를 대입하고 그래프의 왼쪽에서 오른쪽으로 진행하면서 계산하면 $z=6$이 된다. 이 과정을 순전파라고 함\n",
    "\n",
    "- 위 손 미분에서 결과가 반대로 나온다는 사실로 인해 $x=3$, $y=2$에서의 각 편도함수의 값은 $\\dfrac{\\partial z}{\\partial x}= 2$, $\\dfrac{\\partial z}{\\partial y}= 3$이고 이는 아무런 계산이 필요없이 그냥 입력의 위치만 바꿔주면 됨"
   ]
  },
  {
   "cell_type": "markdown",
   "metadata": {},
   "source": [
    "- 이제 아무것도 안하는 $z$를 입력받고 $z$를 출력하는 노드 하나를 마지막에 붙이고 \n",
    "\n",
    "- 최종 결과 $h$를 $x$로 미분하면 마지막 함수$I(z)$는 함수값에 전혀 변화를 주지 않으므로 결과는 여전히 $\\dfrac{\\partial h}{\\partial x}= 2$\n",
    "\n",
    "<img src=\"imgs/autodiff2.png\" width=\"550\">\n",
    "\n",
    "- 마지막은 $z$를 입력받아 $h$를 출력하는 함수이므로 $x$의 함수가 아니라 $z$의 함수이므로 다음과 같이 체인룰을 적용한다.\n",
    "\n",
    "$$\n",
    "\\frac{\\partial h}{\\partial x} = \\frac{\\partial h}{\\partial z} \\frac{\\partial z}{\\partial x}  \n",
    "$$\n",
    "\n",
    "- $\\dfrac{\\partial z}{\\partial x}  $은 좀 전과 같고 새롭게 추가된 $\\dfrac{\\partial h}{\\partial z}$만 계산해서 곱해주면 미분 완성\n",
    "\n",
    "- $\\dfrac{\\partial h}{\\partial z}=1$이므로 최종 결과는 변하지 않는다.\n",
    "\n",
    "- 따라서 아래와 같은 루틴을 반복하는 것으로 복잡한 전체 미분을 완성할 수 있음.\n",
    "\n",
    "> 최소 함수 단위로 쪼갠 다음 각각에 대해서 미분 계수를 계산하고 이를 다 곱해준다.\n",
    "\n",
    "- 아래처럼 간단하게 코드로 구현할 수 있다."
   ]
  },
  {
   "cell_type": "code",
   "execution_count": 21,
   "metadata": {},
   "outputs": [
    {
     "name": "stdout",
     "output_type": "stream",
     "text": [
      "dx=3, dy=2\n"
     ]
    }
   ],
   "source": [
    "def times(x, y):\n",
    "    return x*y, (x,y)\n",
    "\n",
    "def times_deriv(cache, dout=1):\n",
    "    #       dx            dy\n",
    "    return cache[1]*dout, cache[0]*dout\n",
    "\n",
    "TIMES = {'f': times, 'df': times_deriv}\n",
    "#  (2,3)\n",
    "v, cache = TIMES['f'](2,3)\n",
    "dx, dy = TIMES['df'](cache)\n",
    "\n",
    "print(\"dx={}, dy={}\".format(dx, dy))"
   ]
  },
  {
   "cell_type": "markdown",
   "metadata": {},
   "source": [
    "#### 자동 미분 간단 예\n",
    "\n",
    "- 계속 다루고 있는 다음 함수를 자동 미분 해보자.\n",
    "\n",
    "$$\n",
    "f(x,y) = (x^2 + 2x)\\ln(y)\n",
    "$$"
   ]
  },
  {
   "cell_type": "markdown",
   "metadata": {},
   "source": [
    "- 그래프 표현\n",
    "\n",
    "<img src=\"imgs/simple-1.png\" width=\"700\">"
   ]
  },
  {
   "cell_type": "markdown",
   "metadata": {},
   "source": [
    "- 연산을 중심으로 단위 함수로 세분화 한다.\n",
    "\n",
    "\n",
    "<img src=\"imgs/simple-2.png\" width=\"700\">"
   ]
  },
  {
   "cell_type": "markdown",
   "metadata": {},
   "source": [
    "- 이제 위 그림에서 각 단위 함수별로 미분 계수를 계산해본다.\n",
    "\n",
    "- 예를 들면 입력 $y$와 출력 $d$만을 고려하면 $d = \\ln(y)$이므로 $\\frac{\\partial d}{\\partial y} = \\frac{1}{y}$임을 쉽게 알 수 있다.\n",
    "\n",
    "- 이런 규칙으로 각 단위 함수에 대한 미분계수를 구해보자.\n",
    "\n",
    "<img src=\"imgs/simple-3.png\" width=\"700\">\n",
    "\n",
    "<img src=\"imgs/simple-4.png\" width=\"500\">"
   ]
  },
  {
   "cell_type": "markdown",
   "metadata": {},
   "source": [
    "- 이제 각 변수에 대한 미분계수를 구하기 위해 연쇄법칙을 적용하고 연쇄법칙에 등장하는 미분계수를 위 표에서 찾아 곱하기먼하면 된다.\n",
    "\n",
    "- $\\frac{\\partial f}{\\partial y}$를 구해보면\n",
    "\n",
    "<img src=\"imgs/simple-5.png\" width=\"700\">\n",
    "\n",
    "- 그림의 실선을 따라가면서 미분 계수들을 곱하면 다음처럼 연쇄법칙이 완성되고 미분계수가 구해진다.\n",
    "\n",
    "<img src=\"imgs/simple-6.png\" width=\"300\">"
   ]
  },
  {
   "cell_type": "markdown",
   "metadata": {},
   "source": [
    "- $\\frac{\\partial f}{\\partial x}$도 같은 방법으로 구할 수 있는데 이때는 이전 연쇄법칙을 다룰 때 알아봤듯이 변수로 들어오는 모든 경로의 미분계수를 더해주어야 한다.\n",
    "\n",
    "<img src=\"imgs/simple-7.png\" width=\"700\">\n",
    "\n",
    "- 그림에 나타난 경로 세개를 모두 아래처럼 더해주면 미분계수가 구해진다.\n",
    "\n",
    "<img src=\"imgs/simple-8.png\" width=\"700\">"
   ]
  },
  {
   "cell_type": "markdown",
   "metadata": {},
   "source": [
    "#### 자동 미분 간단 예 코드 구현"
   ]
  },
  {
   "cell_type": "code",
   "execution_count": 22,
   "metadata": {},
   "outputs": [],
   "source": [
    "def add(x, y):\n",
    "    return x+y, (x,y)\n",
    "\n",
    "def add_deriv(cache, dout=1):\n",
    "    return dout, dout\n",
    "\n",
    "ADD = {'f': add, 'df': add_deriv}\n",
    "\n",
    "def log(x):\n",
    "    return np.log(x), x\n",
    "\n",
    "def log_deriv(cache, dout=1):\n",
    "    return (1/cache)*dout\n",
    "\n",
    "LOG = {'f': log, 'df': log_deriv}"
   ]
  },
  {
   "cell_type": "code",
   "execution_count": 23,
   "metadata": {},
   "outputs": [
    {
     "name": "stdout",
     "output_type": "stream",
     "text": [
      "forward pass f(x) = 2.079442\n",
      "backward pass dx = 2.772589, dy = 1.500000\n"
     ]
    }
   ],
   "source": [
    "x = 1.; y = 2.\n",
    "\n",
    "a, cache_a = TIMES['f'](x, x)\n",
    "b, cache_b = TIMES['f'](2, x)\n",
    "c, cache_c = ADD['f'](a, b)\n",
    "d, cache_d = LOG['f'](y)\n",
    "z, cache_z = TIMES['f'](c, d)\n",
    "\n",
    "print(\"forward pass f(x) = {:.6f}\".format(z))\n",
    "\n",
    "dx = dy = 0.\n",
    "dc, dd = TIMES['df'](cache_z, 1)\n",
    "dy = LOG['df'](cache_d, dd)\n",
    "da, db = ADD['df'](cache_c, dc)\n",
    "_, dx_ = TIMES['df'](cache_b, db); dx+=dx_;\n",
    "dx_, dx__ = TIMES['df'](cache_a, da); dx+=dx_+dx__;\n",
    "\n",
    "\n",
    "print(\"backward pass dx = {:.6f}, dy = {:.6f}\".format(dx, dy))"
   ]
  },
  {
   "cell_type": "markdown",
   "metadata": {},
   "source": [
    "#### 자동 미분 약간 복잡한 예제\n",
    "\n",
    "- 다음 함수를 그래프 방식으로 미분해보자.\n",
    "\n",
    "\n",
    "\n",
    "$$\n",
    "\\sigma(x) = \\frac{1}{1+\\exp(-x)}\n",
    "$$\n",
    "\n",
    "- 위 함수는 머신러닝에 자주 등장하는 로지스틱이라는 함수이므로 직접 미분을 해보는 것도 나쁘지 않다.\n",
    "\n",
    "- 그래프 방식의 결과가 유효한지 확인을 위해서 일단 손으로 분수함수 미분법을 사용하여 미분한다.\n",
    "\n",
    "\n",
    "$$\n",
    "\\begin{aligned}\n",
    "\\frac{d \\sigma(x)}{dx} = \\left( 1- \\sigma(x) \\right) \\sigma(x)\n",
    "\\end{aligned}\n",
    "$$\n",
    "\n",
    "\n",
    "- 위 함수는 분수와 지수함수 $\\exp$를 포함하고 있어 이를 위한 함수 객체가 필요하다.\n",
    "\n",
    "- 다음처럼 지수 함수와, 역수 함수 게이트를 만든다.\n",
    "\n",
    "- 이때 각함수의 미분은 다음의 결과를 이용한다.\n",
    "\n",
    "$$ \\frac{d}{dx} e^x = e^x$$\n",
    "\n",
    "$$ \\frac{d}{dx} \\frac{1}{x} = - \\frac{1}{x^2}$$\n",
    "\n"
   ]
  },
  {
   "cell_type": "code",
   "execution_count": 24,
   "metadata": {},
   "outputs": [],
   "source": [
    "def exp(x):\n",
    "    return np.exp(x), x\n",
    "\n",
    "def exp_deriv(cache, dout=1):\n",
    "    return np.exp(cache)*dout\n",
    "\n",
    "EXP = {'f': exp, 'df': exp_deriv}\n",
    "\n",
    "\n",
    "def inv(x):\n",
    "    return 1./x, x\n",
    "\n",
    "def inv_deriv(cache, dout=1):\n",
    "    return -(1/cache**2)*dout\n",
    "\n",
    "INV = {'f': inv, 'df': inv_deriv}"
   ]
  },
  {
   "cell_type": "markdown",
   "metadata": {},
   "source": [
    "- 아래 그림처럼 함수를 최소단위의 합성함수로 분해한 후 그래프를 만들고 순전파, 역전파를 한다.\n",
    "\n",
    "<img src=\"imgs/logistic-graph.png\" width=\"700\"/>\n"
   ]
  },
  {
   "cell_type": "code",
   "execution_count": 25,
   "metadata": {},
   "outputs": [],
   "source": [
    "def logistic(x):\n",
    "    # WRITE YOUR CODE HERE\n",
    "    a, cache_a = 0,0\n",
    "    b, cache_b = 0,0\n",
    "    c, cache_c = 0,0\n",
    "    d, cache_d = 0,0\n",
    "    \n",
    "    return ( (a, b, c, d), (cache_a, cache_b, cache_c, cache_d) )\n",
    "            \n",
    "def logistic_deriv(cache, dout=1):\n",
    "    # WRITE YOUR CODE HERE\n",
    "    cache_a, cache_b, cache_c, cache_d = cache\n",
    "    \n",
    "    dc    = 0,0\n",
    "    db, _ = 0,0\n",
    "    da    = 0,0\n",
    "    dx, _ = 0,0\n",
    "    \n",
    "    return dx*dout\n",
    "\n",
    "LOGISTIC = {'f': logistic, 'df': logistic_deriv}"
   ]
  },
  {
   "cell_type": "code",
   "execution_count": 26,
   "metadata": {},
   "outputs": [
    {
     "name": "stdout",
     "output_type": "stream",
     "text": [
      "ANAL.\n",
      "1 / (1+np.exp(-0.500))               = 0.622459\n",
      "Logistic func. derivative at x=0.500 = 0.235004\n",
      "\n",
      "\n",
      "AUTO DIFF.\n",
      "1 / (1+np.exp(-0.500))               = 0.000000\n",
      "Logistic func. derivative at x=0.500 = 0.000000\n",
      "\n",
      "\n"
     ]
    }
   ],
   "source": [
    "x = 0.5\n",
    "y = 1 / (1+np.exp(-x))\n",
    "print(\"ANAL.\")\n",
    "print(\"1 / (1+np.exp(-{:.3f}))               = {:f}\".format(x, y))       \n",
    "print(\"Logistic func. derivative at x={:.3f} = {:f}\".format(x, (1-y)*y))  \n",
    "print(\"\\n\")\n",
    "\n",
    "v, cache = LOGISTIC['f'](x)\n",
    "dv = LOGISTIC['df'](cache)\n",
    "print(\"AUTO DIFF.\")\n",
    "print(\"1 / (1+np.exp(-{:.3f}))               = {:f}\".format(x, v[3]))       \n",
    "print(\"Logistic func. derivative at x={:.3f} = {:f}\".format(x, dv))  \n",
    "print(\"\\n\")"
   ]
  },
  {
   "cell_type": "markdown",
   "metadata": {},
   "source": [
    "- 위 결과로부터 로지스틱 함수의 미분 계수를 구하는 클래스를 제대로 작성하였음을 알 수 있다."
   ]
  },
  {
   "cell_type": "markdown",
   "metadata": {},
   "source": [
    "#### 자동 미분 조금 더 복잡한 예제<sup>[cs231n:backprop]</sup>\n",
    "\n",
    "- 이 예제는 참고문헌 [cs231n:backprop]에서 발췌한 것으로 스탠포드 대학 딥러닝 강의 노트에 있는 예제이다.\n",
    "\n",
    "- $x = 3$, $y = -4$에서 다음 함수의 함수값과 미분계수를 구하여라.\n",
    "\n",
    "$$\n",
    "z(x,y)=\\frac{x+\\sigma(y)}{\\sigma(x)+(x+y)^2} \n",
    "$$\n",
    "\n",
    "- 그냥 손미분하기 쉽지 않다. \n",
    "\n",
    "- 수치미분 또는 그래프 방식 미분으로 확인\n",
    "\n",
    "<img src=\"imgs/example-graph3.png\" width=\"700\"/>\n",
    "\n",
    "- 연휴 숙제"
   ]
  },
  {
   "cell_type": "code",
   "execution_count": 27,
   "metadata": {},
   "outputs": [
    {
     "name": "stdout",
     "output_type": "stream",
     "text": [
      "Analytic  : f=1.545645, dx=2.059570, dy=1.592233\n",
      "Numerical : f=1.545645, dx=2.059570, dy=1.592233\n",
      "Graph     : f=0.000000, dx=0.000000, dy=0.000000\n"
     ]
    }
   ],
   "source": [
    "x = 3\n",
    "y = -4\n",
    "\n",
    "def my_func(x, y):\n",
    "    \"\"\"\n",
    "    Define analytic function\n",
    "    \"\"\"\n",
    "    return ( x + (1/(1+np.exp(-y))) ) / ( (1/(1+np.exp(-x))) + (x+y)**2 )\n",
    "\n",
    "def dmy_func(x, y):\n",
    "    sigma_x = 1/(1+np.exp(-x))\n",
    "    sigma_y = 1/(1+np.exp(-y))\n",
    "    \n",
    "    numer = sigma_x + (x+y)**2 - ( (x+sigma_y)*((1-sigma_x)*sigma_x + 2*(x+y)) )\n",
    "    denom = (sigma_x + (x+y)**2)**2\n",
    "    dx = numer/denom\n",
    "    \n",
    "    numer = ((1-sigma_y)*sigma_y)*(sigma_x + (x+y)**2) - ( (x+sigma_y)*(2*(x+y)) )\n",
    "    dy = numer/denom\n",
    "    \n",
    "    return dx, dy\n",
    "\n",
    "def dmy_func_numer(x, y):\n",
    "    \"\"\"\n",
    "    Numerical derivative to verify back-propagation\n",
    "    \"\"\"\n",
    "    h = 0.001\n",
    "    dx = (my_func(x+h/2, y) - my_func(x-h/2,y)) / h\n",
    "    dy = (my_func(x, y+h/2) - my_func(x,y-h/2)) / h\n",
    "    \n",
    "    return dx, dy\n",
    "\n",
    "def my_func_graph(x, y):\n",
    "    z, dx, dy = 0., 0., 0.\n",
    "    \n",
    "    ######################################################\n",
    "    # FORWARD FOR FUNCTION VALUE\n",
    "    # WRITE YOUR CODE HERE\n",
    "    ######################################################\n",
    "    \n",
    "    \n",
    "    ######################################################\n",
    "    # BACKWARD FOR DERIVATIVE\n",
    "    # WRITE YOUR CODE HERE\n",
    "    ######################################################\n",
    "    \n",
    "\n",
    "   \n",
    "    \n",
    "    return z, dx, dy\n",
    "\n",
    "print(\"Analytic  : f={:f}, dx={:f}, dy={:f}\".format(my_func(x,y), *dmy_func(x,y)))\n",
    "print(\"Numerical : f={:f}, dx={:f}, dy={:f}\".format(my_func(x,y), *dmy_func_numer(x,y)))\n",
    "print(\"Graph     : f={:f}, dx={:f}, dy={:f}\".format(*my_func_graph(x, y)))\n"
   ]
  },
  {
   "cell_type": "markdown",
   "metadata": {
    "slideshow": {
     "slide_type": "slide"
    }
   },
   "source": [
    "## 참고문헌\n",
    "\n",
    "1. [arora] Intoruduction to Optimum Design 2nd ed., Jasbir S. Arora, Elsevier\n",
    "\n",
    "1. [cs231n:backprop] Backpropagation, Intuitions, CS231n: Convolutional Neural Networks for Visual Recognition, http://cs231n.github.io/optimization-2/\n",
    "\n",
    "1. [wiki:direc_deriv] Directional derivative,  https://en.wikipedia.org/wiki/Directional_derivative\n",
    "\n",
    "1. [goodfellow] Deep Learning Book, Ian Goodfellow, Yoshua Bengio, Aaron Courville, MIT Press, 2016"
   ]
  },
  {
   "cell_type": "code",
   "execution_count": 28,
   "metadata": {},
   "outputs": [
    {
     "data": {
      "text/html": [
       "<style>h1 { font-family: 'Noto Sans KR' !important; color:#348ABD !important;   }\n",
       "h2 { font-family: 'Noto Sans KR' !important; color:#467821 !important;   }\n",
       "h3 { font-family: 'Noto Sans KR' !important; color:#A60628 !important;   }\n",
       "h4 { font-family: 'Noto Sans KR' !important; color:#7A68A6 !important;   }        \n",
       "\n",
       "</style>"
      ],
      "text/plain": [
       "<IPython.core.display.HTML object>"
      ]
     },
     "execution_count": 28,
     "metadata": {},
     "output_type": "execute_result"
    }
   ],
   "source": [
    "from IPython.core.display import HTML\n",
    "\n",
    "def _set_css_style(css_file_path):\n",
    "   \"\"\"\n",
    "   Read the custom CSS file and load it into Jupyter.\n",
    "   Pass the file path to the CSS file.\n",
    "   \"\"\"\n",
    "   styles = open(css_file_path, \"r\").read()\n",
    "   s = '<style>%s</style>' % styles     \n",
    "   return HTML(s)\n",
    "\n",
    "_set_css_style(\"../../style.css\")"
   ]
  },
  {
   "cell_type": "code",
   "execution_count": null,
   "metadata": {},
   "outputs": [],
   "source": []
  }
 ],
 "metadata": {
  "celltoolbar": "Slideshow",
  "kernelspec": {
   "display_name": "Python 3",
   "language": "python",
   "name": "python3"
  },
  "language_info": {
   "codemirror_mode": {
    "name": "ipython",
    "version": 3
   },
   "file_extension": ".py",
   "mimetype": "text/x-python",
   "name": "python",
   "nbconvert_exporter": "python",
   "pygments_lexer": "ipython3",
   "version": "3.8.5"
  },
  "livereveal": {
   "scroll": true,
   "start_slideshow_at": "selected"
  }
 },
 "nbformat": 4,
 "nbformat_minor": 4
}
