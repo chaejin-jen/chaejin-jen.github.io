{
  "nbformat": 4,
  "nbformat_minor": 0,
  "metadata": {
    "colab": {
      "name": "Methods_crawling.ipynb",
      "provenance": [],
      "collapsed_sections": [],
      "toc_visible": true
    },
    "kernelspec": {
      "name": "python3",
      "display_name": "Python 3"
    }
  },
  "cells": [
    {
      "cell_type": "markdown",
      "metadata": {
        "id": "wd4C-X-_rZjr"
      },
      "source": [
        "# Methods Crawling\r\n",
        "Paper with Code의 https://paperswithcode.com/methods/ 를 뜯어보자!\r\n",
        "\r\n",
        "\r\n",
        "## Category\r\n",
        "\r\n",
        "## Library\r\n",
        "- bs4\r\n",
        "- \r\n",
        "\r\n",
        "## Environment\r\n",
        "- Google Colab"
      ]
    },
    {
      "cell_type": "markdown",
      "metadata": {
        "id": "xHrryBnTyOk7"
      },
      "source": [
        "# 참고 코드"
      ]
    },
    {
      "cell_type": "markdown",
      "metadata": {
        "id": "IlUEaYb7xm2i"
      },
      "source": [
        "##  Beatiful soup "
      ]
    },
    {
      "cell_type": "markdown",
      "metadata": {
        "id": "AvBu-CNRsYuh"
      },
      "source": [
        "\r\n",
        "\r\n",
        "### 사용 예시 1 : class로 찾아 오기\r\n",
        "\r\n",
        "``` python\r\n",
        "import requests\r\n",
        "from bs4 import BeautifulSoup\r\n",
        "\r\n",
        "url = \"https://www.kaggle.com/c/ranzcr-clip-catheter-line-classification/notebooks?competitionId=23870&sortBy=scoreDescending\"\r\n",
        "\r\n",
        "response = requests.get(url)\r\n",
        "soup = BeautifulSoup(response.content, 'lxml')#'html.parser')    \r\n",
        "ul = soup.find('ul', class_=\"km-list km-list--avatar-list km-list--three-line\")\r\n",
        "print(soup)\r\n",
        "\r\n",
        "```\r\n",
        "\r\n",
        "### 사용 예시 2 : 테이블 데이터\r\n",
        "- [image models](https://paperswithcode.com/methods/category/image-models)\r\n",
        "\r\n",
        "```python\r\n",
        "import requests\r\n",
        "from bs4 import BeautifulSoup\r\n",
        "\r\n",
        "url = 'https://paperswithcode.com/methods/category/image-models'\r\n",
        "response = requests.get(url)\r\n",
        "soup = BeautifulSoup(response.content, 'html.parser')\r\n",
        "\r\n",
        "# table id 가 methodsTable 인 테이블 가져오기\r\n",
        "table = soup.find(lambda tag: tag.name=='table' and tag.has_attr('id') and tag['id']==\"methodsTable\")\r\n",
        "rows = table.findAll(lambda tag: tag.name=='div')\r\n",
        "\r\n",
        "model_names = [r.text.strip() for r in rows]\r\n",
        "len(model_names)\r\n",
        "```\r\n",
        "\r\n",
        "\r\n",
        "### 예시3 : 태그로\r\n",
        "```python\r\n",
        "from bs4 import SoupStrainer\r\n",
        "\r\n",
        "only_a_tags = SoupStrainer(\"a\")\r\n",
        "```\r\n",
        "\r\n",
        "### 예시 4 : xpath 이용, 함수화\r\n",
        "```python\r\n",
        "def data_gathering():\r\n",
        "    response = requests.get(url)\r\n",
        "    soup = BeautifulSoup(response.content, 'html.parser')\r\n",
        "    # print(soup.prettify())\r\n",
        "\r\n",
        "    ul = soup.find('ul', class_=\"km-list km-list--avatar-list km-list--three-line\")\r\n",
        "    li_all = ul.find_all('li')\r\n",
        "    kernel_list = []\r\n",
        "    for li in li_all:\r\n",
        "        # try:\r\n",
        "        # img_list = li.find('img').get('src')\r\n",
        "        kernl_name = li.select('dl > dt > a')[0].text\r\n",
        "        rating_list = ''.join([rating.text for rating in li.select('dl > dt > span')]).rstrip(' 관람가')\r\n",
        "        star_rating_list = li.select('dl > dd > dl > dd > div > a > span.num')[0].text\r\n",
        "        number_of_participants_list = li.select('dl > dd.star > dl.info_star > dd > div > a > span.num2 > em')[0].text\r\n",
        "        genres_list = ','.join([genre.text for genre in li.select('dl > dd > dl > :nth-child(2) > span.link_txt > a')])\r\n",
        "        creators_list = ','.join([creators.text for creators in li.select('dl > dd > dl > :nth-child(4) > span.link_txt > a')])\r\n",
        "        stars_list = ','.join([star.text for star in li.select('li > dl > dd:nth-child(3) > dl > dd:nth-child(6) > span > a')])\r\n",
        "        # except:\r\n",
        "        #\r\n",
        "        movie_list.append([img_list, movie_name_list, rating_list, genres_list, star_rating_list, number_of_participants_list, creators_list, stars_list])\r\n",
        "    print(movie_list)\r\n",
        "    return render_template(\"data_gathering.html\", movie_list=movie_list)\r\n",
        "\r\n",
        "```"
      ]
    },
    {
      "cell_type": "markdown",
      "metadata": {
        "id": "Kx-QTUQAs5BZ"
      },
      "source": [
        "## Selenium"
      ]
    },
    {
      "cell_type": "markdown",
      "metadata": {
        "id": "TFIcymM9rTNt"
      },
      "source": [
        "### chromium-chromedriver 설치\r\n",
        "\r\n",
        "- 설치\r\n",
        "- 사용선언\r\n",
        "- path 추가\r\n",
        "\r\n",
        "```python\r\n",
        "!pip install selenium\r\n",
        "!apt-get update # to update ubuntu to correctly run apt install\r\n",
        "!apt install chromium-chromedriver\r\n",
        "!cp /usr/lib/chromium-browser/chromedriver /usr/bin\r\n",
        "```\r\n",
        "\r\n",
        "```python\r\n",
        "from selenium import webdriver\r\n",
        "import time\r\n",
        "import datetime\r\n",
        "\r\n",
        "chrome_options = webdriver.ChromeOptions()\r\n",
        "chrome_options.add_argument('--headless')\r\n",
        "chrome_options.add_argument('--no-sandbox')\r\n",
        "chrome_options.add_argument('--disable-dev-shm-usage')\r\n",
        "\r\n",
        "import sys\r\n",
        "sys.path.insert(0,'/usr/lib/chromium-browser/chromedriver')\r\n",
        "```\r\n",
        "\r\n",
        "### 사용 예시 1\r\n",
        "\r\n",
        "```python\r\n",
        "from selenium.webdriver import ActionChains\r\n",
        "from selenium.webdriver.common.keys import Keys\r\n",
        "url = \"https://www.kaggle.com/c/ranzcr-clip-catheter-line-classification/notebooks?competitionId=23870&sortBy=scoreDescending\"\r\n",
        "driver = webdriver.Chrome('chromedriver', chrome_options=chrome_options) #('/usr/lib/chromium-browser/chromedriver')\r\n",
        "\r\n",
        "# 웹페이지 로딩시간을 고려해 implicitly_wait 타임을 줌\r\n",
        "# wd.implicitly_wait(3)\r\n",
        "driver.get(url)\r\n",
        "```\r\n",
        "\r\n",
        "### 함수 1 : 웹페이지 맨 하단까지 스크롤링\r\n",
        "  - click_nolink_for_scrollDown : 웹페이지 맨 하단까지 스크롤링 (body 부분을 click)\r\n",
        "\r\n",
        "```python\r\n",
        "def click_nolink_for_scrollDown(driver, scrollDown_num=100):\r\n",
        "    url = driver.current_url\r\n",
        "    while True:\r\n",
        "        try:\r\n",
        "            body = driver.find_element_by_css_selector('body')\r\n",
        "        except:\r\n",
        "            driver.refresh()\r\n",
        "            sleep(1)\r\n",
        "        body.click()\r\n",
        "        time.sleep(0.1)\r\n",
        "        if url == driver.current_url:\r\n",
        "            break\r\n",
        "        else:\r\n",
        "            driver.execute_script(\"window.history.go(-1)\")\r\n",
        "    time.sleep(0.1)\r\n",
        "    for i in range(scrollDown_num):\r\n",
        "        time.sleep(0.1)\r\n",
        "        body.send_keys(Keys.PAGE_DOWN)\r\n",
        "\r\n",
        "click_nolink_for_scrollDown(driver)\r\n",
        "```\r\n",
        "\r\n",
        "```python\r\n",
        "ul = driver.find_element_by_xpath('//*[@id=\"site-content\"]/div[2]/div/div[2]/div[1]/div/div/div[4]/div[2]/ul')\r\n",
        "print(ul.text)\r\n",
        "```"
      ]
    },
    {
      "cell_type": "markdown",
      "metadata": {
        "id": "N0pI5xDVxcCG"
      },
      "source": [
        "## 크롤링 데이터 편집 1 : 커널"
      ]
    },
    {
      "cell_type": "markdown",
      "metadata": {
        "id": "3X72TbIAubDB"
      },
      "source": [
        "\r\n",
        "- 클래스 Kernel 의 객체는 dataframe으로 이루어짐\r\n",
        "\r\n",
        "  ``` python\r\n",
        "  # Kernel.__init__() 테스트\r\n",
        "  df = pd.DataFrame(columns=['rank', 'score', 'name', 'author', 'link', 'download'])\r\n",
        "  df\r\n",
        "  # Kernel.append() 테스트\r\n",
        "  df1 = df.append(pd.Series([1,2,3,4,5,6],index=df.columns),ignore_index=True)\r\n",
        "  df1\r\n",
        "\r\n",
        "  ```\r\n",
        "  \r\n",
        "||rank|\tscore|\tname|\tauthor|\tlink|\tdownload|\r\n",
        "|-|-:|-:|-:|-:|-:|-:|\r\n",
        "|0|\t1|\t2|\t3|\t4|\t5|\t6|\r\n",
        "\r\n",
        "- 클래스 Code 구현예정\r\n",
        "\r\n",
        "  ```python\r\n",
        "  class Code:\r\n",
        "      def __init__(self):\r\n",
        "          self.model = None\r\n",
        "          self.module = None\r\n",
        "  ```\r\n",
        "\r\n",
        "- 사용\r\n",
        "\r\n",
        "  ```python\r\n",
        "  import pandas as pd\r\n",
        "\r\n",
        "  class Kernel:\r\n",
        "      def __init__(self):\r\n",
        "          self.columns = ['rank', 'score', 'author', 'name', 'link', 'download']\r\n",
        "          self.df = pd.DataFrame(columns=self.columns)\r\n",
        "      def append(self, rank, score, author, name, kernel_link, downlink):\r\n",
        "          self.df = self.df.append(pd.Series([rank, score, author, name, kernel_link, downlink],index=self.df.columns),ignore_index=True)\r\n",
        "\r\n",
        "  li = ul.find_elements_by_css_selector(\"li\")\r\n",
        "  kernel = Kernel()\r\n",
        "  for i, l in enumerate(li):\r\n",
        "    score = float(l.find_elements_by_css_selector(\"a > div > span:nth-child(3) > span > span:nth-child(1)\")[0].text[-5:])\r\n",
        "    if score > 0.75:\r\n",
        "      # print(score)\r\n",
        "      kernel_name = l.find_elements_by_css_selector(\"a > div > div\")[0].text\r\n",
        "      # print(kernel_name)\r\n",
        "      href = l.find_elements_by_css_selector('a')\r\n",
        "      author = href[0].get_attribute('href').split('/')[-1]\r\n",
        "      kernel_link = href[1].get_attribute('href')\r\n",
        "      downlink = href[-1].get_attribute('href')\r\n",
        "      kernel.append(i, score, author, kernel_name, kernel_link, downlink)\r\n",
        "      # print(author)\r\n",
        "      # print(kernel_link,downlink )\r\n",
        "    else:\r\n",
        "      break\r\n",
        "\r\n",
        "  kernel.df\r\n",
        "  ```"
      ]
    },
    {
      "cell_type": "markdown",
      "metadata": {
        "id": "ksAyJk_xwJ-q"
      },
      "source": [
        "## ipynb파일 다운링크로 받고 md파일로 변환\r\n",
        "\r\n",
        "- kaggle 노트북에서 유용\r\n",
        "\r\n"
      ]
    },
    {
      "cell_type": "markdown",
      "metadata": {
        "id": "pChMy82xyIlS"
      },
      "source": [
        "### 파일 다운, md파일 변환\r\n",
        "- 파일 다운링크, 파일 이름 필요\r\n",
        "```python\r\n",
        "import numpy as np\r\n",
        "# idx = 0\r\n",
        "# kernel.df.columns\r\n",
        "# kernel.df['name'][idx]\r\n",
        "# link = kernel.df['download'][idx]\r\n",
        "link = '다운링크를 적어주세요'\r\n",
        "name =  '파일이름' # 예시 : link.replace(' ','_') + '.ipynb'\r\n",
        "!wget {link} -O {name}\r\n",
        "!ipython nbconvert --to markdown {name}\r\n",
        "!ls\r\n",
        "```\r\n",
        "\r\n",
        "### md파일 읽기\r\n",
        "- 파일이름 필요\r\n",
        "\r\n",
        "```python\r\n",
        "idx = 0\r\n",
        "with open(name.replace('ipynb', 'md')) as f:\r\n",
        "    Tensorflow = False\r\n",
        "    Pytorch = False\r\n",
        "    while True:\r\n",
        "        line = f.readline()\r\n",
        "        \r\n",
        "        if line:\r\n",
        "            if 'import' in line:\r\n",
        "                print(line.strip('\\n'))\r\n",
        "                if 'tensorflow' in line:\r\n",
        "                    Tensorflow = True\r\n",
        "                if 'torch' in line:\r\n",
        "                    Pytorch = True\r\n",
        "        else:\r\n",
        "            break\r\n",
        "    if Tensorflow == True and Pytorch == True: \r\n",
        "        test_df['framework'][idx] = 'Tensorflow/Pytorch'\r\n",
        "    else:\r\n",
        "      if Tensorflow == True and Pytorch == False:\r\n",
        "          test_df['framework'][idx] = 'Tensorflow'\r\n",
        "      elif Tensorflow == False and Pytorch == True:\r\n",
        "          test_df['framework'][idx] = 'Pytorch'\r\n",
        "```\r\n"
      ]
    },
    {
      "cell_type": "markdown",
      "metadata": {
        "id": "DQUfuev7v5Db"
      },
      "source": [
        "# BeautifulSoup 으로 크롤링"
      ]
    },
    {
      "cell_type": "markdown",
      "metadata": {
        "id": "5C8D5g1iFdE2"
      },
      "source": [
        "## 안 쓴 방법 \r\n"
      ]
    },
    {
      "cell_type": "markdown",
      "metadata": {
        "id": "30aSFsIT0jMB"
      },
      "source": [
        "\r\n",
        "soup = BeautifulSoup(markup=response.content, features='html.parser', parse_only=only_a_tags)\r\n",
        "\r\n",
        "\r\n",
        "```python\r\n",
        "for i, d in enumerate(div_categories):\r\n",
        "  text = d.text.strip('\\n').split()\r\n",
        "  if text:\r\n",
        "    print(i, int(text[-2]))\r\n",
        "  else:\r\n",
        "    count = 0\r\n",
        "    for c in div.find_all('div', class_= \"card-deck card-break infinite-item\")[i]:\r\n",
        "      try:\r\n",
        "        if c.text:\r\n",
        "          count += 1\r\n",
        "      except:\r\n",
        "        pass\r\n",
        "    print(i, count)\r\n",
        "```\r\n",
        "\r\n",
        "```\r\n",
        "0 57\r\n",
        "1 46\r\n",
        "2 17\r\n",
        "3 14\r\n",
        "4 9\r\n",
        "5 7\r\n",
        "6 2\r\n",
        "```"
      ]
    },
    {
      "cell_type": "markdown",
      "metadata": {
        "id": "wcli6Rz0ykRi"
      },
      "source": [
        "## Methods\r\n",
        "\r\n",
        "- 링크 : https://paperswithcode.com/methods/\r\n",
        "- "
      ]
    },
    {
      "cell_type": "code",
      "metadata": {
        "id": "AxNay6zf1MGS"
      },
      "source": [
        "import requests\r\n",
        "from bs4 import BeautifulSoup\r\n",
        "\r\n",
        "url = \"https://paperswithcode.com/methods/\"\r\n",
        " \r\n",
        "response = requests.get(url)\r\n",
        "soup = BeautifulSoup(response.content, 'html.parser')\r\n",
        "div = soup.find('div', class_= \"infinite-container featured-methods\")\r\n",
        "div_group = div.find_all('div', class_= \"row task-group-title\") # \"infinite-container featured-methods\"\r\n",
        "# div_categories = div.find_all('div', class_= \"methods-all-tasks\")"
      ],
      "execution_count": 45,
      "outputs": []
    },
    {
      "cell_type": "markdown",
      "metadata": {
        "id": "RJcBAHuZFnDt"
      },
      "source": [
        "for i, d, in enumerate(div_group):\r\n",
        "  print(i, d.text.strip('\\n'))\r\n",
        "  try:\r\n",
        "    for a in d.select('a'):\r\n",
        "        print(a.get('href'))\r\n",
        "  except:\r\n",
        "    print(dir(d))"
      ]
    },
    {
      "cell_type": "code",
      "metadata": {
        "colab": {
          "base_uri": "https://localhost:8080/"
        },
        "id": "JhfENMQY2Htz",
        "outputId": "5b07fc0a-6f2f-41d8-eeec-ae029800b161"
      },
      "source": [
        "for i, d, in enumerate(div_group):\r\n",
        "  print(i, d.text.strip('\\n'))"
      ],
      "execution_count": 38,
      "outputs": [
        {
          "output_type": "stream",
          "text": [
            "0 General\n",
            "1 Computer Vision\n",
            "2 Natural Language Processing\n",
            "3 Reinforcement Learning\n",
            "4 Audio\n",
            "5 Sequential\n",
            "6 Graphs\n"
          ],
          "name": "stdout"
        }
      ]
    },
    {
      "cell_type": "code",
      "metadata": {
        "colab": {
          "base_uri": "https://localhost:8080/"
        },
        "id": "Xi06CYzNEd6N",
        "outputId": "a10cebfd-5e94-46f9-ffc7-03c8b157259f"
      },
      "source": [
        "groups_li = []\r\n",
        "for i, d, in enumerate(div_group):\r\n",
        "    for a in d.select('a'):\r\n",
        "        print(a.get('href'))\r\n",
        "        groups_li.append(url[:-9] + a.get('href'))\r\n",
        "print(groups_li)"
      ],
      "execution_count": 133,
      "outputs": [
        {
          "output_type": "stream",
          "text": [
            "/methods/area/general\n",
            "/methods/area/computer-vision\n",
            "/methods/area/natural-language-processing\n",
            "/methods/area/reinforcement-learning\n",
            "/methods/area/audio\n",
            "/methods/area/sequential\n",
            "/methods/area/graphs\n",
            "['https://paperswithcode.com/methods/area/general', 'https://paperswithcode.com/methods/area/computer-vision', 'https://paperswithcode.com/methods/area/natural-language-processing', 'https://paperswithcode.com/methods/area/reinforcement-learning', 'https://paperswithcode.com/methods/area/audio', 'https://paperswithcode.com/methods/area/sequential', 'https://paperswithcode.com/methods/area/graphs']\n"
          ],
          "name": "stdout"
        }
      ]
    },
    {
      "cell_type": "code",
      "metadata": {
        "id": "jmpbEGduE6HL"
      },
      "source": [
        "url2 = groups_li[0]\r\n",
        "\r\n",
        "response2 = requests.get(url2)\r\n",
        "soup2 = BeautifulSoup(response2.content, 'html.parser')\r\n",
        "# div = soup2.find('div', class_= \"infinite-container featured-methods\")\r\n",
        "div_group2 = soup2.find_all('div', class_= \"row task-group-title\")"
      ],
      "execution_count": 140,
      "outputs": []
    },
    {
      "cell_type": "code",
      "metadata": {
        "id": "E8Jtbwye1Rxy",
        "colab": {
          "base_uri": "https://localhost:8080/"
        },
        "outputId": "3afb9351-f893-4d23-fd64-eb71cfc1af8f"
      },
      "source": [
        "for i, d, in enumerate(div_group2):\r\n",
        "  print(i, d.text.strip('\\n'))"
      ],
      "execution_count": 141,
      "outputs": [
        {
          "output_type": "stream",
          "text": [
            "0 Optimization\n",
            "1 Skip Connection Blocks\n",
            "2 Stochastic Optimization\n",
            "3 Attention\n",
            "4 Activation Functions\n",
            "5 Regularization\n",
            "6 Normalization\n",
            "7 Attention Mechanisms\n",
            "8 Loss Functions\n",
            "9 Attention Modules\n",
            "10 Self-Supervised Learning\n",
            "11 Neural Architecture Search\n",
            "12 Learning Rate Schedules\n",
            "13 Feedforward Networks\n",
            "14 Adversarial Training\n",
            "15 Miscellaneous Components\n",
            "16 Interpretability\n",
            "17 Output Functions\n",
            "18 Semi-Supervised Learning Methods\n",
            "19 Discriminators\n",
            "20 Working Memory Models\n",
            "21 Prioritized Sampling\n",
            "22 Approximate Inference\n",
            "23 Affinity Functions\n",
            "24 Clustering\n",
            "25 Hyperparameter Search\n",
            "26 AutoML\n",
            "27 Non-Parametric Regression\n",
            "28 Non-Parametric Classification\n",
            "29 Dimensionality Reduction\n",
            "30 Initialization\n",
            "31 Markov Chain Monte Carlo\n",
            "32 Latent Variable Sampling\n",
            "33 Skip Connections\n",
            "34 Rule-based systems\n",
            "35 Structured Prediction\n",
            "36 Representation Learning\n",
            "37 Large Batch Optimization\n",
            "38 Generalized Additive Models\n",
            "39 Fine-Tuning\n",
            "40 Generalized Linear Models\n",
            "41 Distributions\n",
            "42 Meta-Learning Algorithms\n",
            "43 Parameter Norm Penalties\n",
            "44 Leadership Inference\n",
            "45 Fourier-related Transforms\n",
            "46 Network Shrinking\n",
            "47 Parameter Sharing\n",
            "48 Momentum Rules\n",
            "49 Bijective Transformation\n",
            "50 Variational Optimization\n",
            "51 Negative Sampling\n",
            "52 Hybrid Optimization\n",
            "53 Long-Range Interaction Layers\n",
            "54 Statistical Inference\n",
            "55 Distribution Approximation\n",
            "56 Twin Networks\n"
          ],
          "name": "stdout"
        }
      ]
    },
    {
      "cell_type": "code",
      "metadata": {
        "colab": {
          "base_uri": "https://localhost:8080/"
        },
        "id": "uI3ld0o_X3g4",
        "outputId": "3cf656d0-8161-4a45-a7df-fd45d5dcdf43"
      },
      "source": [
        "groups_li = []\r\n",
        "count=0\r\n",
        "for i, d, in enumerate(div_group2):\r\n",
        "    category = d.text.strip('\\n')\r\n",
        "    print(category)\r\n",
        "    print(d.select('a')[0].get('href'))\r\n",
        "#     for a in d.select('a'):\r\n",
        "#         count+=1\r\n",
        "#         print(count)\r\n",
        "#         print(a.get('href'))\r\n",
        "#         groups_li.append(url[:-9] + a.get('href'))\r\n",
        "# print(groups_li)"
      ],
      "execution_count": 170,
      "outputs": [
        {
          "output_type": "stream",
          "text": [
            "Optimization\n",
            "/methods/category/optimization\n",
            "Skip Connection Blocks\n",
            "/methods/category/skip-connection-blocks\n",
            "Stochastic Optimization\n",
            "/methods/category/stochastic-optimization\n",
            "Attention\n",
            "/methods/category/attention-mechanisms\n",
            "Activation Functions\n",
            "/methods/category/activation-functions\n",
            "Regularization\n",
            "/methods/category/regularization\n",
            "Normalization\n",
            "/methods/category/normalization\n",
            "Attention Mechanisms\n",
            "/methods/category/attention-mechanisms-1\n",
            "Loss Functions\n",
            "/methods/category/loss-functions\n",
            "Attention Modules\n",
            "/methods/category/attention-modules\n",
            "Self-Supervised Learning\n",
            "/methods/category/self-supervised-learning\n",
            "Neural Architecture Search\n",
            "/methods/category/neural-architecture-search\n",
            "Learning Rate Schedules\n",
            "/methods/category/learning-rate-schedules\n",
            "Feedforward Networks\n",
            "/methods/category/feedforward-networks\n",
            "Adversarial Training\n",
            "/methods/category/adversarial-training\n",
            "Miscellaneous Components\n",
            "/methods/category/miscellaneous-components\n",
            "Interpretability\n",
            "/methods/category/interpretability\n",
            "Output Functions\n",
            "/methods/category/output-functions\n",
            "Semi-Supervised Learning Methods\n",
            "/methods/category/semi-supervised-learning-methods\n",
            "Discriminators\n",
            "/methods/category/discriminators\n",
            "Working Memory Models\n",
            "/methods/category/working-memory-models\n",
            "Prioritized Sampling\n",
            "/methods/category/prioritized-sampling\n",
            "Approximate Inference\n",
            "/methods/category/approximate-inference\n",
            "Affinity Functions\n",
            "/methods/category/affinity-functions\n",
            "Clustering\n",
            "/methods/category/clustering\n",
            "Hyperparameter Search\n",
            "/methods/category/hyperparameter-search\n",
            "AutoML\n",
            "/methods/category/automl\n",
            "Non-Parametric Regression\n",
            "/methods/category/non-parametric-regression\n",
            "Non-Parametric Classification\n",
            "/methods/category/non-parametric-classifiers\n",
            "Dimensionality Reduction\n",
            "/methods/category/dimensionality-reduction\n",
            "Initialization\n",
            "/methods/category/initialization\n",
            "Markov Chain Monte Carlo\n",
            "/methods/category/markov-chain-monte-carlo\n",
            "Latent Variable Sampling\n",
            "/methods/category/latent-variable-sampling\n",
            "Skip Connections\n",
            "/methods/category/skip-connections\n",
            "Rule-based systems\n",
            "/methods/category/rule-based-systems\n",
            "Structured Prediction\n",
            "/methods/category/structured-prediction\n",
            "Representation Learning\n",
            "/methods/category/representation-learning\n",
            "Large Batch Optimization\n",
            "/methods/category/large-batch-optimization\n",
            "Generalized Additive Models\n",
            "/methods/category/generalized-additive-models\n",
            "Fine-Tuning\n",
            "/methods/category/fine-tuning\n",
            "Generalized Linear Models\n",
            "/methods/category/generalized-linear-models\n",
            "Distributions\n",
            "/methods/category/distributions\n",
            "Meta-Learning Algorithms\n",
            "/methods/category/meta-learning-algorithms\n",
            "Parameter Norm Penalties\n",
            "/methods/category/parameter-norm-penalties\n",
            "Leadership Inference\n",
            "/methods/category/leadership-inference\n",
            "Fourier-related Transforms\n",
            "/methods/category/fourier-related-transforms\n",
            "Network Shrinking\n",
            "/methods/category/network-shrinking\n",
            "Parameter Sharing\n",
            "/methods/category/parameter-sharing\n",
            "Momentum Rules\n",
            "/methods/category/momentum-rules\n",
            "Bijective Transformation\n",
            "/methods/category/bijective-transformation\n",
            "Variational Optimization\n",
            "/methods/category/variational-optimization\n",
            "Negative Sampling\n",
            "/methods/category/negative-sampling\n",
            "Hybrid Optimization\n",
            "/methods/category/hybrid-optimization\n",
            "Long-Range Interaction Layers\n",
            "/methods/category/long-range-interaction-layers\n",
            "Statistical Inference\n",
            "/methods/category/statistical-inference\n",
            "Distribution Approximation\n",
            "/methods/category/distribution-approximation\n",
            "Twin Networks\n",
            "/methods/category/twin-networks\n"
          ],
          "name": "stdout"
        }
      ]
    },
    {
      "cell_type": "code",
      "metadata": {
        "colab": {
          "base_uri": "https://localhost:8080/"
        },
        "id": "vqka0z3wGpBN",
        "outputId": "4b8b505d-26ec-4e64-cc8e-855634e8af72"
      },
      "source": [
        "groups_li = []\r\n",
        "for i, d, in enumerate(div_group2):\r\n",
        "    for a in d.select('a'):\r\n",
        "        print(a.get('href'))\r\n",
        "        groups_li.append(url[:-9] + a.get('href'))\r\n",
        "print(groups_li)"
      ],
      "execution_count": 142,
      "outputs": [
        {
          "output_type": "stream",
          "text": [
            "/methods/category/optimization\n",
            "/methods/category/skip-connection-blocks\n",
            "/methods/category/stochastic-optimization\n",
            "/methods/category/attention-mechanisms\n",
            "/methods/category/activation-functions\n",
            "/methods/category/regularization\n",
            "/methods/category/normalization\n",
            "/methods/category/attention-mechanisms-1\n",
            "/methods/category/loss-functions\n",
            "/methods/category/attention-modules\n",
            "/methods/category/self-supervised-learning\n",
            "/methods/category/neural-architecture-search\n",
            "/methods/category/learning-rate-schedules\n",
            "/methods/category/feedforward-networks\n",
            "/methods/category/adversarial-training\n",
            "/methods/category/miscellaneous-components\n",
            "/methods/category/interpretability\n",
            "/methods/category/output-functions\n",
            "/methods/category/semi-supervised-learning-methods\n",
            "/methods/category/discriminators\n",
            "/methods/category/working-memory-models\n",
            "/methods/category/prioritized-sampling\n",
            "/methods/category/approximate-inference\n",
            "/methods/category/affinity-functions\n",
            "/methods/category/clustering\n",
            "/methods/category/hyperparameter-search\n",
            "/methods/category/automl\n",
            "/methods/category/non-parametric-regression\n",
            "/methods/category/non-parametric-classifiers\n",
            "/methods/category/dimensionality-reduction\n",
            "/methods/category/initialization\n",
            "/methods/category/markov-chain-monte-carlo\n",
            "/methods/category/latent-variable-sampling\n",
            "/methods/category/skip-connections\n",
            "/methods/category/rule-based-systems\n",
            "/methods/category/structured-prediction\n",
            "/methods/category/representation-learning\n",
            "/methods/category/large-batch-optimization\n",
            "/methods/category/generalized-additive-models\n",
            "/methods/category/fine-tuning\n",
            "/methods/category/generalized-linear-models\n",
            "/methods/category/distributions\n",
            "/methods/category/meta-learning-algorithms\n",
            "/methods/category/parameter-norm-penalties\n",
            "/methods/category/leadership-inference\n",
            "/methods/category/fourier-related-transforms\n",
            "/methods/category/network-shrinking\n",
            "/methods/category/parameter-sharing\n",
            "/methods/category/momentum-rules\n",
            "/methods/category/bijective-transformation\n",
            "/methods/category/variational-optimization\n",
            "/methods/category/negative-sampling\n",
            "/methods/category/hybrid-optimization\n",
            "/methods/category/long-range-interaction-layers\n",
            "/methods/category/statistical-inference\n",
            "/methods/category/distribution-approximation\n",
            "/methods/category/twin-networks\n",
            "['https://paperswithcode.com/methods/category/optimization', 'https://paperswithcode.com/methods/category/skip-connection-blocks', 'https://paperswithcode.com/methods/category/stochastic-optimization', 'https://paperswithcode.com/methods/category/attention-mechanisms', 'https://paperswithcode.com/methods/category/activation-functions', 'https://paperswithcode.com/methods/category/regularization', 'https://paperswithcode.com/methods/category/normalization', 'https://paperswithcode.com/methods/category/attention-mechanisms-1', 'https://paperswithcode.com/methods/category/loss-functions', 'https://paperswithcode.com/methods/category/attention-modules', 'https://paperswithcode.com/methods/category/self-supervised-learning', 'https://paperswithcode.com/methods/category/neural-architecture-search', 'https://paperswithcode.com/methods/category/learning-rate-schedules', 'https://paperswithcode.com/methods/category/feedforward-networks', 'https://paperswithcode.com/methods/category/adversarial-training', 'https://paperswithcode.com/methods/category/miscellaneous-components', 'https://paperswithcode.com/methods/category/interpretability', 'https://paperswithcode.com/methods/category/output-functions', 'https://paperswithcode.com/methods/category/semi-supervised-learning-methods', 'https://paperswithcode.com/methods/category/discriminators', 'https://paperswithcode.com/methods/category/working-memory-models', 'https://paperswithcode.com/methods/category/prioritized-sampling', 'https://paperswithcode.com/methods/category/approximate-inference', 'https://paperswithcode.com/methods/category/affinity-functions', 'https://paperswithcode.com/methods/category/clustering', 'https://paperswithcode.com/methods/category/hyperparameter-search', 'https://paperswithcode.com/methods/category/automl', 'https://paperswithcode.com/methods/category/non-parametric-regression', 'https://paperswithcode.com/methods/category/non-parametric-classifiers', 'https://paperswithcode.com/methods/category/dimensionality-reduction', 'https://paperswithcode.com/methods/category/initialization', 'https://paperswithcode.com/methods/category/markov-chain-monte-carlo', 'https://paperswithcode.com/methods/category/latent-variable-sampling', 'https://paperswithcode.com/methods/category/skip-connections', 'https://paperswithcode.com/methods/category/rule-based-systems', 'https://paperswithcode.com/methods/category/structured-prediction', 'https://paperswithcode.com/methods/category/representation-learning', 'https://paperswithcode.com/methods/category/large-batch-optimization', 'https://paperswithcode.com/methods/category/generalized-additive-models', 'https://paperswithcode.com/methods/category/fine-tuning', 'https://paperswithcode.com/methods/category/generalized-linear-models', 'https://paperswithcode.com/methods/category/distributions', 'https://paperswithcode.com/methods/category/meta-learning-algorithms', 'https://paperswithcode.com/methods/category/parameter-norm-penalties', 'https://paperswithcode.com/methods/category/leadership-inference', 'https://paperswithcode.com/methods/category/fourier-related-transforms', 'https://paperswithcode.com/methods/category/network-shrinking', 'https://paperswithcode.com/methods/category/parameter-sharing', 'https://paperswithcode.com/methods/category/momentum-rules', 'https://paperswithcode.com/methods/category/bijective-transformation', 'https://paperswithcode.com/methods/category/variational-optimization', 'https://paperswithcode.com/methods/category/negative-sampling', 'https://paperswithcode.com/methods/category/hybrid-optimization', 'https://paperswithcode.com/methods/category/long-range-interaction-layers', 'https://paperswithcode.com/methods/category/statistical-inference', 'https://paperswithcode.com/methods/category/distribution-approximation', 'https://paperswithcode.com/methods/category/twin-networks']\n"
          ],
          "name": "stdout"
        }
      ]
    },
    {
      "cell_type": "code",
      "metadata": {
        "colab": {
          "base_uri": "https://localhost:8080/"
        },
        "id": "yzsJxgNeHHAj",
        "outputId": "f3dee5e0-d07a-4401-ffa5-01623be9f2f6"
      },
      "source": [
        "url3 = groups_li[0]\r\n",
        "\r\n",
        "response3 = requests.get(url3)\r\n",
        "soup3 = BeautifulSoup(response3.content, 'html.parser')\r\n",
        "# div = soup2.find('div', class_= \"infinite-container featured-methods\")\r\n",
        "# div_group3 = soup3.find_all('div', class_= \"row task-group-title\")\r\n",
        "\r\n",
        "# table id 가 methodsTable 인 테이블 가져오기\r\n",
        "table = soup3.find(lambda tag: tag.name=='table' and tag.has_attr('id') and tag['id']==\"methodsTable\")\r\n",
        "rows = table.findAll(lambda tag: tag.name=='div')\r\n",
        " \r\n",
        "model_names = [r.text.strip() for r in rows]\r\n",
        "print(model_names)\r\n",
        "len(model_names)"
      ],
      "execution_count": 144,
      "outputs": [
        {
          "output_type": "stream",
          "text": [
            "['Adam', 'SGD', 'ADMM', 'RMSProp', 'SGD with Momentum', 'Random Search', 'AdaGrad', 'Gravity', 'SAGA', 'LAMB', 'TTUR', 'Adafactor', 'FA', 'Gradient Clipping', 'AMSGrad', 'Nesterov Accelerated Gradient', 'DFA', 'AdamW', 'LARS', 'Natural Gradient Descent', 'KP', 'Population Based Training', 'Stochastic Gradient Variational Bayes', 'Stochastic Weight Averaging', 'MAS', 'AdaBound', 'DAC', 'RAdam', 'Apollo', 'AdaDelta', 'OHEM', 'NT-ASGD', 'ATSS', 'PISA', 'Lookahead', 'Demon', 'NADAM', 'SLR', 'AdaMax', 'IoU-Balanced Sampling', 'Polyak Averaging', 'QHM', 'AdaShift', 'Tree-structured Parzen Estimator Approach (TPE)', 'QHAdam', 'SGDW', 'AggMo', 'Demon CM', 'YellowFin', 'Demon ADAM', 'AMSBound', 'AdaMod', 'AdaSqrt', 'AdaHessian', 'MPSO', 'Distributed Shampoo', 'Harris Hawks optimization (HHO)', 'Grammatical evolution + Q-learning', 'Differentiable Hyperparameter Search', 'SM3', 'MADGRAD', 'HFPSO']\n"
          ],
          "name": "stdout"
        },
        {
          "output_type": "execute_result",
          "data": {
            "text/plain": [
              "62"
            ]
          },
          "metadata": {
            "tags": []
          },
          "execution_count": 144
        }
      ]
    },
    {
      "cell_type": "code",
      "metadata": {
        "colab": {
          "base_uri": "https://localhost:8080/"
        },
        "id": "v9IhGkFaSUZ-",
        "outputId": "ab34002e-01e9-44bb-f010-e0aa833a10b6"
      },
      "source": [
        "bool(None)"
      ],
      "execution_count": 162,
      "outputs": [
        {
          "output_type": "execute_result",
          "data": {
            "text/plain": [
              "False"
            ]
          },
          "metadata": {
            "tags": []
          },
          "execution_count": 162
        }
      ]
    },
    {
      "cell_type": "code",
      "metadata": {
        "colab": {
          "base_uri": "https://localhost:8080/"
        },
        "id": "7If-6p5sTxtP",
        "outputId": "656bac2b-91bf-4030-9622-efd94a56506a"
      },
      "source": [
        "odd = True\r\n",
        "print(odd)\r\n",
        "odd = ~odd\r\n",
        "print(odd)\r\n",
        "odd = ~odd\r\n",
        "print(odd)\r\n",
        "odd = ~odd\r\n",
        "print(odd)\r\n",
        "odd = ~odd\r\n",
        "print(odd)"
      ],
      "execution_count": 165,
      "outputs": [
        {
          "output_type": "stream",
          "text": [
            "True\n",
            "-2\n",
            "1\n",
            "-2\n",
            "1\n"
          ],
          "name": "stdout"
        }
      ]
    },
    {
      "cell_type": "code",
      "metadata": {
        "colab": {
          "base_uri": "https://localhost:8080/"
        },
        "id": "uKqm_-sWQ1_M",
        "outputId": "3f93c151-ba99-4596-9bac-6fbf0a957acd"
      },
      "source": [
        "~False, ~~~True"
      ],
      "execution_count": 161,
      "outputs": [
        {
          "output_type": "execute_result",
          "data": {
            "text/plain": [
              "(-1, -2)"
            ]
          },
          "metadata": {
            "tags": []
          },
          "execution_count": 161
        }
      ]
    },
    {
      "cell_type": "code",
      "metadata": {
        "colab": {
          "base_uri": "https://localhost:8080/"
        },
        "id": "uXB_CdDmHY1z",
        "outputId": "892b54c0-d562-44bc-ad34-dc7fb72c8c3f"
      },
      "source": [
        "test_rows = table.findAll(lambda tag: tag.name=='td')\r\n",
        "count = 0\r\n",
        "for r in test_rows:\r\n",
        "  e = r.text.strip()\r\n",
        "  try:\r\n",
        "    print(int(e))\r\n",
        "  except:\r\n",
        "    if e:\r\n",
        "      print(e)\r\n",
        "      count += 1"
      ],
      "execution_count": 153,
      "outputs": [
        {
          "output_type": "stream",
          "text": [
            "1 Adam\n",
            "2014\n",
            "3953\n",
            "2 SGD\n",
            "1951\n",
            "923\n",
            "3 ADMM\n",
            "2000\n",
            "232\n",
            "4 RMSProp\n",
            "2013\n",
            "210\n",
            "5 SGD with Momentum\n",
            "1999\n",
            "121\n",
            "6 Random Search\n",
            "2000\n",
            "116\n",
            "7 AdaGrad\n",
            "2011\n",
            "78\n",
            "8 Gravity\n",
            "2021\n",
            "67\n",
            "9 SAGA\n",
            "2014\n",
            "60\n",
            "10 LAMB\n",
            "2019\n",
            "58\n",
            "11 TTUR\n",
            "2017\n",
            "43\n",
            "12 Adafactor\n",
            "2018\n",
            "40\n",
            "13 FA\n",
            "2014\n",
            "39\n",
            "14 Gradient Clipping\n",
            "2000\n",
            "34\n",
            "15 AMSGrad\n",
            "2019\n",
            "25\n",
            "16 Nesterov Accelerated Gradient\n",
            "1983\n",
            "20\n",
            "17 DFA\n",
            "2016\n",
            "19\n",
            "18 AdamW\n",
            "2017\n",
            "17\n",
            "19 LARS\n",
            "2017\n",
            "16\n",
            "20 Natural Gradient Descent\n",
            "1998\n",
            "15\n",
            "21 KP\n",
            "2019\n",
            "15\n",
            "22 Population Based Training\n",
            "2017\n",
            "12\n",
            "23 Stochastic Gradient Variational Bayes\n",
            "2013\n",
            "12\n",
            "24 Stochastic Weight Averaging\n",
            "2018\n",
            "10\n",
            "25 MAS\n",
            "2020\n",
            "9\n",
            "26 AdaBound\n",
            "2019\n",
            "8\n",
            "27 DAC\n",
            "2020\n",
            "8\n",
            "28 RAdam\n",
            "2019\n",
            "7\n",
            "29 Apollo\n",
            "2020\n",
            "7\n",
            "30 AdaDelta\n",
            "2012\n",
            "6\n",
            "31 OHEM\n",
            "2016\n",
            "6\n",
            "32 NT-ASGD\n",
            "2017\n",
            "6\n",
            "33 ATSS\n",
            "2019\n",
            "5\n",
            "34 PISA\n",
            "2019\n",
            "5\n",
            "35 Lookahead\n",
            "2019\n",
            "4\n",
            "36 Demon\n",
            "2019\n",
            "3\n",
            "37 NADAM\n",
            "2015\n",
            "3\n",
            "38 SLR\n",
            "2020\n",
            "3\n",
            "39 AdaMax\n",
            "2014\n",
            "2\n",
            "40 IoU-Balanced Sampling\n",
            "2019\n",
            "2\n",
            "41 Polyak Averaging\n",
            "1991\n",
            "2\n",
            "42 QHM\n",
            "2018\n",
            "2\n",
            "43 AdaShift\n",
            "2018\n",
            "2\n",
            "44 Tree-structured Parzen Estimator Approach (TPE)\n",
            "2013\n",
            "2\n",
            "45 QHAdam\n",
            "2018\n",
            "1\n",
            "46 SGDW\n",
            "2017\n",
            "1\n",
            "47 AggMo\n",
            "2018\n",
            "1\n",
            "48 Demon CM\n",
            "2019\n",
            "1\n",
            "49 YellowFin\n",
            "2017\n",
            "1\n",
            "50 Demon ADAM\n",
            "2019\n",
            "1\n",
            "51 AMSBound\n",
            "2019\n",
            "1\n",
            "52 AdaMod\n",
            "2019\n",
            "1\n",
            "53 AdaSqrt\n",
            "2019\n",
            "1\n",
            "54 AdaHessian\n",
            "2020\n",
            "1\n",
            "55 MPSO\n",
            "2020\n",
            "1\n",
            "56 Distributed Shampoo\n",
            "2021\n",
            "1\n",
            "57 Harris Hawks optimization (HHO)\n",
            "2000\n",
            "1\n",
            "58 Grammatical evolution + Q-learning\n",
            "2020\n",
            "1\n",
            "59 Differentiable Hyperparameter Search\n",
            "2019\n",
            "1\n",
            "60 SM3\n",
            "2019\n",
            "1\n",
            "61 MADGRAD\n",
            "2021\n",
            "1\n",
            "62 HFPSO\n",
            "2000\n",
            "0\n"
          ],
          "name": "stdout"
        }
      ]
    },
    {
      "cell_type": "code",
      "metadata": {
        "id": "4mwcjmhnIohp"
      },
      "source": [
        "import pandas as pd\r\n",
        "class ML_Methods:\r\n",
        "    def __init__(self):\r\n",
        "        self.columns = ['area', 'category', 'method', 'year', 'papers']\r\n",
        "        self.df = pd.DataFrame(columns=self.columns)\r\n",
        "    def append(self, area, category, method, year, papers):\r\n",
        "        self.df = self.df.append(pd.Series([area, category, method, year, papers],index=self.df.columns),ignore_index=True)"
      ],
      "execution_count": null,
      "outputs": []
    },
    {
      "cell_type": "code",
      "metadata": {
        "id": "Mx5pqF74L-hp"
      },
      "source": [
        "ml_methods = Methods()\r\n",
        "for i, l in enumerate(li):\r\n",
        "  score = float(l.find_elements_by_css_selector(\"a > div > span:nth-child(3) > span > span:nth-child(1)\")[0].text[-5:])\r\n",
        "  if score > 0.75:\r\n",
        "    # print(score)\r\n",
        "    kernel_name = l.find_elements_by_css_selector(\"a > div > div\")[0].text\r\n",
        "    # print(kernel_name)\r\n",
        "    href = l.find_elements_by_css_selector('a')\r\n",
        "    author = href[0].get_attribute('href').split('/')[-1]\r\n",
        "    kernel_link = href[1].get_attribute('href')\r\n",
        "    downlink = href[-1].get_attribute('href')\r\n",
        "    kernel.append(i, score, author, kernel_name, kernel_link, downlink)\r\n",
        "    # print(author)\r\n",
        "    # print(kernel_link,downlink )\r\n",
        "  else:\r\n",
        "    break\r\n",
        " \r\n",
        "kernel.df"
      ],
      "execution_count": null,
      "outputs": []
    },
    {
      "cell_type": "code",
      "metadata": {
        "colab": {
          "base_uri": "https://localhost:8080/"
        },
        "id": "UTwvRBIRr0tV",
        "outputId": "219cb58d-3e2c-4fdb-afbe-bb19f7328a06"
      },
      "source": [
        "~0"
      ],
      "execution_count": 72,
      "outputs": [
        {
          "output_type": "execute_result",
          "data": {
            "text/plain": [
              "-1"
            ]
          },
          "metadata": {
            "tags": []
          },
          "execution_count": 72
        }
      ]
    },
    {
      "cell_type": "code",
      "metadata": {
        "colab": {
          "base_uri": "https://localhost:8080/",
          "height": 419
        },
        "id": "nnFrdBNQatXc",
        "outputId": "432b2071-9bcc-4bc9-d7c8-b546e0db82fd"
      },
      "source": [
        "import requests\r\n",
        "from bs4 import BeautifulSoup\r\n",
        "\r\n",
        "import pandas as pd\r\n",
        "\r\n",
        "url = \"https://paperswithcode.com/methods/\"\r\n",
        "\r\n",
        "\r\n",
        "def get_mathod(url3):\r\n",
        "    response3 = requests.get(url3)\r\n",
        "    soup3 = BeautifulSoup(response3.content, 'html.parser')\r\n",
        "\r\n",
        "    # table id 가 methodsTable 인 테이블 가져오기\r\n",
        "    table = soup3.find(lambda tag: tag.name=='table' and tag.has_attr('id') and tag['id']==\"methodsTable\")\r\n",
        "\r\n",
        "    rows = table.findAll(lambda tag: tag.name=='td')\r\n",
        "\r\n",
        "    odd = 1\r\n",
        "    method_df = pd.DataFrame(columns=['method', 'year', 'papers'])\r\n",
        "    method, year, papers = None, None, None\r\n",
        "    count = 0\r\n",
        "    for r in rows:\r\n",
        "        e = r.text.strip()\r\n",
        "        try:\r\n",
        "            e = int(e)\r\n",
        "            if odd  > 0 :\r\n",
        "                year = e\r\n",
        "                odd = ~odd\r\n",
        "                count += 1\r\n",
        "            else:\r\n",
        "                papers = e\r\n",
        "                odd = ~odd\r\n",
        "                count += 1\r\n",
        "                if count%3 == 0:\r\n",
        "                    # print(method, year, papers)\r\n",
        "                    method_df = method_df.append(pd.Series([method, year, papers],index=method_df.columns),ignore_index=True)\r\n",
        "                \r\n",
        "        except:\r\n",
        "            if e:\r\n",
        "                method = e\r\n",
        "                count += 1\r\n",
        "        \r\n",
        "            \r\n",
        "    \r\n",
        "    # print(method_df.tail(5))\r\n",
        "\r\n",
        "    return method_df #method_li\r\n",
        "\r\n",
        "\r\n",
        "def get_category(url2):\r\n",
        "    response2 = requests.get(url2)\r\n",
        "    soup2 = BeautifulSoup(response2.content, 'html.parser')\r\n",
        "    div_group2 = soup2.find_all('div', class_= \"row task-group-title\")\r\n",
        "\r\n",
        "    flug = True\r\n",
        "    for i, d, in enumerate(div_group2):\r\n",
        "        category = d.text.strip('\\n')\r\n",
        "        href = d.select('a')[0].get('href')\r\n",
        "        url3 = url[:-9] + href\r\n",
        "\r\n",
        "        if flug:\r\n",
        "            method_df = get_mathod(url3)\r\n",
        "            method_df['category'] = category\r\n",
        "            flug = False\r\n",
        "        else :\r\n",
        "            add_df = get_mathod(url3)\r\n",
        "            add_df['category'] = category\r\n",
        "            method_df = pd.concat([method_df,add_df])\r\n",
        "\r\n",
        "    # print(method_df.tail(5))\r\n",
        "\r\n",
        "    return method_df\r\n",
        "\r\n",
        "\r\n",
        "def get_area(url):\r\n",
        "    response = requests.get(url)\r\n",
        "    soup = BeautifulSoup(response.content, 'html.parser')\r\n",
        "    div_group = soup.find_all('div', class_= \"row task-group-title\")\r\n",
        "\r\n",
        "    flug = True\r\n",
        "    for i, d, in enumerate(div_group):\r\n",
        "        area = d.text.strip('\\n')\r\n",
        "        href = d.select('a')[0].get('href')\r\n",
        "        # area = href.split('/')[-1]\r\n",
        "        url2 = url[:-9] + href\r\n",
        "\r\n",
        "        if flug:\r\n",
        "            method_df = get_category(url2)\r\n",
        "            method_df['area'] = area\r\n",
        "            flug = False\r\n",
        "        else :\r\n",
        "            add_df = get_category(url2)\r\n",
        "            add_df['area'] = area\r\n",
        "            method_df = pd.concat([method_df,add_df])\t\t\r\n",
        "\r\n",
        "    # print(method_df.tail(5))\r\n",
        "\r\n",
        "    return method_df\r\n",
        "\r\n",
        "\r\n",
        "method_df = get_area(url)\r\n",
        "method_df"
      ],
      "execution_count": 19,
      "outputs": [
        {
          "output_type": "execute_result",
          "data": {
            "text/html": [
              "<div>\n",
              "<style scoped>\n",
              "    .dataframe tbody tr th:only-of-type {\n",
              "        vertical-align: middle;\n",
              "    }\n",
              "\n",
              "    .dataframe tbody tr th {\n",
              "        vertical-align: top;\n",
              "    }\n",
              "\n",
              "    .dataframe thead th {\n",
              "        text-align: right;\n",
              "    }\n",
              "</style>\n",
              "<table border=\"1\" class=\"dataframe\">\n",
              "  <thead>\n",
              "    <tr style=\"text-align: right;\">\n",
              "      <th></th>\n",
              "      <th>method</th>\n",
              "      <th>year</th>\n",
              "      <th>papers</th>\n",
              "      <th>category</th>\n",
              "      <th>area</th>\n",
              "    </tr>\n",
              "  </thead>\n",
              "  <tbody>\n",
              "    <tr>\n",
              "      <th>0</th>\n",
              "      <td>Adam</td>\n",
              "      <td>2014</td>\n",
              "      <td>3953</td>\n",
              "      <td>Optimization</td>\n",
              "      <td>General</td>\n",
              "    </tr>\n",
              "    <tr>\n",
              "      <th>1</th>\n",
              "      <td>SGD</td>\n",
              "      <td>1951</td>\n",
              "      <td>923</td>\n",
              "      <td>Optimization</td>\n",
              "      <td>General</td>\n",
              "    </tr>\n",
              "    <tr>\n",
              "      <th>2</th>\n",
              "      <td>ADMM</td>\n",
              "      <td>2000</td>\n",
              "      <td>232</td>\n",
              "      <td>Optimization</td>\n",
              "      <td>General</td>\n",
              "    </tr>\n",
              "    <tr>\n",
              "      <th>3</th>\n",
              "      <td>RMSProp</td>\n",
              "      <td>2013</td>\n",
              "      <td>210</td>\n",
              "      <td>Optimization</td>\n",
              "      <td>General</td>\n",
              "    </tr>\n",
              "    <tr>\n",
              "      <th>4</th>\n",
              "      <td>SGD with Momentum</td>\n",
              "      <td>1999</td>\n",
              "      <td>121</td>\n",
              "      <td>Optimization</td>\n",
              "      <td>General</td>\n",
              "    </tr>\n",
              "    <tr>\n",
              "      <th>...</th>\n",
              "      <td>...</td>\n",
              "      <td>...</td>\n",
              "      <td>...</td>\n",
              "      <td>...</td>\n",
              "      <td>...</td>\n",
              "    </tr>\n",
              "    <tr>\n",
              "      <th>7</th>\n",
              "      <td>RE-NET</td>\n",
              "      <td>2019</td>\n",
              "      <td>2</td>\n",
              "      <td>Graph Models</td>\n",
              "      <td>Graphs</td>\n",
              "    </tr>\n",
              "    <tr>\n",
              "      <th>8</th>\n",
              "      <td>Symbolic Deep Learning</td>\n",
              "      <td>2020</td>\n",
              "      <td>1</td>\n",
              "      <td>Graph Models</td>\n",
              "      <td>Graphs</td>\n",
              "    </tr>\n",
              "    <tr>\n",
              "      <th>9</th>\n",
              "      <td>HMGNN</td>\n",
              "      <td>2020</td>\n",
              "      <td>1</td>\n",
              "      <td>Graph Models</td>\n",
              "      <td>Graphs</td>\n",
              "    </tr>\n",
              "    <tr>\n",
              "      <th>10</th>\n",
              "      <td>CGNN</td>\n",
              "      <td>2019</td>\n",
              "      <td>1</td>\n",
              "      <td>Graph Models</td>\n",
              "      <td>Graphs</td>\n",
              "    </tr>\n",
              "    <tr>\n",
              "      <th>11</th>\n",
              "      <td>MXMNet</td>\n",
              "      <td>2020</td>\n",
              "      <td>1</td>\n",
              "      <td>Graph Models</td>\n",
              "      <td>Graphs</td>\n",
              "    </tr>\n",
              "  </tbody>\n",
              "</table>\n",
              "<p>1552 rows × 5 columns</p>\n",
              "</div>"
            ],
            "text/plain": [
              "                    method  year papers      category     area\n",
              "0                     Adam  2014   3953  Optimization  General\n",
              "1                      SGD  1951    923  Optimization  General\n",
              "2                     ADMM  2000    232  Optimization  General\n",
              "3                  RMSProp  2013    210  Optimization  General\n",
              "4        SGD with Momentum  1999    121  Optimization  General\n",
              "..                     ...   ...    ...           ...      ...\n",
              "7                   RE-NET  2019      2  Graph Models   Graphs\n",
              "8   Symbolic Deep Learning  2020      1  Graph Models   Graphs\n",
              "9                    HMGNN  2020      1  Graph Models   Graphs\n",
              "10                    CGNN  2019      1  Graph Models   Graphs\n",
              "11                  MXMNet  2020      1  Graph Models   Graphs\n",
              "\n",
              "[1552 rows x 5 columns]"
            ]
          },
          "metadata": {
            "tags": []
          },
          "execution_count": 19
        }
      ]
    },
    {
      "cell_type": "code",
      "metadata": {
        "id": "wyR_XkDxnCKx"
      },
      "source": [
        "df = method_df.copy()"
      ],
      "execution_count": 20,
      "outputs": []
    },
    {
      "cell_type": "code",
      "metadata": {
        "colab": {
          "base_uri": "https://localhost:8080/"
        },
        "id": "EChx-GWex4bq",
        "outputId": "63bd8d97-6c1d-489e-ffdb-dfff498ac3c3"
      },
      "source": [
        "df.describe"
      ],
      "execution_count": 27,
      "outputs": [
        {
          "output_type": "execute_result",
          "data": {
            "text/plain": [
              "<bound method NDFrame.describe of                     method  year papers      category     area\n",
              "0                     Adam  2014   3953  Optimization  General\n",
              "1                      SGD  1951    923  Optimization  General\n",
              "2                     ADMM  2000    232  Optimization  General\n",
              "3                  RMSProp  2013    210  Optimization  General\n",
              "4        SGD with Momentum  1999    121  Optimization  General\n",
              "..                     ...   ...    ...           ...      ...\n",
              "7                   RE-NET  2019      2  Graph Models   Graphs\n",
              "8   Symbolic Deep Learning  2020      1  Graph Models   Graphs\n",
              "9                    HMGNN  2020      1  Graph Models   Graphs\n",
              "10                    CGNN  2019      1  Graph Models   Graphs\n",
              "11                  MXMNet  2020      1  Graph Models   Graphs\n",
              "\n",
              "[1552 rows x 5 columns]>"
            ]
          },
          "metadata": {
            "tags": []
          },
          "execution_count": 27
        }
      ]
    },
    {
      "cell_type": "code",
      "metadata": {
        "colab": {
          "base_uri": "https://localhost:8080/"
        },
        "id": "YGeXASexobUg",
        "outputId": "94adc4e6-1299-4e9b-b947-759ef3c731ea"
      },
      "source": [
        "df1 = df.groupby(['area', 'category']).size()\r\n",
        "df1"
      ],
      "execution_count": 21,
      "outputs": [
        {
          "output_type": "execute_result",
          "data": {
            "text/plain": [
              "area        category                   \n",
              "Audio       Audio Artifact Removal          1\n",
              "            Audio Model Blocks             11\n",
              "            Generative Audio Models         9\n",
              "            Music source separation         1\n",
              "            Phase Reconstruction            1\n",
              "                                           ..\n",
              "Sequential  Recurrent Neural Networks      30\n",
              "            Sequence To Sequence Models    12\n",
              "            Sequential Blocks               1\n",
              "            Temporal Convolutions           7\n",
              "            Time Series Analysis            5\n",
              "Length: 152, dtype: int64"
            ]
          },
          "metadata": {
            "tags": []
          },
          "execution_count": 21
        }
      ]
    },
    {
      "cell_type": "code",
      "metadata": {
        "colab": {
          "base_uri": "https://localhost:8080/"
        },
        "id": "H6PLBNmbseem",
        "outputId": "a52ae1b6-5704-46d4-c9f3-a92644014d33"
      },
      "source": [
        "df1.loc['Computer Vision', 'Image Models']"
      ],
      "execution_count": 22,
      "outputs": [
        {
          "output_type": "execute_result",
          "data": {
            "text/plain": [
              "98"
            ]
          },
          "metadata": {
            "tags": []
          },
          "execution_count": 22
        }
      ]
    },
    {
      "cell_type": "code",
      "metadata": {
        "colab": {
          "base_uri": "https://localhost:8080/",
          "height": 450
        },
        "id": "P0G0O2a3ngGu",
        "outputId": "ab75d290-5994-4ccc-fb31-f6a5ce24d36b"
      },
      "source": [
        "df2 = df.set_index(['area', 'category'])\r\n",
        "df2"
      ],
      "execution_count": 29,
      "outputs": [
        {
          "output_type": "execute_result",
          "data": {
            "text/html": [
              "<div>\n",
              "<style scoped>\n",
              "    .dataframe tbody tr th:only-of-type {\n",
              "        vertical-align: middle;\n",
              "    }\n",
              "\n",
              "    .dataframe tbody tr th {\n",
              "        vertical-align: top;\n",
              "    }\n",
              "\n",
              "    .dataframe thead th {\n",
              "        text-align: right;\n",
              "    }\n",
              "</style>\n",
              "<table border=\"1\" class=\"dataframe\">\n",
              "  <thead>\n",
              "    <tr style=\"text-align: right;\">\n",
              "      <th></th>\n",
              "      <th></th>\n",
              "      <th>method</th>\n",
              "      <th>year</th>\n",
              "      <th>papers</th>\n",
              "    </tr>\n",
              "    <tr>\n",
              "      <th>area</th>\n",
              "      <th>category</th>\n",
              "      <th></th>\n",
              "      <th></th>\n",
              "      <th></th>\n",
              "    </tr>\n",
              "  </thead>\n",
              "  <tbody>\n",
              "    <tr>\n",
              "      <th rowspan=\"5\" valign=\"top\">General</th>\n",
              "      <th>Optimization</th>\n",
              "      <td>Adam</td>\n",
              "      <td>2014</td>\n",
              "      <td>3953</td>\n",
              "    </tr>\n",
              "    <tr>\n",
              "      <th>Optimization</th>\n",
              "      <td>SGD</td>\n",
              "      <td>1951</td>\n",
              "      <td>923</td>\n",
              "    </tr>\n",
              "    <tr>\n",
              "      <th>Optimization</th>\n",
              "      <td>ADMM</td>\n",
              "      <td>2000</td>\n",
              "      <td>232</td>\n",
              "    </tr>\n",
              "    <tr>\n",
              "      <th>Optimization</th>\n",
              "      <td>RMSProp</td>\n",
              "      <td>2013</td>\n",
              "      <td>210</td>\n",
              "    </tr>\n",
              "    <tr>\n",
              "      <th>Optimization</th>\n",
              "      <td>SGD with Momentum</td>\n",
              "      <td>1999</td>\n",
              "      <td>121</td>\n",
              "    </tr>\n",
              "    <tr>\n",
              "      <th>...</th>\n",
              "      <th>...</th>\n",
              "      <td>...</td>\n",
              "      <td>...</td>\n",
              "      <td>...</td>\n",
              "    </tr>\n",
              "    <tr>\n",
              "      <th rowspan=\"5\" valign=\"top\">Graphs</th>\n",
              "      <th>Graph Models</th>\n",
              "      <td>RE-NET</td>\n",
              "      <td>2019</td>\n",
              "      <td>2</td>\n",
              "    </tr>\n",
              "    <tr>\n",
              "      <th>Graph Models</th>\n",
              "      <td>Symbolic Deep Learning</td>\n",
              "      <td>2020</td>\n",
              "      <td>1</td>\n",
              "    </tr>\n",
              "    <tr>\n",
              "      <th>Graph Models</th>\n",
              "      <td>HMGNN</td>\n",
              "      <td>2020</td>\n",
              "      <td>1</td>\n",
              "    </tr>\n",
              "    <tr>\n",
              "      <th>Graph Models</th>\n",
              "      <td>CGNN</td>\n",
              "      <td>2019</td>\n",
              "      <td>1</td>\n",
              "    </tr>\n",
              "    <tr>\n",
              "      <th>Graph Models</th>\n",
              "      <td>MXMNet</td>\n",
              "      <td>2020</td>\n",
              "      <td>1</td>\n",
              "    </tr>\n",
              "  </tbody>\n",
              "</table>\n",
              "<p>1552 rows × 3 columns</p>\n",
              "</div>"
            ],
            "text/plain": [
              "                                      method  year papers\n",
              "area    category                                         \n",
              "General Optimization                    Adam  2014   3953\n",
              "        Optimization                     SGD  1951    923\n",
              "        Optimization                    ADMM  2000    232\n",
              "        Optimization                 RMSProp  2013    210\n",
              "        Optimization       SGD with Momentum  1999    121\n",
              "...                                      ...   ...    ...\n",
              "Graphs  Graph Models                  RE-NET  2019      2\n",
              "        Graph Models  Symbolic Deep Learning  2020      1\n",
              "        Graph Models                   HMGNN  2020      1\n",
              "        Graph Models                    CGNN  2019      1\n",
              "        Graph Models                  MXMNet  2020      1\n",
              "\n",
              "[1552 rows x 3 columns]"
            ]
          },
          "metadata": {
            "tags": []
          },
          "execution_count": 29
        }
      ]
    },
    {
      "cell_type": "code",
      "metadata": {
        "colab": {
          "base_uri": "https://localhost:8080/"
        },
        "id": "Ll9Jk5yqiFZY",
        "outputId": "f5c6cf8d-af6a-489b-e60f-b087a56a0ab8"
      },
      "source": [
        "len(set(df2.index))"
      ],
      "execution_count": 30,
      "outputs": [
        {
          "output_type": "execute_result",
          "data": {
            "text/plain": [
              "152"
            ]
          },
          "metadata": {
            "tags": []
          },
          "execution_count": 30
        }
      ]
    },
    {
      "cell_type": "code",
      "metadata": {
        "colab": {
          "base_uri": "https://localhost:8080/"
        },
        "id": "W7nXY58ehZ46",
        "outputId": "4ff42b95-2bc3-4e9d-cd99-a4ef6f8d284d"
      },
      "source": [
        "df2.index.unique(level=0)"
      ],
      "execution_count": 31,
      "outputs": [
        {
          "output_type": "execute_result",
          "data": {
            "text/plain": [
              "Index(['General', 'Computer Vision', 'Natural Language Processing',\n",
              "       'Reinforcement Learning', 'Audio', 'Sequential', 'Graphs'],\n",
              "      dtype='object', name='area')"
            ]
          },
          "metadata": {
            "tags": []
          },
          "execution_count": 31
        }
      ]
    },
    {
      "cell_type": "code",
      "metadata": {
        "colab": {
          "base_uri": "https://localhost:8080/"
        },
        "id": "grZ5_brpnvib",
        "outputId": "2f0c4109-693f-4104-fe2c-c81391ad6f26"
      },
      "source": [
        "df2.index.unique(level=1)"
      ],
      "execution_count": 32,
      "outputs": [
        {
          "output_type": "execute_result",
          "data": {
            "text/plain": [
              "Index(['Optimization', 'Skip Connection Blocks', 'Stochastic Optimization',\n",
              "       'Attention', 'Activation Functions', 'Regularization', 'Normalization',\n",
              "       'Attention Mechanisms', 'Loss Functions', 'Attention Modules',\n",
              "       ...\n",
              "       'Speech Synthesis Blocks', 'Recurrent Neural Networks',\n",
              "       'Sequence To Sequence Models', 'Temporal Convolutions',\n",
              "       'Time Series Analysis', 'Bidirectional Recurrent Neural Networks',\n",
              "       'Generative Sequence Models', 'Sequential Blocks', 'Graph Embeddings',\n",
              "       'Graph Models'],\n",
              "      dtype='object', name='category', length=152)"
            ]
          },
          "metadata": {
            "tags": []
          },
          "execution_count": 32
        }
      ]
    },
    {
      "cell_type": "code",
      "metadata": {
        "colab": {
          "base_uri": "https://localhost:8080/"
        },
        "id": "JYmkShrYkhRq",
        "outputId": "0abb6f96-fec1-47c8-be9f-794e9ec7b5ec"
      },
      "source": [
        "dic = {'General':0, 'Computer Vision':0, 'Natural Language Processing':0,'Reinforcement Learning':0, 'Audio':0, 'Sequential':0, 'Graphs':0}\r\n",
        "\r\n",
        "for area, category in list(df2.index.drop_duplicates()):\r\n",
        "    dic[area] +=1\r\n",
        "print(dic)"
      ],
      "execution_count": 37,
      "outputs": [
        {
          "output_type": "stream",
          "text": [
            "{'General': 57, 'Computer Vision': 46, 'Natural Language Processing': 17, 'Reinforcement Learning': 14, 'Audio': 9, 'Sequential': 7, 'Graphs': 2}\n"
          ],
          "name": "stdout"
        }
      ]
    },
    {
      "cell_type": "code",
      "metadata": {
        "colab": {
          "base_uri": "https://localhost:8080/",
          "height": 503
        },
        "id": "e0w3gBi6peBS",
        "outputId": "efff94bb-72a3-47bd-8a14-8e2ee1499581"
      },
      "source": [
        "image_models_df = df2.loc['Computer Vision', 'Image Models']\r\n",
        "image_models_df"
      ],
      "execution_count": 33,
      "outputs": [
        {
          "output_type": "stream",
          "text": [
            "/usr/local/lib/python3.7/dist-packages/ipykernel_launcher.py:1: PerformanceWarning: indexing past lexsort depth may impact performance.\n",
            "  \"\"\"Entry point for launching an IPython kernel.\n"
          ],
          "name": "stderr"
        },
        {
          "output_type": "execute_result",
          "data": {
            "text/html": [
              "<div>\n",
              "<style scoped>\n",
              "    .dataframe tbody tr th:only-of-type {\n",
              "        vertical-align: middle;\n",
              "    }\n",
              "\n",
              "    .dataframe tbody tr th {\n",
              "        vertical-align: top;\n",
              "    }\n",
              "\n",
              "    .dataframe thead th {\n",
              "        text-align: right;\n",
              "    }\n",
              "</style>\n",
              "<table border=\"1\" class=\"dataframe\">\n",
              "  <thead>\n",
              "    <tr style=\"text-align: right;\">\n",
              "      <th></th>\n",
              "      <th></th>\n",
              "      <th>method</th>\n",
              "      <th>year</th>\n",
              "      <th>papers</th>\n",
              "    </tr>\n",
              "    <tr>\n",
              "      <th>area</th>\n",
              "      <th>category</th>\n",
              "      <th></th>\n",
              "      <th></th>\n",
              "      <th></th>\n",
              "    </tr>\n",
              "  </thead>\n",
              "  <tbody>\n",
              "    <tr>\n",
              "      <th rowspan=\"11\" valign=\"top\">Computer Vision</th>\n",
              "      <th>Image Models</th>\n",
              "      <td>ResNet</td>\n",
              "      <td>2015</td>\n",
              "      <td>1074</td>\n",
              "    </tr>\n",
              "    <tr>\n",
              "      <th>Image Models</th>\n",
              "      <td>AlexNet</td>\n",
              "      <td>2012</td>\n",
              "      <td>287</td>\n",
              "    </tr>\n",
              "    <tr>\n",
              "      <th>Image Models</th>\n",
              "      <td>VGG</td>\n",
              "      <td>2014</td>\n",
              "      <td>273</td>\n",
              "    </tr>\n",
              "    <tr>\n",
              "      <th>Image Models</th>\n",
              "      <td>DenseNet</td>\n",
              "      <td>2016</td>\n",
              "      <td>232</td>\n",
              "    </tr>\n",
              "    <tr>\n",
              "      <th>Image Models</th>\n",
              "      <td>MobileNetV2</td>\n",
              "      <td>2018</td>\n",
              "      <td>133</td>\n",
              "    </tr>\n",
              "    <tr>\n",
              "      <th>...</th>\n",
              "      <td>...</td>\n",
              "      <td>...</td>\n",
              "      <td>...</td>\n",
              "    </tr>\n",
              "    <tr>\n",
              "      <th>Image Models</th>\n",
              "      <td>Bottleneck Transformer</td>\n",
              "      <td>2021</td>\n",
              "      <td>1</td>\n",
              "    </tr>\n",
              "    <tr>\n",
              "      <th>Image Models</th>\n",
              "      <td>SANet</td>\n",
              "      <td>2020</td>\n",
              "      <td>1</td>\n",
              "    </tr>\n",
              "    <tr>\n",
              "      <th>Image Models</th>\n",
              "      <td>TNT</td>\n",
              "      <td>2021</td>\n",
              "      <td>1</td>\n",
              "    </tr>\n",
              "    <tr>\n",
              "      <th>Image Models</th>\n",
              "      <td>SKNet</td>\n",
              "      <td>2000</td>\n",
              "      <td>0</td>\n",
              "    </tr>\n",
              "    <tr>\n",
              "      <th>Image Models</th>\n",
              "      <td>LR-Net</td>\n",
              "      <td>2000</td>\n",
              "      <td>0</td>\n",
              "    </tr>\n",
              "  </tbody>\n",
              "</table>\n",
              "<p>98 rows × 3 columns</p>\n",
              "</div>"
            ],
            "text/plain": [
              "                                              method  year papers\n",
              "area            category                                         \n",
              "Computer Vision Image Models                  ResNet  2015   1074\n",
              "                Image Models                 AlexNet  2012    287\n",
              "                Image Models                     VGG  2014    273\n",
              "                Image Models                DenseNet  2016    232\n",
              "                Image Models             MobileNetV2  2018    133\n",
              "...                                              ...   ...    ...\n",
              "                Image Models  Bottleneck Transformer  2021      1\n",
              "                Image Models                   SANet  2020      1\n",
              "                Image Models                     TNT  2021      1\n",
              "                Image Models                   SKNet  2000      0\n",
              "                Image Models                  LR-Net  2000      0\n",
              "\n",
              "[98 rows x 3 columns]"
            ]
          },
          "metadata": {
            "tags": []
          },
          "execution_count": 33
        }
      ]
    },
    {
      "cell_type": "code",
      "metadata": {
        "colab": {
          "base_uri": "https://localhost:8080/"
        },
        "id": "Oy-UupGvsnsV",
        "outputId": "009fb626-d161-45e6-a2af-13b6472e7b0c"
      },
      "source": [
        "len(image_models_df['method'].unique())"
      ],
      "execution_count": 34,
      "outputs": [
        {
          "output_type": "execute_result",
          "data": {
            "text/plain": [
              "98"
            ]
          },
          "metadata": {
            "tags": []
          },
          "execution_count": 34
        }
      ]
    },
    {
      "cell_type": "code",
      "metadata": {
        "colab": {
          "base_uri": "https://localhost:8080/",
          "height": 141
        },
        "id": "ldCbeorztGvG",
        "outputId": "e5cd0f4d-f926-4ed1-fd78-cf9e052c7fa1"
      },
      "source": [
        "image_models_df[image_models_df['papers']==0]"
      ],
      "execution_count": 35,
      "outputs": [
        {
          "output_type": "execute_result",
          "data": {
            "text/html": [
              "<div>\n",
              "<style scoped>\n",
              "    .dataframe tbody tr th:only-of-type {\n",
              "        vertical-align: middle;\n",
              "    }\n",
              "\n",
              "    .dataframe tbody tr th {\n",
              "        vertical-align: top;\n",
              "    }\n",
              "\n",
              "    .dataframe thead th {\n",
              "        text-align: right;\n",
              "    }\n",
              "</style>\n",
              "<table border=\"1\" class=\"dataframe\">\n",
              "  <thead>\n",
              "    <tr style=\"text-align: right;\">\n",
              "      <th></th>\n",
              "      <th></th>\n",
              "      <th>method</th>\n",
              "      <th>year</th>\n",
              "      <th>papers</th>\n",
              "    </tr>\n",
              "    <tr>\n",
              "      <th>area</th>\n",
              "      <th>category</th>\n",
              "      <th></th>\n",
              "      <th></th>\n",
              "      <th></th>\n",
              "    </tr>\n",
              "  </thead>\n",
              "  <tbody>\n",
              "    <tr>\n",
              "      <th rowspan=\"2\" valign=\"top\">Computer Vision</th>\n",
              "      <th>Image Models</th>\n",
              "      <td>SKNet</td>\n",
              "      <td>2000</td>\n",
              "      <td>0</td>\n",
              "    </tr>\n",
              "    <tr>\n",
              "      <th>Image Models</th>\n",
              "      <td>LR-Net</td>\n",
              "      <td>2000</td>\n",
              "      <td>0</td>\n",
              "    </tr>\n",
              "  </tbody>\n",
              "</table>\n",
              "</div>"
            ],
            "text/plain": [
              "                              method  year papers\n",
              "area            category                         \n",
              "Computer Vision Image Models   SKNet  2000      0\n",
              "                Image Models  LR-Net  2000      0"
            ]
          },
          "metadata": {
            "tags": []
          },
          "execution_count": 35
        }
      ]
    },
    {
      "cell_type": "code",
      "metadata": {
        "colab": {
          "base_uri": "https://localhost:8080/",
          "height": 110
        },
        "id": "Q6w_Ij8Pp1AH",
        "outputId": "0b79b75e-8e5b-4eae-97a3-d022f5a96557"
      },
      "source": [
        "image_models_df[image_models_df['method'] == 'VGG']"
      ],
      "execution_count": 36,
      "outputs": [
        {
          "output_type": "execute_result",
          "data": {
            "text/html": [
              "<div>\n",
              "<style scoped>\n",
              "    .dataframe tbody tr th:only-of-type {\n",
              "        vertical-align: middle;\n",
              "    }\n",
              "\n",
              "    .dataframe tbody tr th {\n",
              "        vertical-align: top;\n",
              "    }\n",
              "\n",
              "    .dataframe thead th {\n",
              "        text-align: right;\n",
              "    }\n",
              "</style>\n",
              "<table border=\"1\" class=\"dataframe\">\n",
              "  <thead>\n",
              "    <tr style=\"text-align: right;\">\n",
              "      <th></th>\n",
              "      <th></th>\n",
              "      <th>method</th>\n",
              "      <th>year</th>\n",
              "      <th>papers</th>\n",
              "    </tr>\n",
              "    <tr>\n",
              "      <th>area</th>\n",
              "      <th>category</th>\n",
              "      <th></th>\n",
              "      <th></th>\n",
              "      <th></th>\n",
              "    </tr>\n",
              "  </thead>\n",
              "  <tbody>\n",
              "    <tr>\n",
              "      <th>Computer Vision</th>\n",
              "      <th>Image Models</th>\n",
              "      <td>VGG</td>\n",
              "      <td>2014</td>\n",
              "      <td>273</td>\n",
              "    </tr>\n",
              "  </tbody>\n",
              "</table>\n",
              "</div>"
            ],
            "text/plain": [
              "                             method  year papers\n",
              "area            category                        \n",
              "Computer Vision Image Models    VGG  2014    273"
            ]
          },
          "metadata": {
            "tags": []
          },
          "execution_count": 36
        }
      ]
    },
    {
      "cell_type": "code",
      "metadata": {
        "colab": {
          "base_uri": "https://localhost:8080/"
        },
        "id": "KJq5GPvEgE9E",
        "outputId": "709ed27a-d39e-4ed0-d208-30ec813e25f1"
      },
      "source": [
        "df.columns"
      ],
      "execution_count": 39,
      "outputs": [
        {
          "output_type": "execute_result",
          "data": {
            "text/plain": [
              "Index(['method', 'year', 'papers', 'category', 'area'], dtype='object')"
            ]
          },
          "metadata": {
            "tags": []
          },
          "execution_count": 39
        }
      ]
    },
    {
      "cell_type": "code",
      "metadata": {
        "id": "0JQjTzR1zqUO"
      },
      "source": [
        "df_save1 = df[['area', 'category', 'method', 'year', 'papers']].reindex()\r\n",
        "df_save1.to_csv('mathods.csv')\r\n",
        "df2.to_csv('mathods_multiIdx.csv')"
      ],
      "execution_count": 47,
      "outputs": []
    },
    {
      "cell_type": "code",
      "metadata": {
        "colab": {
          "base_uri": "https://localhost:8080/"
        },
        "id": "k3f_F2x80ZVp",
        "outputId": "f825bad3-7666-4e79-ecfd-f55eaf3c2c6b"
      },
      "source": [
        "!ls"
      ],
      "execution_count": 48,
      "outputs": [
        {
          "output_type": "stream",
          "text": [
            "mathods.csv  mathods_multiIdx.csv  sample_data\n"
          ],
          "name": "stdout"
        }
      ]
    },
    {
      "cell_type": "code",
      "metadata": {
        "id": "YDw2X5kV09_k"
      },
      "source": [
        ""
      ],
      "execution_count": null,
      "outputs": []
    }
  ]
}